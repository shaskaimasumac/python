{
  "cells": [
    {
      "cell_type": "markdown",
      "metadata": {
        "id": "m0os2if7vEdp"
      },
      "source": [
        "# **TALLER INTRODUCTORIO A PYTHON**\n",
        "\n",
        "---\n",
        "\n",
        "\n",
        "\n",
        "> Sesión 1: 4 de marzo\n",
        "\n"
      ]
    },
    {
      "cell_type": "markdown",
      "metadata": {
        "id": "cIy0b9nQvEdt"
      },
      "source": [
        "## **Índice**"
      ]
    },
    {
      "cell_type": "markdown",
      "metadata": {
        "id": "QNjex7obvEdu"
      },
      "source": [
        "- <a href='#t1'>1. ¿QUÉ ES PYTHON?</a>\n",
        "- <a href='#t2'>2. VARIABLES</a>\n",
        "    - <a href='#2.1.'>2.1 Reglas para nombrar variables</a>\n",
        "- <a href='#t3'>3. TIPOS DE DATOS I</a>\n",
        "     - <a href='#3.1.'>3.1. Strings</a>\n",
        "     - <a href='#3.2.'>3.2. Intergers y floats</a>\n",
        "     - <a href='#3.3.'>3.3. Booleans</a>\n",
        "- <a href='#t4'>4. OPERADORES</a>\n",
        "     - <a href='#4.1.'>4.1. Operadores aritméticos</a>\n",
        "     - <a href='#4.2.'>4.2. Operadores de comparación</a>\n",
        "     - <a href='#4.3.'>4.3. Operadores lógicos</a>\n",
        "- <a href='#t5'>5. TIPOS DE DATOS II</a>\n",
        "     - <a href='#5.1.'>5.1. Listas</a>\n",
        "     - <a href='#5.2.'>5.2. Tuplas</a>\n",
        "     - <a href='#5.3.'>5.3. Diccionarios</a>\n",
        "- <a href='#t6'>6. CONTROL DE FLUJO</a>  \n",
        "     - <a href='#6.1.'>6.1. Sentencias condicionales</a>\n",
        "     - <a href='#6.2.'>6.2. Sentencias de bucle</a>\n",
        "- <a href='#t7'>7. FUNCIONES</a>\n"
      ]
    },
    {
      "cell_type": "markdown",
      "metadata": {
        "id": "yKiOW6hvvEdw"
      },
      "source": [
        "##  <a id='t1'>1. ¿QUÉ ES PYTHON?</a>"
      ]
    },
    {
      "cell_type": "markdown",
      "metadata": {
        "vscode": {
          "languageId": "plaintext"
        },
        "id": "An0VVZc7vEdx"
      },
      "source": [
        "Python es un **lenguaje de programación versátil y de alto nivel** que se utiliza ampliamente en programación, desarrollo web, ciencia de datos, inteligencia artificial y más. Se caracteriza por su sintaxis clara y legible, lo que facilita la escritura y comprensión del código. multiples programas como chatgpt se hace en python... desarrollo web y ciencia de datos."
      ]
    },
    {
      "cell_type": "markdown",
      "metadata": {
        "id": "14gJr2CdvEdx"
      },
      "source": [
        "##  <a id='t2'>2. VARIABLES</a>"
      ]
    },
    {
      "cell_type": "markdown",
      "metadata": {
        "id": "OCxez3hgvEdx"
      },
      "source": [
        "Las variables son todo aquello que definiremos con **un nombre**, y a lo que nos referiremos después si queremos usarlo. Las variables pueden ser datos, texto, números, pero también cosas más complicadas como funciones, o incluso otros programas."
      ]
    },
    {
      "cell_type": "markdown",
      "metadata": {
        "id": "cbiKj9YevEdy"
      },
      "source": [
        "Se utiliza el operador = para asignarle el valor a la variable"
      ]
    },
    {
      "cell_type": "code",
      "execution_count": 1,
      "metadata": {
        "vscode": {
          "languageId": "plaintext"
        },
        "id": "cqQ8rxTPvEdy",
        "outputId": "352409eb-9ff1-4658-eabd-ca228590b07e",
        "colab": {
          "base_uri": "https://localhost:8080/"
        }
      },
      "outputs": [
        {
          "output_type": "stream",
          "name": "stdout",
          "text": [
            "Hola ¿qué tal?\n"
          ]
        }
      ],
      "source": [
        "variable_1 = \"Hola ¿qué tal?\"\n",
        "print(variable_1)"
      ]
    },
    {
      "cell_type": "code",
      "execution_count": 2,
      "metadata": {
        "vscode": {
          "languageId": "plaintext"
        },
        "id": "LmcJiemIvEd0",
        "outputId": "11e64312-37f9-48ea-f38b-293e0442d3ab",
        "colab": {
          "base_uri": "https://localhost:8080/"
        }
      },
      "outputs": [
        {
          "output_type": "stream",
          "name": "stdout",
          "text": [
            "43\n"
          ]
        }
      ],
      "source": [
        "variable_2 = 7 + (4 + 5) * 4\n",
        "print(variable_2)"
      ]
    },
    {
      "cell_type": "markdown",
      "metadata": {
        "id": "zYOHGM7TvEd1"
      },
      "source": [
        "Se puede reasignar el valor de una variable:"
      ]
    },
    {
      "cell_type": "code",
      "execution_count": 3,
      "metadata": {
        "vscode": {
          "languageId": "plaintext"
        },
        "id": "UGCOKlM8vEd1",
        "outputId": "31441d64-ca93-4828-ceb7-0e3a1dd1b4f5",
        "colab": {
          "base_uri": "https://localhost:8080/"
        }
      },
      "outputs": [
        {
          "output_type": "stream",
          "name": "stdout",
          "text": [
            "Nuevo valor\n"
          ]
        }
      ],
      "source": [
        "variable_1 = \"Nuevo valor\"\n",
        "print(variable_1)"
      ]
    },
    {
      "cell_type": "markdown",
      "metadata": {
        "id": "aRWpMbVCvEd2"
      },
      "source": [
        "No se puede llamar a una variable no definida"
      ]
    },
    {
      "cell_type": "code",
      "execution_count": null,
      "metadata": {
        "vscode": {
          "languageId": "plaintext"
        },
        "id": "SjPyfROvvEd2"
      },
      "outputs": [],
      "source": [
        "# print(variable_3) si le quito ese numeral no va llamar a nada pq no la deifni"
      ]
    },
    {
      "cell_type": "markdown",
      "metadata": {
        "id": "P87nyKsrvEd3"
      },
      "source": [
        "Todas las variables de python son de algún (y único) tipo. De los ejemplos anteriores tenemos:"
      ]
    },
    {
      "cell_type": "code",
      "execution_count": 4,
      "metadata": {
        "vscode": {
          "languageId": "plaintext"
        },
        "id": "nw46hAVgvEd3",
        "outputId": "252fb6c5-194a-4a9f-df3f-42113f18e8d9",
        "colab": {
          "base_uri": "https://localhost:8080/"
        }
      },
      "outputs": [
        {
          "output_type": "execute_result",
          "data": {
            "text/plain": [
              "str"
            ]
          },
          "metadata": {},
          "execution_count": 4
        }
      ],
      "source": [
        "type(variable_1)"
      ]
    },
    {
      "cell_type": "code",
      "execution_count": 5,
      "metadata": {
        "vscode": {
          "languageId": "plaintext"
        },
        "id": "muaPZjqmvEd4",
        "outputId": "7b20eaa5-d3cf-419d-a70e-56550179d671",
        "colab": {
          "base_uri": "https://localhost:8080/"
        }
      },
      "outputs": [
        {
          "output_type": "execute_result",
          "data": {
            "text/plain": [
              "int"
            ]
          },
          "metadata": {},
          "execution_count": 5
        }
      ],
      "source": [
        "type(variable_2)"
      ]
    },
    {
      "cell_type": "markdown",
      "metadata": {
        "id": "YEo3hJPYvEd4"
      },
      "source": [
        "Los tipos de datos son:  \n",
        "\n",
        "\n",
        "\n",
        "\n",
        "| Tipo              | Nombre                                                  |\n",
        "|------------------------|-------------------------------------------------------|\n",
        "| Texto                   | str                                        |\n",
        "| Números       | integers(int), floats(float), complejos(complex) |\n",
        "| Secuencias                 | listas(list) ,tuplas (tuple), rango(range)                             |\n",
        "| Diccionario | diccionarios (dict)                                  |\n",
        "| Conjuntos                  | conjuntos(set), frozenset                                          |\n",
        "| Booleans                   | bool                                        |\n",
        "| Binarios                   | bytes, bytearray, memoryview                                        |\n"
      ]
    },
    {
      "cell_type": "markdown",
      "metadata": {
        "id": "xlpLAOdHvEd5"
      },
      "source": [
        "##  <a id='t2.1.'>2.1 Reglas para nombrar variables</a>"
      ]
    },
    {
      "cell_type": "markdown",
      "metadata": {
        "id": "NaF5NmgLvEd5"
      },
      "source": [
        "Reglas para nombrar variables : https://aprendepython.es/core/datatypes/data/"
      ]
    },
    {
      "cell_type": "code",
      "execution_count": 7,
      "metadata": {
        "id": "2zb1He1MvEd6"
      },
      "outputs": [],
      "source": [
        "# No se puede utilizar \"-\"\n",
        "#mi-variable = 3"
      ]
    },
    {
      "cell_type": "code",
      "execution_count": 9,
      "metadata": {
        "id": "-4mlgcrZvEd7"
      },
      "outputs": [],
      "source": [
        "# Tampoco se puede utilizar simbolos como \"#\" o \"@\" para los nombres\n",
        "#_@_variable = 3"
      ]
    },
    {
      "cell_type": "code",
      "execution_count": 10,
      "metadata": {
        "id": "ArmCoM1FvEd6"
      },
      "outputs": [],
      "source": [
        "# Si es posible utilizar \"_\"\n",
        "_mivariable = 3"
      ]
    },
    {
      "cell_type": "code",
      "execution_count": 11,
      "metadata": {
        "id": "k5mBUOmgvEd7"
      },
      "outputs": [],
      "source": [
        "# También es posible utilizar MAYÚSCULAS\n",
        "MIVARIABLE = 3"
      ]
    },
    {
      "cell_type": "code",
      "source": [
        "# También es posible utilizar intercalado\n",
        "MiVarIaBlE = 3"
      ],
      "metadata": {
        "id": "JjsMQ_oV8VCA"
      },
      "execution_count": 12,
      "outputs": []
    },
    {
      "cell_type": "markdown",
      "source": [
        "Convención en Python: *minusculas_con_guion_bajo* (snake case) basicamente esto es lo más recomendable"
      ],
      "metadata": {
        "id": "IByBmJJU0ro_"
      }
    },
    {
      "cell_type": "markdown",
      "metadata": {
        "id": "sVprDlSavEd7"
      },
      "source": [
        "IMPORTANTE: No podemos utilizar las siguientes palabras clave para nombrar variables\n",
        "\n",
        "|  |  |  |  |\n",
        "|-------------------|-------------------|-------------------|-------------------|\n",
        "| False             | class             | from              | or                |\n",
        "| None              | continue          | global            | pass              |\n",
        "| True              | def               | if                | raise             |\n",
        "| and               | del               | import            | return            |\n",
        "| as                | elif              | in                | try               |\n",
        "| assert            | else              | is                | while             |\n",
        "| async             | except            | lambda            | with              |\n",
        "| await             | finally           | nonlocal          | yield             |\n",
        "| break             | for               | not               |                   |\n"
      ]
    },
    {
      "cell_type": "code",
      "source": [
        "import keyword\n",
        "print(keyword.kwlist)"
      ],
      "metadata": {
        "colab": {
          "base_uri": "https://localhost:8080/"
        },
        "id": "-GYIv4gwsjyF",
        "outputId": "042cbd61-0a3e-4157-a4fb-b4f5d28fbe47"
      },
      "execution_count": 13,
      "outputs": [
        {
          "output_type": "stream",
          "name": "stdout",
          "text": [
            "['False', 'None', 'True', 'and', 'as', 'assert', 'async', 'await', 'break', 'class', 'continue', 'def', 'del', 'elif', 'else', 'except', 'finally', 'for', 'from', 'global', 'if', 'import', 'in', 'is', 'lambda', 'nonlocal', 'not', 'or', 'pass', 'raise', 'return', 'try', 'while', 'with', 'yield']\n"
          ]
        }
      ]
    },
    {
      "cell_type": "code",
      "source": [
        "import builtins\n",
        "dir (builtins)"
      ],
      "metadata": {
        "colab": {
          "base_uri": "https://localhost:8080/"
        },
        "id": "Ew2gQItvxZNP",
        "outputId": "3d6b47c4-6371-446f-a514-0bfb5c4e7f0e"
      },
      "execution_count": 14,
      "outputs": [
        {
          "output_type": "execute_result",
          "data": {
            "text/plain": [
              "['ArithmeticError',\n",
              " 'AssertionError',\n",
              " 'AttributeError',\n",
              " 'BaseException',\n",
              " 'BlockingIOError',\n",
              " 'BrokenPipeError',\n",
              " 'BufferError',\n",
              " 'BytesWarning',\n",
              " 'ChildProcessError',\n",
              " 'ConnectionAbortedError',\n",
              " 'ConnectionError',\n",
              " 'ConnectionRefusedError',\n",
              " 'ConnectionResetError',\n",
              " 'DeprecationWarning',\n",
              " 'EOFError',\n",
              " 'Ellipsis',\n",
              " 'EncodingWarning',\n",
              " 'EnvironmentError',\n",
              " 'Exception',\n",
              " 'False',\n",
              " 'FileExistsError',\n",
              " 'FileNotFoundError',\n",
              " 'FloatingPointError',\n",
              " 'FutureWarning',\n",
              " 'GeneratorExit',\n",
              " 'IOError',\n",
              " 'ImportError',\n",
              " 'ImportWarning',\n",
              " 'IndentationError',\n",
              " 'IndexError',\n",
              " 'InterruptedError',\n",
              " 'IsADirectoryError',\n",
              " 'KeyError',\n",
              " 'KeyboardInterrupt',\n",
              " 'LookupError',\n",
              " 'MemoryError',\n",
              " 'ModuleNotFoundError',\n",
              " 'NameError',\n",
              " 'None',\n",
              " 'NotADirectoryError',\n",
              " 'NotImplemented',\n",
              " 'NotImplementedError',\n",
              " 'OSError',\n",
              " 'OverflowError',\n",
              " 'PendingDeprecationWarning',\n",
              " 'PermissionError',\n",
              " 'ProcessLookupError',\n",
              " 'RecursionError',\n",
              " 'ReferenceError',\n",
              " 'ResourceWarning',\n",
              " 'RuntimeError',\n",
              " 'RuntimeWarning',\n",
              " 'StopAsyncIteration',\n",
              " 'StopIteration',\n",
              " 'SyntaxError',\n",
              " 'SyntaxWarning',\n",
              " 'SystemError',\n",
              " 'SystemExit',\n",
              " 'TabError',\n",
              " 'TimeoutError',\n",
              " 'True',\n",
              " 'TypeError',\n",
              " 'UnboundLocalError',\n",
              " 'UnicodeDecodeError',\n",
              " 'UnicodeEncodeError',\n",
              " 'UnicodeError',\n",
              " 'UnicodeTranslateError',\n",
              " 'UnicodeWarning',\n",
              " 'UserWarning',\n",
              " 'ValueError',\n",
              " 'Warning',\n",
              " 'ZeroDivisionError',\n",
              " '__IPYTHON__',\n",
              " '__build_class__',\n",
              " '__debug__',\n",
              " '__doc__',\n",
              " '__import__',\n",
              " '__loader__',\n",
              " '__name__',\n",
              " '__package__',\n",
              " '__spec__',\n",
              " 'abs',\n",
              " 'aiter',\n",
              " 'all',\n",
              " 'anext',\n",
              " 'any',\n",
              " 'ascii',\n",
              " 'bin',\n",
              " 'bool',\n",
              " 'breakpoint',\n",
              " 'bytearray',\n",
              " 'bytes',\n",
              " 'callable',\n",
              " 'chr',\n",
              " 'classmethod',\n",
              " 'compile',\n",
              " 'complex',\n",
              " 'copyright',\n",
              " 'credits',\n",
              " 'delattr',\n",
              " 'dict',\n",
              " 'dir',\n",
              " 'display',\n",
              " 'divmod',\n",
              " 'enumerate',\n",
              " 'eval',\n",
              " 'exec',\n",
              " 'execfile',\n",
              " 'filter',\n",
              " 'float',\n",
              " 'format',\n",
              " 'frozenset',\n",
              " 'get_ipython',\n",
              " 'getattr',\n",
              " 'globals',\n",
              " 'hasattr',\n",
              " 'hash',\n",
              " 'help',\n",
              " 'hex',\n",
              " 'id',\n",
              " 'input',\n",
              " 'int',\n",
              " 'isinstance',\n",
              " 'issubclass',\n",
              " 'iter',\n",
              " 'len',\n",
              " 'license',\n",
              " 'list',\n",
              " 'locals',\n",
              " 'map',\n",
              " 'max',\n",
              " 'memoryview',\n",
              " 'min',\n",
              " 'next',\n",
              " 'object',\n",
              " 'oct',\n",
              " 'open',\n",
              " 'ord',\n",
              " 'pow',\n",
              " 'print',\n",
              " 'property',\n",
              " 'range',\n",
              " 'repr',\n",
              " 'reversed',\n",
              " 'round',\n",
              " 'runfile',\n",
              " 'set',\n",
              " 'setattr',\n",
              " 'slice',\n",
              " 'sorted',\n",
              " 'staticmethod',\n",
              " 'str',\n",
              " 'sum',\n",
              " 'super',\n",
              " 'tuple',\n",
              " 'type',\n",
              " 'vars',\n",
              " 'zip']"
            ]
          },
          "metadata": {},
          "execution_count": 14
        }
      ]
    },
    {
      "cell_type": "code",
      "execution_count": 16,
      "metadata": {
        "id": "KkDiuimsvEd8"
      },
      "outputs": [],
      "source": [
        "# Obtendremos el error SyntaxError: cannot assign to False\n",
        "#False = 3"
      ]
    },
    {
      "cell_type": "markdown",
      "metadata": {
        "id": "DTmDI4LsvEd8"
      },
      "source": [
        "No se puede utilizar `<-` como en RStudio para nombrar variables"
      ]
    },
    {
      "cell_type": "code",
      "execution_count": 18,
      "metadata": {
        "id": "x2UJu9gUvEd9"
      },
      "outputs": [],
      "source": [
        "#mivariable <- 3"
      ]
    },
    {
      "cell_type": "markdown",
      "source": [
        "Se debe tener cuidado con las variables"
      ],
      "metadata": {
        "id": "a0DesVB-0GB6"
      }
    },
    {
      "cell_type": "code",
      "source": [
        "ab = 12\n",
        "AB = 24\n",
        "Ab = 36\n",
        "aB = 45"
      ],
      "metadata": {
        "id": "2dyl3Qri0LFy"
      },
      "execution_count": 19,
      "outputs": []
    },
    {
      "cell_type": "markdown",
      "metadata": {
        "id": "QUvzPq_0vEd9"
      },
      "source": [
        "##  <a id='t3'>3. TIPOS DE DATOS I</a>\n",
        "\n",
        "Más información: https://docs.python.org/es/3/library/stdtypes.html"
      ]
    },
    {
      "cell_type": "markdown",
      "metadata": {
        "id": "PlZ-GlTivEd9"
      },
      "source": [
        "### 3.1. <a id='3.1.'>Strings</a>"
      ]
    },
    {
      "cell_type": "markdown",
      "metadata": {
        "id": "SJH9XFLovEd-"
      },
      "source": [
        "Se trata de datos que almacenan texto, y que se delimitan mediante comillas."
      ]
    },
    {
      "cell_type": "code",
      "execution_count": 20,
      "metadata": {
        "vscode": {
          "languageId": "plaintext"
        },
        "id": "VLpqtIAqvEd-",
        "outputId": "848e7c85-abfe-4e9e-9aa1-99e601766e65",
        "colab": {
          "base_uri": "https://localhost:8080/"
        }
      },
      "outputs": [
        {
          "output_type": "stream",
          "name": "stdout",
          "text": [
            "Primer texto\n"
          ]
        }
      ],
      "source": [
        "texto_1 = \"Primer texto\"\n",
        "print(texto_1)"
      ]
    },
    {
      "cell_type": "markdown",
      "metadata": {
        "id": "V8DRBrgXvEd-"
      },
      "source": [
        "Las comillas pueden ser simples (' ') o dobles (\" \")"
      ]
    },
    {
      "cell_type": "code",
      "execution_count": 21,
      "metadata": {
        "id": "Pmr7czcwvEd_",
        "outputId": "accd6ffd-6486-4580-cc2d-95549c4e18bd",
        "colab": {
          "base_uri": "https://localhost:8080/"
        }
      },
      "outputs": [
        {
          "output_type": "stream",
          "name": "stdout",
          "text": [
            "Segundo texto\n"
          ]
        }
      ],
      "source": [
        "texto_2 = 'Segundo texto'\n",
        "print(texto_2)"
      ]
    },
    {
      "cell_type": "markdown",
      "metadata": {
        "id": "9vlnsZ97vEeA"
      },
      "source": [
        "Las cadenas de texto se pueden concatenar"
      ]
    },
    {
      "cell_type": "code",
      "execution_count": 22,
      "metadata": {
        "id": "EXivawfEvEeA",
        "outputId": "6d705b12-ff90-482e-d298-02449d91c08c",
        "colab": {
          "base_uri": "https://localhost:8080/"
        }
      },
      "outputs": [
        {
          "output_type": "stream",
          "name": "stdout",
          "text": [
            "C:\\Users\\dell\\Documents\\GitHub\\Taller_Python\n"
          ]
        }
      ],
      "source": [
        "str_1 = \"C:\\\\Users\\dell\\\\Documents\\\\GitHub\"\n",
        "str_2 = \"\\\\Taller_Python\"\n",
        "path  = str_1 + str_2\n",
        "print(path)"
      ]
    },
    {
      "cell_type": "markdown",
      "source": [
        "Textos con salto de linea (''' ''') necesario agregar tres comillas"
      ],
      "metadata": {
        "id": "0sumUBCMy7W8"
      }
    },
    {
      "cell_type": "code",
      "source": [
        "poema = ''' La primera nieve\n",
        "Las hojas de los narcisos\n",
        "apenas se inclinan '''\n",
        "print (poema)"
      ],
      "metadata": {
        "colab": {
          "base_uri": "https://localhost:8080/"
        },
        "id": "_S7Ghzp2y6DB",
        "outputId": "216e4dc2-3442-4081-c3bb-ef50390ecc6c"
      },
      "execution_count": 23,
      "outputs": [
        {
          "output_type": "stream",
          "name": "stdout",
          "text": [
            " La primera nieve\n",
            "Las hojas de los narcisos\n",
            "apenas se inclinan \n"
          ]
        }
      ]
    },
    {
      "cell_type": "code",
      "source": [
        "poema = \"\"\" Al sentirme enfermo durante el viaje\n",
        "soñé que vagaba\n",
        "sobre un campo de hierba seca\"\"\"\n",
        "print (poema)"
      ],
      "metadata": {
        "colab": {
          "base_uri": "https://localhost:8080/"
        },
        "id": "Zdjy805qzmhL",
        "outputId": "7080e4e5-022d-4ddd-87fb-98b7f789f454"
      },
      "execution_count": 24,
      "outputs": [
        {
          "output_type": "stream",
          "name": "stdout",
          "text": [
            " Al sentirme enfermo durante el viaje\n",
            "soñé que vagaba\n",
            "sobre un campo de hierba seca\n"
          ]
        }
      ]
    },
    {
      "cell_type": "markdown",
      "metadata": {
        "id": "s8qrV9EmvEeB"
      },
      "source": [
        "### 3.2. <a id='3.2.'>Intergers y floats</a>"
      ]
    },
    {
      "cell_type": "markdown",
      "metadata": {
        "vscode": {
          "languageId": "plaintext"
        },
        "id": "Xy8cBdESvEeC"
      },
      "source": [
        "Los **intergers** son datos numéricos enteros."
      ]
    },
    {
      "cell_type": "code",
      "execution_count": 25,
      "metadata": {
        "id": "kJJ6--MHvEeC",
        "outputId": "6fdd622c-872d-4704-992e-06ecdb7365f1",
        "colab": {
          "base_uri": "https://localhost:8080/"
        }
      },
      "outputs": [
        {
          "output_type": "stream",
          "name": "stdout",
          "text": [
            "3\n"
          ]
        }
      ],
      "source": [
        "int_1 = 3\n",
        "print(3)"
      ]
    },
    {
      "cell_type": "code",
      "execution_count": 26,
      "metadata": {
        "vscode": {
          "languageId": "plaintext"
        },
        "id": "ex77wsw6vEeE",
        "outputId": "efcd89df-48d4-4192-d888-928c3ead09d7",
        "colab": {
          "base_uri": "https://localhost:8080/"
        }
      },
      "outputs": [
        {
          "output_type": "execute_result",
          "data": {
            "text/plain": [
              "int"
            ]
          },
          "metadata": {},
          "execution_count": 26
        }
      ],
      "source": [
        "type(int_1)"
      ]
    },
    {
      "cell_type": "markdown",
      "metadata": {
        "vscode": {
          "languageId": "plaintext"
        },
        "id": "jSj-lLNyvEeE"
      },
      "source": [
        "Los **floats** son datos numéricos con decimales."
      ]
    },
    {
      "cell_type": "code",
      "execution_count": 32,
      "metadata": {
        "vscode": {
          "languageId": "plaintext"
        },
        "id": "McaIZw-OvEeF",
        "outputId": "442175c9-6222-46fd-c6cc-f7dcf2c2dfc1",
        "colab": {
          "base_uri": "https://localhost:8080/"
        }
      },
      "outputs": [
        {
          "output_type": "stream",
          "name": "stdout",
          "text": [
            "3.3333333333333335\n"
          ]
        }
      ],
      "source": [
        "float_1 = 10/3\n",
        "print(float_1)"
      ]
    },
    {
      "cell_type": "code",
      "execution_count": 33,
      "metadata": {
        "vscode": {
          "languageId": "plaintext"
        },
        "id": "IuWLrrkOvEeF",
        "outputId": "c6d04165-a52b-4f99-932a-9a7c7ab5aef4",
        "colab": {
          "base_uri": "https://localhost:8080/"
        }
      },
      "outputs": [
        {
          "output_type": "execute_result",
          "data": {
            "text/plain": [
              "float"
            ]
          },
          "metadata": {},
          "execution_count": 33
        }
      ],
      "source": [
        "type(float_1)"
      ]
    },
    {
      "cell_type": "markdown",
      "metadata": {
        "id": "jdccvyfZvEeG"
      },
      "source": [
        "### 3.3. <a id='3.3.'>Booleans</a>"
      ]
    },
    {
      "cell_type": "markdown",
      "metadata": {
        "id": "S2pOADVcvEeG"
      },
      "source": [
        "Los **Booleans** son variables que indican Verdadero (True) o Falso (False).\n",
        "> Por ejemplo, la expresión 1 < 2 es Verdadero, y la expresión 0 == 1 es falsa. Se utilizan en comparaciones o equivalencias.\n",
        "\n"
      ]
    },
    {
      "cell_type": "code",
      "execution_count": 27,
      "metadata": {
        "vscode": {
          "languageId": "plaintext"
        },
        "id": "PVlAOEDfvEeH",
        "outputId": "6c99b084-cfc7-4392-adc8-e15b6585d5d8",
        "colab": {
          "base_uri": "https://localhost:8080/"
        }
      },
      "outputs": [
        {
          "output_type": "stream",
          "name": "stdout",
          "text": [
            "True\n"
          ]
        }
      ],
      "source": [
        "print(1 < 2)"
      ]
    },
    {
      "cell_type": "code",
      "execution_count": 28,
      "metadata": {
        "id": "F68GrasmvEeH",
        "outputId": "6a1a916b-76e0-4a5d-f9cd-00cd7b566f53",
        "colab": {
          "base_uri": "https://localhost:8080/"
        }
      },
      "outputs": [
        {
          "output_type": "stream",
          "name": "stdout",
          "text": [
            "False\n"
          ]
        }
      ],
      "source": [
        "print(0 == 1)"
      ]
    },
    {
      "cell_type": "markdown",
      "metadata": {
        "id": "hUEwhU-5vEeI"
      },
      "source": [
        "Los booleans se evalúan como 1 (True) y 0 (False), por ello:"
      ]
    },
    {
      "cell_type": "code",
      "execution_count": 29,
      "metadata": {
        "vscode": {
          "languageId": "plaintext"
        },
        "id": "g73OABK-vEeI",
        "outputId": "64d5ce46-bf62-4da1-e6ec-91568f9a2356",
        "colab": {
          "base_uri": "https://localhost:8080/"
        }
      },
      "outputs": [
        {
          "output_type": "stream",
          "name": "stdout",
          "text": [
            "1\n"
          ]
        }
      ],
      "source": [
        "print(False + True)"
      ]
    },
    {
      "cell_type": "code",
      "execution_count": 30,
      "metadata": {
        "vscode": {
          "languageId": "plaintext"
        },
        "id": "u6qAnR4CvEeJ",
        "outputId": "aab55e96-25b1-4bda-82b6-f8feda5e451e",
        "colab": {
          "base_uri": "https://localhost:8080/"
        }
      },
      "outputs": [
        {
          "output_type": "execute_result",
          "data": {
            "text/plain": [
              "True"
            ]
          },
          "metadata": {},
          "execution_count": 30
        }
      ],
      "source": [
        "True > False"
      ]
    },
    {
      "cell_type": "code",
      "source": [
        "texto_2 = 'Segundo texto'\n",
        "print(texto_2)"
      ],
      "metadata": {
        "id": "PTLNSP5Iqq_9",
        "outputId": "55aa68b1-8b88-4f6a-f5a4-5acdb193f587",
        "colab": {
          "base_uri": "https://localhost:8080/"
        }
      },
      "execution_count": 42,
      "outputs": [
        {
          "output_type": "stream",
          "name": "stdout",
          "text": [
            "Segundo texto\n"
          ]
        }
      ]
    },
    {
      "cell_type": "code",
      "execution_count": 43,
      "metadata": {
        "id": "EcIpmFl1vEeJ",
        "outputId": "0142b25c-5fc9-42ec-a28a-f01d1f56a278",
        "colab": {
          "base_uri": "https://localhost:8080/"
        }
      },
      "outputs": [
        {
          "output_type": "execute_result",
          "data": {
            "text/plain": [
              "True"
            ]
          },
          "metadata": {},
          "execution_count": 43
        }
      ],
      "source": [
        "texto_2 is not int"
      ]
    },
    {
      "cell_type": "code",
      "execution_count": 47,
      "metadata": {
        "id": "BfYOYFVhvEeK",
        "outputId": "5aeedcf1-7692-4d5b-9070-39c51eb01887",
        "colab": {
          "base_uri": "https://localhost:8080/"
        }
      },
      "outputs": [
        {
          "output_type": "execute_result",
          "data": {
            "text/plain": [
              "False"
            ]
          },
          "metadata": {},
          "execution_count": 47
        }
      ],
      "source": [
        "texto_2 is str"
      ]
    },
    {
      "cell_type": "code",
      "source": [
        "texto_2 is float"
      ],
      "metadata": {
        "colab": {
          "base_uri": "https://localhost:8080/"
        },
        "id": "xk6gbdip858z",
        "outputId": "851211cd-2f7b-451e-d539-a866c775c80d"
      },
      "execution_count": 48,
      "outputs": [
        {
          "output_type": "execute_result",
          "data": {
            "text/plain": [
              "False"
            ]
          },
          "metadata": {},
          "execution_count": 48
        }
      ]
    },
    {
      "cell_type": "markdown",
      "metadata": {
        "id": "Gpv6cKzPvEeL"
      },
      "source": [
        "##  <a id='t4'>4. OPERADORES</a>"
      ]
    },
    {
      "cell_type": "markdown",
      "metadata": {
        "id": "kx1cpEF-vEeL"
      },
      "source": [
        "### 4.1. <a id='4.1.'>Operadores aritméticos</a>"
      ]
    },
    {
      "cell_type": "markdown",
      "metadata": {
        "id": "pS_QMIqXvEeM"
      },
      "source": [
        "| Operador | Nombre             | Ejemplo | Resultado |\n",
        "|----------|--------------------|---------|-----------|\n",
        "| `+`      | Suma               | `5+3`   |  `8`      |\n",
        "| `-`      | Resta              | `8-1`   |  `7`      |\n",
        "| `*`      | Multiplicación     | `2*3`   |  `6`      |\n",
        "| `/`      | División           | `8*2`   |  `4`      |\n",
        "| `%`      | Módulo (residuo)   | `9*2`   |  `1`      |\n",
        "| `**`     | Exponenciación     | `2**2`  |  `4`      |\n",
        "| `//`     | División de piso   | `13**2` |  `6`      |"
      ]
    },
    {
      "cell_type": "code",
      "execution_count": 49,
      "metadata": {
        "id": "QOV62OuJvEeN",
        "outputId": "24ee2cb2-8424-43e1-a9fb-c1c6762474f9",
        "colab": {
          "base_uri": "https://localhost:8080/"
        }
      },
      "outputs": [
        {
          "output_type": "stream",
          "name": "stdout",
          "text": [
            "37\n"
          ]
        }
      ],
      "source": [
        "# Suma\n",
        "a = 12 + 15 + 10\n",
        "print(a)"
      ]
    },
    {
      "cell_type": "code",
      "execution_count": 50,
      "metadata": {
        "id": "gw79F8U3vEeP",
        "outputId": "fdb45324-a546-4860-c857-84b12e246f56",
        "colab": {
          "base_uri": "https://localhost:8080/"
        }
      },
      "outputs": [
        {
          "output_type": "stream",
          "name": "stdout",
          "text": [
            "12\n"
          ]
        }
      ],
      "source": [
        "# Resta\n",
        "b = 15 - 3\n",
        "print(b)"
      ]
    },
    {
      "cell_type": "code",
      "source": [
        "# División\n",
        "c = 7/2\n",
        "print(c)"
      ],
      "metadata": {
        "colab": {
          "base_uri": "https://localhost:8080/"
        },
        "id": "1S_JoOhoyPa-",
        "outputId": "b3a682ed-3f85-47d3-fcb7-5f1270377fb2"
      },
      "execution_count": 51,
      "outputs": [
        {
          "output_type": "stream",
          "name": "stdout",
          "text": [
            "3.5\n"
          ]
        }
      ]
    },
    {
      "cell_type": "code",
      "execution_count": 52,
      "metadata": {
        "colab": {
          "base_uri": "https://localhost:8080/"
        },
        "id": "N4z2RHxbvEeP",
        "outputId": "14c603ac-f4c9-4e73-ceed-d09cbb4817b0"
      },
      "outputs": [
        {
          "output_type": "stream",
          "name": "stdout",
          "text": [
            "4\n"
          ]
        }
      ],
      "source": [
        "# División de piso (trunca el resultado)\n",
        "d = 14//3\n",
        "print(d)"
      ]
    },
    {
      "cell_type": "code",
      "execution_count": 53,
      "metadata": {
        "id": "WwRSyAsZvEeO",
        "outputId": "59f8a875-97f0-4f69-b4ae-1fcff74e061f",
        "colab": {
          "base_uri": "https://localhost:8080/"
        }
      },
      "outputs": [
        {
          "output_type": "stream",
          "name": "stdout",
          "text": [
            "8\n"
          ]
        }
      ],
      "source": [
        "# Exponenciación\n",
        "e = 2**3\n",
        "print(e)"
      ]
    },
    {
      "cell_type": "code",
      "source": [
        "# Residuo\n",
        "f = 16 % 2\n",
        "print(f)\n"
      ],
      "metadata": {
        "colab": {
          "base_uri": "https://localhost:8080/"
        },
        "id": "ncvRQbNsv7ik",
        "outputId": "1f0ba784-68f7-4868-d90d-8b6bb05881a6"
      },
      "execution_count": 54,
      "outputs": [
        {
          "output_type": "stream",
          "name": "stdout",
          "text": [
            "0\n"
          ]
        }
      ]
    },
    {
      "cell_type": "code",
      "execution_count": 55,
      "metadata": {
        "colab": {
          "base_uri": "https://localhost:8080/"
        },
        "id": "kJhDP3ubvEeQ",
        "outputId": "9581608a-9e9f-495d-ff98-d14c7e78d425"
      },
      "outputs": [
        {
          "output_type": "stream",
          "name": "stdout",
          "text": [
            "10.194444444444445\n"
          ]
        }
      ],
      "source": [
        "# Combinación de operaciones aritméticas\n",
        "g = (11 + 5)//2 + 7 / 6 **2 + 250 % 8\n",
        "print(g)"
      ]
    },
    {
      "cell_type": "markdown",
      "metadata": {
        "id": "00M3tYcvvEeR"
      },
      "source": [
        "### 4.2. <a id='4.2.'>Operadores de comparación</a>"
      ]
    },
    {
      "cell_type": "markdown",
      "metadata": {
        "id": "w7_wDV4UvEeS"
      },
      "source": [
        "Los siguientes operadores realizan comparaciones entre valores/variables. Cuando se comparan estos valores, el resultado es True o False."
      ]
    },
    {
      "cell_type": "markdown",
      "metadata": {
        "id": "9Y7zhfZnvEeS"
      },
      "source": [
        "| Operador | Nombre             | Ejemplo    | Resultado |\n",
        "|----------|--------------------|------------|-----------|\n",
        "| `>`      | Mayor que          | `23 > 43`  |  `True`   |\n",
        "| `<`      | Menor que          | `10 < 5`   |  `False`  |\n",
        "| `>=`     | Mayor o igual que  | `11 >= 11` |  `True`   |\n",
        "| `<=`     | Menor o igual que  | `8 <= 2`   |  `False`  |\n",
        "| `==`     | Igual a            | `14 == 13` |  `False`  |\n",
        "| `!=`     | No igual a         | `3 != 2`   |  `True`   |"
      ]
    },
    {
      "cell_type": "code",
      "execution_count": 56,
      "metadata": {
        "colab": {
          "base_uri": "https://localhost:8080/"
        },
        "id": "h4W5XLTJvEeT",
        "outputId": "f7489dc3-7052-41b6-e282-a044229b35a8"
      },
      "outputs": [
        {
          "output_type": "execute_result",
          "data": {
            "text/plain": [
              "False"
            ]
          },
          "metadata": {},
          "execution_count": 56
        }
      ],
      "source": [
        "# Igual a\n",
        "32 == 23"
      ]
    },
    {
      "cell_type": "code",
      "execution_count": 57,
      "metadata": {
        "colab": {
          "base_uri": "https://localhost:8080/"
        },
        "id": "TC8EzjakvEeU",
        "outputId": "5d889fc7-ba92-4013-a7e9-c16435cac4fa"
      },
      "outputs": [
        {
          "output_type": "execute_result",
          "data": {
            "text/plain": [
              "True"
            ]
          },
          "metadata": {},
          "execution_count": 57
        }
      ],
      "source": [
        "# Menor que\n",
        "14 < 15"
      ]
    },
    {
      "cell_type": "code",
      "execution_count": 58,
      "metadata": {
        "colab": {
          "base_uri": "https://localhost:8080/"
        },
        "id": "UpDVLubXvEeV",
        "outputId": "5bebf0c5-63fd-4825-b3a6-646c3ebaa8d4"
      },
      "outputs": [
        {
          "output_type": "execute_result",
          "data": {
            "text/plain": [
              "False"
            ]
          },
          "metadata": {},
          "execution_count": 58
        }
      ],
      "source": [
        "# Mayor o igual que\n",
        "10 <= 7"
      ]
    },
    {
      "cell_type": "code",
      "execution_count": 60,
      "metadata": {
        "colab": {
          "base_uri": "https://localhost:8080/"
        },
        "id": "KOH-zmQovEeW",
        "outputId": "29648699-f155-4a6a-e3a1-79bc0af8373d"
      },
      "outputs": [
        {
          "output_type": "execute_result",
          "data": {
            "text/plain": [
              "False"
            ]
          },
          "metadata": {},
          "execution_count": 60
        }
      ],
      "source": [
        "# Los operadores aritméticos y de comparación se pueden combinar\n",
        "5 * 3//2 > 3 ** 2 - 1"
      ]
    },
    {
      "cell_type": "code",
      "execution_count": 61,
      "metadata": {
        "id": "b-dBPg3qvEeW",
        "outputId": "6173b7da-e3dc-4baa-f72a-c46f997a6bd4",
        "colab": {
          "base_uri": "https://localhost:8080/"
        }
      },
      "outputs": [
        {
          "output_type": "execute_result",
          "data": {
            "text/plain": [
              "False"
            ]
          },
          "metadata": {},
          "execution_count": 61
        }
      ],
      "source": [
        "h = 5 * 3//2\n",
        "j = 3 ** 2 - 1\n",
        "h > j"
      ]
    },
    {
      "cell_type": "markdown",
      "metadata": {
        "id": "o0exHYTVvEeX"
      },
      "source": [
        "### 4.3. <a id='4.3.'>Operadores lógicos</a>"
      ]
    },
    {
      "cell_type": "markdown",
      "metadata": {
        "id": "HGiQehDfvEeY"
      },
      "source": [
        "Se trata de operadores lógicos de respuesta booleana"
      ]
    },
    {
      "cell_type": "markdown",
      "metadata": {
        "id": "QcIlL2YvvEeY"
      },
      "source": [
        "| Operador | Equivalente        | Ejemplo                    | Resultado |\n",
        "|----------|--------------------|----------------------------|-----------|\n",
        "| `and`    | y                  | `(3 > 2) and (8 > 5)`      |  `True`   |\n",
        "| `or`     | o                  | `(10 > 2) and (10 < 9)`    |  `False`  |\n",
        "| `not`    | no                 | `not (9 > 11)`             |  `True`   |"
      ]
    },
    {
      "cell_type": "code",
      "execution_count": null,
      "metadata": {
        "colab": {
          "base_uri": "https://localhost:8080/"
        },
        "id": "-cqrtBjevEeZ",
        "outputId": "07625de7-d794-4be0-b265-59cce1bc2bd2"
      },
      "outputs": [
        {
          "output_type": "execute_result",
          "data": {
            "text/plain": [
              "True"
            ]
          },
          "metadata": {},
          "execution_count": 14
        }
      ],
      "source": [
        "# And\n",
        "(5 > 1) and (6 > 2)"
      ]
    },
    {
      "cell_type": "code",
      "execution_count": null,
      "metadata": {
        "colab": {
          "base_uri": "https://localhost:8080/"
        },
        "id": "eA6nv5eFvEeZ",
        "outputId": "363b688b-5fd9-4bb7-d4dc-6f4c53c9acf3"
      },
      "outputs": [
        {
          "output_type": "execute_result",
          "data": {
            "text/plain": [
              "True"
            ]
          },
          "metadata": {},
          "execution_count": 16
        }
      ],
      "source": [
        "# Not\n",
        "not (8 < 6)"
      ]
    },
    {
      "cell_type": "code",
      "source": [
        "# Or\n",
        "(3 > 1) or (5 < 1)"
      ],
      "metadata": {
        "colab": {
          "base_uri": "https://localhost:8080/"
        },
        "id": "xESEFd7qynPo",
        "outputId": "9d582496-75a9-4f32-f7c4-efcb4e04f615"
      },
      "execution_count": null,
      "outputs": [
        {
          "output_type": "execute_result",
          "data": {
            "text/plain": [
              "True"
            ]
          },
          "metadata": {},
          "execution_count": 17
        }
      ]
    },
    {
      "cell_type": "code",
      "source": [
        "# Más ejemplos\n",
        "(not (7 < 2)) and ((8 > 1) or (8 < 1))"
      ],
      "metadata": {
        "colab": {
          "base_uri": "https://localhost:8080/"
        },
        "id": "YGO-ZHFKytdk",
        "outputId": "b7bd683e-160b-4233-ef1c-3efe36938a9d"
      },
      "execution_count": null,
      "outputs": [
        {
          "output_type": "execute_result",
          "data": {
            "text/plain": [
              "True"
            ]
          },
          "metadata": {},
          "execution_count": 19
        }
      ]
    },
    {
      "cell_type": "code",
      "source": [
        "# ¿Alguien puede decir que saldría?\n",
        "(not (7 > 2)) and ((8 > 1) or (8 < 1))"
      ],
      "metadata": {
        "id": "AXLSvZY7ytbR"
      },
      "execution_count": null,
      "outputs": []
    },
    {
      "cell_type": "markdown",
      "metadata": {
        "id": "x93ytDQuvEea"
      },
      "source": [
        "##  <a id='t5'>5. TIPOS DE DATOS II</a>"
      ]
    },
    {
      "cell_type": "markdown",
      "metadata": {
        "id": "4NjAi4n0vEea"
      },
      "source": [
        "### 5.1. <a id='5.1.'>Listas</a>"
      ]
    },
    {
      "cell_type": "markdown",
      "metadata": {
        "id": "znVcS_g-vEeb"
      },
      "source": [
        "Hasta ahora los tipos de datos que hemos estudiado tienen un solo elemento. Las listas permiten almacenar y trabajar varios datos al mismo como una lista ordenada de valores. Las listas se crean utilizando corchetes [] y pueden contener elementos de diferentes tipos de datos, como números, cadenas de texto, booleanos. Son  colecciones ordenadas de items.\n",
        "\n",
        "Cabe recordar:\n",
        "* Se puede cambiar los items de la lista.\n",
        "* La longitud de la lista de puede obtener con la funcion <b>len()</b>\n",
        "* El primer item es el indice 0."
      ]
    },
    {
      "cell_type": "code",
      "execution_count": null,
      "metadata": {
        "vscode": {
          "languageId": "plaintext"
        },
        "id": "UQqDrt6pvEeb",
        "outputId": "3eecd441-e319-45af-da8c-26a289bdf227"
      },
      "outputs": [
        {
          "name": "stdout",
          "output_type": "stream",
          "text": [
            "[2, 5, 3, 1, 7]\n"
          ]
        }
      ],
      "source": [
        "lista_1 = [2,5,3,1,7]\n",
        "lista_2 = [\"Sociología\", \"Economía\", \"Antropologia\", \"Finanzas\", \"Ciencia Política\"]\n",
        "print(lista_1)"
      ]
    },
    {
      "cell_type": "markdown",
      "metadata": {
        "id": "h9e1sCvnvEec"
      },
      "source": [
        "Las listas pueden contener elementos de diferentes tipos"
      ]
    },
    {
      "cell_type": "code",
      "execution_count": null,
      "metadata": {
        "vscode": {
          "languageId": "plaintext"
        },
        "id": "hqPaDsWavEec",
        "outputId": "d5a0c86e-2926-43b3-ed51-c252a965e89f"
      },
      "outputs": [
        {
          "name": "stdout",
          "output_type": "stream",
          "text": [
            "[5, 'hola', 50.55, False, 'bitte']\n"
          ]
        }
      ],
      "source": [
        "lista_3 = [5, 'hola', 50.55, False, \"bitte\"]\n",
        "print(lista_3)"
      ]
    },
    {
      "cell_type": "markdown",
      "metadata": {
        "id": "hpheYTM5vEed"
      },
      "source": [
        "Las listas pueden concatenarse mediante el operador de suma"
      ]
    },
    {
      "cell_type": "code",
      "execution_count": null,
      "metadata": {
        "id": "bE-cHjz4vEed",
        "outputId": "1d9b451f-18bf-4644-a9aa-30d6dc44a774"
      },
      "outputs": [
        {
          "name": "stdout",
          "output_type": "stream",
          "text": [
            "[2, 5, 3, 1, 7, 'Sociología', 'Economía', 'Antropologia', 'Finanzas', 'Ciencia Política']\n"
          ]
        }
      ],
      "source": [
        "lista_4 = lista_1 + lista_2\n",
        "print(lista_4)"
      ]
    },
    {
      "cell_type": "markdown",
      "metadata": {
        "id": "rwFfHcOEvEee"
      },
      "source": [
        "Métodos para listas"
      ]
    },
    {
      "cell_type": "markdown",
      "metadata": {
        "id": "qHOrRKlzvEee"
      },
      "source": [
        "| Método                                 | Operacion realizada                                              |\n",
        "|----------------------------------------|------------------------------------------------------------------|\n",
        "| `lista_2.copy()`                       | Hacer un duplicado de la lista                                   |\n",
        "| `lista_1.sort()`                       | Ordenar una lista                                                |\n",
        "| `lista_1.append(elemento_a)`           | Añadir el `elemento_a` a la `lista_1`                            |\n",
        "| `lista_1[n]`                           | Acceder al elemento en el orden `n` situado en la   `lista_1`    |"
      ]
    },
    {
      "cell_type": "code",
      "execution_count": null,
      "metadata": {
        "id": "fceVQ_AfvEef",
        "outputId": "33d8e15a-b7c3-4f46-fb16-6d97dbd35903"
      },
      "outputs": [
        {
          "name": "stdout",
          "output_type": "stream",
          "text": [
            "[2, 5, 3, 1, 7]\n"
          ]
        }
      ],
      "source": [
        "# Copy\n",
        "lista_5 = lista_1.copy()\n",
        "print(lista_5)"
      ]
    },
    {
      "cell_type": "code",
      "execution_count": null,
      "metadata": {
        "id": "LPXk8BV2vEef",
        "outputId": "334e94e1-731c-495a-93c8-4928df5228d1"
      },
      "outputs": [
        {
          "name": "stdout",
          "output_type": "stream",
          "text": [
            "[2, 5, 3, 1, 7, 10]\n"
          ]
        }
      ],
      "source": [
        "# Append\n",
        "lista_1.append(10)\n",
        "print(lista_1)"
      ]
    },
    {
      "cell_type": "code",
      "execution_count": null,
      "metadata": {
        "id": "ulocRaIuvEeg",
        "outputId": "2c92eaf5-74ad-4a37-9209-e2acae8d5a9b"
      },
      "outputs": [
        {
          "data": {
            "text/plain": [
              "2"
            ]
          },
          "execution_count": 33,
          "metadata": {},
          "output_type": "execute_result"
        }
      ],
      "source": [
        "# Acceder mediante el índice\n",
        "lista_1[0]"
      ]
    },
    {
      "cell_type": "markdown",
      "metadata": {
        "id": "sZ0LvtJtvEeh"
      },
      "source": [
        "Métodos para obtener información de listas numéricas"
      ]
    },
    {
      "cell_type": "markdown",
      "metadata": {
        "id": "GgX5AQL1vEeh"
      },
      "source": [
        "| Método                   | Operacion realizada                                              |\n",
        "|--------------------------|------------------------------------------------------------------|\n",
        "| `sum(lista)`             | Sumar todos los elementos de la lista                            |\n",
        "| `min(lista)`             | Obtener el valor máximo de entre todos los elementos de la lista |\n",
        "| `len(lista)`             | Obtener el número de elementos de la lista                       |\n",
        "| `sum(lista)\\len(lista)`  | Obtener el valor promedio de una lista                           |"
      ]
    },
    {
      "cell_type": "markdown",
      "metadata": {
        "id": "y10PN3ezvEei"
      },
      "source": [
        "### 5.2. <a id='5.2.'>Tuplas</a>"
      ]
    },
    {
      "cell_type": "markdown",
      "metadata": {
        "id": "FlGbfT1VvEei"
      },
      "source": [
        "Son colecciones de elementos ordenados que se utilizan para almacenar datos de manera inmutable. Esto significa que una vez definida una tupla, no se puede modificar sus elementos individuales ni agregar nuevos elementos a la tupla. Las tuplas se crean utilizando paréntesis () y pueden componerse de diferentes tipos de datos"
      ]
    },
    {
      "cell_type": "code",
      "execution_count": null,
      "metadata": {
        "id": "sANk3rX3vEej",
        "outputId": "bc1bd37f-73cc-4e6b-fc70-b9f9326945ed"
      },
      "outputs": [
        {
          "name": "stdout",
          "output_type": "stream",
          "text": [
            "(1, 3, 3, 5, 10)\n"
          ]
        }
      ],
      "source": [
        "tupla_1 = (1, 3, 3, 5, 10)\n",
        "print(tupla_1)"
      ]
    },
    {
      "cell_type": "markdown",
      "metadata": {
        "id": "q2GgkwOZvEej"
      },
      "source": [
        "Podemos acceder a sus elementos mediante el índice"
      ]
    },
    {
      "cell_type": "code",
      "execution_count": null,
      "metadata": {
        "id": "ix-_ibTHvEej",
        "outputId": "a516ea03-8fa5-4355-aa9f-45c9cf7a8c0f"
      },
      "outputs": [
        {
          "data": {
            "text/plain": [
              "3"
            ]
          },
          "execution_count": 35,
          "metadata": {},
          "output_type": "execute_result"
        }
      ],
      "source": [
        "tupla_1[1]"
      ]
    },
    {
      "cell_type": "markdown",
      "metadata": {
        "id": "3lUYWCzBvEek"
      },
      "source": [
        "No podemos modificar los elementos de ninguna manera"
      ]
    },
    {
      "cell_type": "code",
      "execution_count": null,
      "metadata": {
        "id": "tnAYXSgGvEek"
      },
      "outputs": [],
      "source": [
        "# tupla_1.append(10)"
      ]
    },
    {
      "cell_type": "markdown",
      "metadata": {
        "id": "yG9Xh1e1vEel"
      },
      "source": [
        "No podemos hacer duplicados"
      ]
    },
    {
      "cell_type": "code",
      "execution_count": null,
      "metadata": {
        "id": "gr0Od4-yvEel"
      },
      "outputs": [],
      "source": [
        "# tupla_2 = tupla_1.copy()"
      ]
    },
    {
      "cell_type": "markdown",
      "metadata": {
        "id": "5w_LG9aJvEel"
      },
      "source": [
        "### 5.3. <a id='5.3.'>Diccionarios</a>"
      ]
    },
    {
      "cell_type": "markdown",
      "metadata": {
        "id": "BT_O6JT0vEem"
      },
      "source": [
        "Un diccionario en Python es una estructura de datos que permite almacenar pares de clave-valor. Cada elemento del diccionario tiene una clave única que se utiliza para acceder a su valor correspondiente. Es como un libro de palabras y definiciones, donde las claves son las palabras y los valores son las definiciones. Los diccionarios se crean utilizando llaves {} y son muy eficientes para buscar valores asociados a una clave específica."
      ]
    },
    {
      "cell_type": "code",
      "execution_count": null,
      "metadata": {
        "id": "emNOPk-cvEem"
      },
      "outputs": [],
      "source": [
        "persona_1 = {'nombre':'José', 'apellido':'Gonzáles', 'edad':35, 'email':'jgonzales@gmail.com' }"
      ]
    },
    {
      "cell_type": "markdown",
      "metadata": {
        "id": "X2NiMnzZvEen"
      },
      "source": [
        "Podemos acceder a la información que necesitamos a través de las llaves"
      ]
    },
    {
      "cell_type": "code",
      "execution_count": null,
      "metadata": {
        "id": "poQSxP8MvEen",
        "outputId": "6013189f-fecc-475c-b3f1-df3186140b7a"
      },
      "outputs": [
        {
          "data": {
            "text/plain": [
              "'José'"
            ]
          },
          "execution_count": 39,
          "metadata": {},
          "output_type": "execute_result"
        }
      ],
      "source": [
        "persona_1['nombre']"
      ]
    },
    {
      "cell_type": "markdown",
      "metadata": {
        "id": "rNdvueHwvEeo"
      },
      "source": [
        "Puede haber más de un valor por cada llave"
      ]
    },
    {
      "cell_type": "code",
      "execution_count": null,
      "metadata": {
        "id": "ag6lZwzevEeo"
      },
      "outputs": [],
      "source": [
        "personas = { 'nombres' :['José', 'Antonia', 'María'],\n",
        "             'apellido':['Gonzáles', 'Méndez', 'Rojas'],\n",
        "             'edad'    :[35, 35, 35],\n",
        "             'email'   :['jgonzales@gmail.com', 'amendez@gmail.com', 'mrojas@gmail.com'] }"
      ]
    },
    {
      "cell_type": "code",
      "execution_count": null,
      "metadata": {
        "id": "KWZaywq5vEep",
        "outputId": "311a6922-5455-4939-db3d-c6fa6367ae51"
      },
      "outputs": [
        {
          "data": {
            "text/plain": [
              "[35, 35, 35]"
            ]
          },
          "execution_count": 41,
          "metadata": {},
          "output_type": "execute_result"
        }
      ],
      "source": [
        "personas['edad']"
      ]
    },
    {
      "cell_type": "markdown",
      "metadata": {
        "id": "a4P7wT-yvEep"
      },
      "source": [
        "Podemos añadir un nuevo par clave-valor"
      ]
    },
    {
      "cell_type": "code",
      "execution_count": null,
      "metadata": {
        "id": "EyIFGihXvEeq",
        "outputId": "83cc3f79-3f80-47b8-eb22-c1fb5612b420"
      },
      "outputs": [
        {
          "data": {
            "text/plain": [
              "{'nombre': 'José',\n",
              " 'apellido': 'Gonzáles',\n",
              " 'edad': 35,\n",
              " 'email': 'jgonzales@gmail.com',\n",
              " 'Residencia': 'Lima'}"
            ]
          },
          "execution_count": 42,
          "metadata": {},
          "output_type": "execute_result"
        }
      ],
      "source": [
        "persona_1.update( { 'Residencia' :  'Lima' } )\n",
        "persona_1"
      ]
    },
    {
      "cell_type": "markdown",
      "metadata": {
        "id": "qqQ-XpaHvEeq"
      },
      "source": [
        "Es posible emparejar listas en pares clave-valor"
      ]
    },
    {
      "cell_type": "code",
      "execution_count": null,
      "metadata": {
        "id": "3LnpVCl7vEer",
        "outputId": "60ae8f21-ae83-4f28-bdb8-0d9892abedde"
      },
      "outputs": [
        {
          "data": {
            "text/plain": [
              "{'Fray Martin': 15001,\n",
              " 'Santa Rosa de Puquio': 15003,\n",
              " 'Cuchicorral': 15004,\n",
              " 'Santiago de Punchauca': 15006}"
            ]
          },
          "execution_count": 43,
          "metadata": {},
          "output_type": "execute_result"
        }
      ],
      "source": [
        "# Definir listas\n",
        "ciudades      = ['Fray Martin','Santa Rosa de Puquio','Cuchicorral','Santiago de Punchauca' ]\n",
        "codigo_postal = [15001,15003,15004,15006]\n",
        "\n",
        "# Emparejar las listas\n",
        "diccionario_1 = dict( zip( ciudades , codigo_postal ) )\n",
        "\n",
        "# Visualizar el resultado\n",
        "diccionario_1"
      ]
    },
    {
      "cell_type": "markdown",
      "metadata": {
        "id": "YYF_-vd5vEer"
      },
      "source": [
        "##  <a id='t6'>6. CONTROL DE FLUJO</a>"
      ]
    },
    {
      "cell_type": "markdown",
      "metadata": {
        "id": "losQKU3RvEes"
      },
      "source": [
        "Hasta ahora hemos elaborado scripts que se ejecutan de arriba hacia abajo y de izquierda a derecha; cuando se ejecuta el la última línea, el programa termina. Sin embargo, existen herramientas en Python que permiten alterar el flujo normal de un programa. El uso de estas herramientas es denominado control de flujo."
      ]
    },
    {
      "cell_type": "markdown",
      "metadata": {
        "id": "iZEwHR41vEes"
      },
      "source": [
        "### 6.1. <a id='6.1.'>Sentencias condicionales</a>"
      ]
    },
    {
      "cell_type": "markdown",
      "metadata": {
        "id": "smyGMZxwvEes"
      },
      "source": [
        "Este tipo de sentencias nos permiten alterar el flujo de un programa mediante el cumplimiento de una condición."
      ]
    },
    {
      "cell_type": "markdown",
      "metadata": {
        "id": "PzdX_t-VvEet"
      },
      "source": [
        "| Sentencia condicional    | Operacion realizada                                              |\n",
        "|--------------------------|------------------------------------------------------------------|\n",
        "| `if`                     | Se usa para ejecutar un bloque de código si una condición es verdadera                            |\n",
        "| `else`                   | Se usa en conjunto con if para ejecutar un bloque de código cuando la condición en el if es falsa |\n",
        "| `elif`                   | Se usa para verificar múltiples condiciones en orden y ejecutar el bloque de código de la primera condición verdadera                     |"
      ]
    },
    {
      "cell_type": "code",
      "execution_count": null,
      "metadata": {
        "id": "36ZF1-DwvEet",
        "outputId": "6b9f87df-8d92-4a79-b073-7f3d07e91548",
        "colab": {
          "base_uri": "https://localhost:8080/"
        }
      },
      "outputs": [
        {
          "output_type": "stream",
          "name": "stdout",
          "text": [
            "Hace calor, lleva protector solar.\n"
          ]
        }
      ],
      "source": [
        "# Ejemplo 1\n",
        "temperatura = 35\n",
        "\n",
        "if temperatura > 30:\n",
        "    print(\"Hace calor, lleva protector solar.\")"
      ]
    },
    {
      "cell_type": "code",
      "execution_count": null,
      "metadata": {
        "id": "lsVGfrb4vEeu",
        "outputId": "71742d2a-cdbf-4ddc-e1a8-4013a67a3bde",
        "colab": {
          "base_uri": "https://localhost:8080/"
        }
      },
      "outputs": [
        {
          "output_type": "stream",
          "name": "stdout",
          "text": [
            "No hace calor, descuida.\n"
          ]
        }
      ],
      "source": [
        "# Ejemplo 2\n",
        "temperatura = 25\n",
        "\n",
        "if temperatura > 30:\n",
        "    print(\"Hace calor, lleva protector solar.\")\n",
        "else:\n",
        "    print(\"No hace calor, descuida.\")"
      ]
    },
    {
      "cell_type": "code",
      "execution_count": null,
      "metadata": {
        "id": "3bDEqS0FvEeu",
        "outputId": "47a40027-da7e-4900-91e6-0518d1aaa690",
        "colab": {
          "base_uri": "https://localhost:8080/"
        }
      },
      "outputs": [
        {
          "output_type": "stream",
          "name": "stdout",
          "text": [
            "No hace calor, descuida\n"
          ]
        }
      ],
      "source": [
        "# Ejemplo 3\n",
        "temperatura = 25\n",
        "\n",
        "if temperatura > 30:\n",
        "    print(\"Hace calor, lleva protector solar.\")\n",
        "elif temperatura > 20:\n",
        "    print(\"No hace calor, descuida\")\n",
        "else:\n",
        "    print(\"Hace frío, lleva un abrigo\")"
      ]
    },
    {
      "cell_type": "markdown",
      "metadata": {
        "id": "cj8p380kvEev"
      },
      "source": [
        "### 6.2. <a id='6.2.'>Sentencias de bucle</a>"
      ]
    },
    {
      "cell_type": "markdown",
      "metadata": {
        "id": "8c8RCojPvEev"
      },
      "source": [
        "Se usan para repetir una acción una o más veces"
      ]
    },
    {
      "cell_type": "markdown",
      "metadata": {
        "id": "LpkyfaeLvEev"
      },
      "source": [
        "| Sentencia de bucle       | Operacion realizada                                              |\n",
        "|--------------------------|------------------------------------------------------------------|\n",
        "| `for`                     | Se utiliza para iterar sobre una secuencia (como una lista, tupla o cadena) o un rango de números y ejecutar un bloque de código para cada elemento en esa secuencia.                            |\n",
        "| `while`                   |  Se utiliza para repetir un bloque de código mientras una condición sea verdadera. El código se ejecuta una y otra vez hasta que la condición sea falsa. |"
      ]
    },
    {
      "cell_type": "code",
      "execution_count": null,
      "metadata": {
        "id": "T8uklOG8vEew",
        "outputId": "14ddf6fc-91d8-4ea9-ca28-1a0f79ae82a4"
      },
      "outputs": [
        {
          "name": "stdout",
          "output_type": "stream",
          "text": [
            "Su estatura es 1.65 metros\n",
            "Su estatura es 1.72 metros\n",
            "Su estatura es 1.71 metros\n",
            "Su estatura es 1.82 metros\n",
            "Su estatura es 1.68 metros\n",
            "Su estatura es 1.65 metros\n"
          ]
        }
      ],
      "source": [
        "# Ejemplo 1:\n",
        "lista_estaturas = [165, 172, 171, 182, 168, 165]\n",
        "\n",
        "for estatura in lista_estaturas:\n",
        "    estatura_metros = estatura/100\n",
        "    print(\"Su estatura es \" + str(estatura_metros) + \" metros\")"
      ]
    },
    {
      "cell_type": "code",
      "execution_count": null,
      "metadata": {
        "id": "kImWOP1vvEew",
        "outputId": "5ada16a4-c467-463a-9eaa-4c1bb618f6c6",
        "colab": {
          "base_uri": "https://localhost:8080/"
        }
      },
      "outputs": [
        {
          "output_type": "stream",
          "name": "stdout",
          "text": [
            "¡Te quedan 10 puntos de vida!\n",
            "Enemigo ataca. ¿Cuánto daño recibes? 20\n",
            "¡Game over! Tu personaje ha sido derrotado.\n"
          ]
        }
      ],
      "source": [
        "vida_jugador = 10\n",
        "\n",
        "while vida_jugador > 0:\n",
        "    print(\"¡Te quedan\", vida_jugador, \"puntos de vida!\")\n",
        "    ataque_enemigo = int(input(\"Enemigo ataca. ¿Cuánto daño recibes? \"))\n",
        "    vida_jugador = vida_jugador - ataque_enemigo\n",
        "\n",
        "print(\"¡Game over! Tu personaje ha sido derrotado.\")"
      ]
    },
    {
      "cell_type": "markdown",
      "metadata": {
        "id": "-na7JnBEvEex"
      },
      "source": [
        "##  <a id='t7'>7. FUNCIONES</a>"
      ]
    },
    {
      "cell_type": "markdown",
      "metadata": {
        "id": "C6Nz6a68vEex"
      },
      "source": [
        "Las funciones en Python son bloques de código que realizan tareas específicas y pueden ser reutilizados en diferentes partes de un programa. Funcionan como \"máquinas\" que toman datos de entrada (llamados argumentos o parámetros), los procesan y devuelven un resultado. Aquí hay una explicación breve:"
      ]
    },
    {
      "cell_type": "code",
      "execution_count": null,
      "metadata": {
        "id": "GoMRgw9nvEey"
      },
      "outputs": [],
      "source": [
        "def saludar(nombre):\n",
        "    mensaje = \"Hola, \" + nombre\n",
        "    return mensaje"
      ]
    },
    {
      "cell_type": "code",
      "execution_count": null,
      "metadata": {
        "id": "1kiqD-kMvEez",
        "outputId": "43980075-a9a9-4f3b-a38c-fbdbc71724d7",
        "colab": {
          "base_uri": "https://localhost:8080/",
          "height": 36
        }
      },
      "outputs": [
        {
          "output_type": "execute_result",
          "data": {
            "text/plain": [
              "'Hola, José'"
            ],
            "application/vnd.google.colaboratory.intrinsic+json": {
              "type": "string"
            }
          },
          "metadata": {},
          "execution_count": 25
        }
      ],
      "source": [
        "saludar(\"José\")"
      ]
    },
    {
      "cell_type": "markdown",
      "metadata": {
        "id": "BsyRLOlAvEez"
      },
      "source": [
        "La estructura básica de una función es la siguiente:"
      ]
    },
    {
      "cell_type": "code",
      "execution_count": null,
      "metadata": {
        "id": "0zgo1rITvEez"
      },
      "outputs": [],
      "source": [
        "def calcular_imc(peso, estatura):\n",
        "    '''\n",
        "    Objetivo:\n",
        "        - Calcular el IMC de una persona dado su peso y altura\n",
        "\n",
        "    Input:\n",
        "        - peso:     peso en kilogramos\n",
        "        - estatura: estatura en centrímetros\n",
        "\n",
        "    Output:\n",
        "        - IMC calculado\n",
        "    '''\n",
        "    estatura_cm = estatura/100\n",
        "    imc         = peso/(estatura_cm)**2\n",
        "    imc         = round(imc, 3)\n",
        "    return imc"
      ]
    },
    {
      "cell_type": "code",
      "execution_count": null,
      "metadata": {
        "id": "hBIXn4jlvEe0",
        "outputId": "35eec5c5-0bf1-438c-b775-111540e32318",
        "colab": {
          "base_uri": "https://localhost:8080/"
        }
      },
      "outputs": [
        {
          "output_type": "execute_result",
          "data": {
            "text/plain": [
              "20.047"
            ]
          },
          "metadata": {},
          "execution_count": 27
        }
      ],
      "source": [
        "calcular_imc(60,173)"
      ]
    },
    {
      "cell_type": "markdown",
      "metadata": {
        "id": "p8feft2bvEe0"
      },
      "source": [
        "Un ejemplo adicional de función:"
      ]
    },
    {
      "cell_type": "code",
      "execution_count": null,
      "metadata": {
        "id": "ai8kd7LQvEe1"
      },
      "outputs": [],
      "source": [
        "def pobreza_hogares( n_personas, n_habitaciones, ingreso ):\n",
        "\n",
        "    '''\n",
        "    Objetivo:\n",
        "        - Determinar si un hogar es pobre\n",
        "\n",
        "    Input:\n",
        "        - n_personas:     número de personas que componen regularmente el hogar\n",
        "        - n_habitaciones: número de habitaciones del hogar\n",
        "        - ingreso:        ingreso monetario bruto mensual a nivel de hogar\n",
        "\n",
        "    Procedimiento:\n",
        "        - Se calcula el ratio de personas por habitación. Si este ratio es menor a 2.4,\n",
        "          se considera que existe hacinamiento en el hogar.\n",
        "        - Se calcula el ingreso per cápita mensual. Si el valor de este indicador es\n",
        "          mayor a 450, se considera que el ingreso es suficiente.\n",
        "        - Si se cumplen las dos condiciones: no hacinamiento e ingreso suficiente,\n",
        "          el hogar se considera \"no pobre\". Todos los demás casos posibles sí\n",
        "          implican que el hogar es pobre.\n",
        "\n",
        "    Output:\n",
        "        - Un veredicto que determina si el hogar es pobre.\n",
        "    '''\n",
        "\n",
        "    ratio_habs         = n_personas / n_habitaciones\n",
        "    ingreso_pc         = ingreso    / n_personas\n",
        "    no_hacinamiento    = ratio_habs < 2.4\n",
        "    ingreso_suficiente = ingreso_pc > 450\n",
        "\n",
        "    no_pobre = no_hacinamiento and ingreso_suficiente\n",
        "\n",
        "    if no_pobre  == True:\n",
        "        veredicto = \"No es un hogar pobre\"\n",
        "    else:\n",
        "        veredicto = \"Sí es un hogar pobre\"\n",
        "\n",
        "    return veredicto"
      ]
    },
    {
      "cell_type": "code",
      "execution_count": null,
      "metadata": {
        "id": "MpthuVCJvEe1",
        "outputId": "c2ab4a81-df2d-432d-ff3c-3cde1c29cfe3",
        "colab": {
          "base_uri": "https://localhost:8080/",
          "height": 36
        }
      },
      "outputs": [
        {
          "output_type": "execute_result",
          "data": {
            "text/plain": [
              "'Sí es un hogar pobre'"
            ],
            "application/vnd.google.colaboratory.intrinsic+json": {
              "type": "string"
            }
          },
          "metadata": {},
          "execution_count": 30
        }
      ],
      "source": [
        "# Hogar 1\n",
        "\n",
        "n_personas_1     = 5\n",
        "n_habitaciones_1 = 3\n",
        "ingreso_1        = 1800\n",
        "\n",
        "pobreza_hogares(n_personas_1, n_habitaciones_1, ingreso_1)"
      ]
    },
    {
      "cell_type": "code",
      "execution_count": null,
      "metadata": {
        "id": "xaKQhV0fvEe1",
        "outputId": "e0b4f367-2b04-432f-800f-8c343b426e8e",
        "colab": {
          "base_uri": "https://localhost:8080/",
          "height": 36
        }
      },
      "outputs": [
        {
          "output_type": "execute_result",
          "data": {
            "text/plain": [
              "'No es un hogar pobre'"
            ],
            "application/vnd.google.colaboratory.intrinsic+json": {
              "type": "string"
            }
          },
          "metadata": {},
          "execution_count": 31
        }
      ],
      "source": [
        "# Hogar 2\n",
        "\n",
        "n_personas_2     = 3\n",
        "n_habitaciones_2 = 3\n",
        "ingreso_2        = 2500\n",
        "\n",
        "pobreza_hogares(n_personas_2, n_habitaciones_2, ingreso_2)"
      ]
    },
    {
      "cell_type": "code",
      "source": [
        "# Hogar 3\n",
        "\n",
        "n_personas_3     = 10\n",
        "n_habitaciones_3 = 20\n",
        "ingreso_3        = 4000\n",
        "\n",
        "pobreza_hogares(n_personas_3, n_habitaciones_3, ingreso_3)"
      ],
      "metadata": {
        "id": "DyCT1stR-2Jv"
      },
      "execution_count": null,
      "outputs": []
    }
  ],
  "metadata": {
    "kernelspec": {
      "display_name": "Python 3 (ipykernel)",
      "language": "python",
      "name": "python3"
    },
    "language_info": {
      "codemirror_mode": {
        "name": "ipython",
        "version": 3
      },
      "file_extension": ".py",
      "mimetype": "text/x-python",
      "name": "python",
      "nbconvert_exporter": "python",
      "pygments_lexer": "ipython3",
      "version": "3.11.4"
    },
    "colab": {
      "provenance": []
    }
  },
  "nbformat": 4,
  "nbformat_minor": 0
}