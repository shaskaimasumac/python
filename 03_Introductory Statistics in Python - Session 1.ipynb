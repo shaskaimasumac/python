{
 "cells": [
  {
   "cell_type": "markdown",
   "id": "0d30222d-e53e-48de-a947-886b1c5d7d09",
   "metadata": {},
   "source": [
    "# Introductory Statistics in Python - Session 1\n",
    "The workshop addresses the fundamentals of statistics management with Python. The objective is to give the student the fundamental knowledge to perform main statistical tasks in Python. The Python codes will be written and executed in Jupyter Notebook. Students will be provided with the necessary databases to be able to run the codes.\n",
    "\n",
    "In the first session, we will cover descriptive statistics, providing tools to calculate measures of central tendency, spread, and summary statistics. Following that, we'll delve into probability calculations and sampling techniques, including both with and without replacement. Additionally, we will introduce discrete and continuous probability distributions using `scipy.stats`.\n",
    "\n",
    "### Lecturer: Esteban Cabrera (esteban.cabrera@pucp.edu.pe)"
   ]
  },
  {
   "cell_type": "markdown",
   "id": "824abff4-f414-42e1-bb16-02159dc4867a",
   "metadata": {},
   "source": [
    "## **Table of Contents**\n",
    "- <a href='#t1'>1. Descriptive Statistics in Python</a>\n",
    "     - <a href='#1.1.'>1.1 Measures of central tendency</a>\n",
    "        - <a href='#1.1.1'>Mean</a>\n",
    "        - <a href='#1.1.2'>Weighted Mean</a>\n",
    "        - <a href='#1.1.3'>Harmonic Mean</a> \n",
    "        - <a href='#1.1.4'>Geometric Mean</a>\n",
    "        - <a href='#1.1.5'>Median</a>\n",
    "        - <a href='#1.1.6'>Mode</a> \n",
    "     - <a href='#1.2.'>1.2. Measures of spread</a>\n",
    "        - <a href='#1.2.1'>Variance</a>\n",
    "        - <a href='#1.2.2'>Standard deviation</a>\n",
    "        - <a href='#1.2.3'>Skewness</a>\n",
    "        - <a href='#1.2.4'>Percentiles</a>\n",
    "     - <a href='#1.3.'>1.3. Summary of Descriptive Statistics </a>\n",
    "- <a href='#t2'>2. Probabilities in Python </a>\n",
    "     - <a href='#2.1.'> 2.1 Calculating probabilities </a>\n",
    "     - <a href='#2.2.'> 2.2 Sampling </a>\n",
    "- <a href='#t3'>3. Distributions with scipy.stats </a>\n",
    "     - <a href='#3.1.'> 3.1 Discrete probability distributions </a>\n",
    "         - <a href='#3.1.1'> Discrete Empirical distribution </a> \n",
    "         - <a href='#3.1.2'> Discrete Uniform distribution </a>  \n",
    "     - <a href='#3.2.'> 3.2. Continious probability distributions </a>\n",
    "         - <a href='#3.2.1'> Continuous Uniform distribution </a>\n",
    "         - <a href='#3.2.2'> Binomial distribution </a> \n",
    "         - <a href='#3.2.3'> Normal distribution </a>"
   ]
  },
  {
   "cell_type": "markdown",
   "id": "be215106-4a1a-42a6-94ff-f404b1ab7513",
   "metadata": {},
   "source": [
    "#  <a id='t1'> 1. Descriptive Statistics in Python</a>\n",
    "In this workshop, we embark on a journey into the world of statistics using the versatile programming language, Python. Statistics plays a pivotal role in extracting meaningful insights from data, and Python provides a powerful platform to perform statistical analysis efficiently. Get ready to explore the foundations of statistical analysis, learn essential Python libraries, and gain the skills to make informed decisions based on data. For this course we will mainly be using numpy and pandas libraries\n"
   ]
  },
  {
   "cell_type": "markdown",
   "id": "3695043f-88a5-45a3-977e-573082be3f9a",
   "metadata": {},
   "source": [
    "## <a id='1.1.'> 1.1 Measures of central tendency </a> \n",
    "In this section, we delve into the fundamental concept of \"Measures of Central Tendency.\" At the heart of statistical analysis, these measures provide a summary of the central or average value within a dataset, offering crucial insights into its central tendencies. We'll explore three primary measures: the mean, which represents the arithmetic average; the median, which identifies the middle value; and the mode, representing the most frequently occurring value. We will first use numpy arrays to use this functions. Then, we will be using a database containing macroeconomic data from Peru. "
   ]
  },
  {
   "cell_type": "code",
   "execution_count": 153,
   "id": "33cba7df-5c09-49e5-95c7-94ddc41340b5",
   "metadata": {
    "tags": []
   },
   "outputs": [],
   "source": [
    ">>> import math\n",
    ">>> import statistics\n",
    ">>> import numpy as np\n",
    ">>> from scipy import stats\n",
    ">>> import scipy\n",
    ">>> import pandas as pd\n",
    ">>> import matplotlib.pyplot as plt"
   ]
  },
  {
   "cell_type": "code",
   "execution_count": 2,
   "id": "c9a3365e-ac10-4577-9ca7-589dcfd4e1ce",
   "metadata": {
    "tags": []
   },
   "outputs": [],
   "source": [
    "# We create an list and the same list with a nan value\n",
    ">>> x = [8.0, 1, 2.5, 4, 28.0]\n",
    ">>> x_nan = [8.0, 1, 2.5, math.nan, 4, 28.0]"
   ]
  },
  {
   "cell_type": "code",
   "execution_count": 3,
   "id": "5c517a1a-706f-4f0a-a556-574895841950",
   "metadata": {
    "tags": []
   },
   "outputs": [],
   "source": [
    "# Alternatively\n",
    ">>> x_nan = [8.0, 1, 2.5, np.nan, 4, 28.0]"
   ]
  },
  {
   "cell_type": "code",
   "execution_count": 4,
   "id": "a97b91b2-32bc-495c-9c04-42cd404b30c9",
   "metadata": {
    "tags": []
   },
   "outputs": [],
   "source": [
    "# We create their array and series versions\n",
    ">>> y, y_nan = np.array(x), np.array(x_nan)\n",
    ">>> z, z_nan = pd.Series(x), pd.Series(x_nan)"
   ]
  },
  {
   "cell_type": "markdown",
   "id": "5db497dd-8bd7-4992-833d-dac0f494bcdc",
   "metadata": {},
   "source": [
    "### <a id='1.1.1'> Mean </a> \n",
    "We can calculate the mean dividing the sum againts the length. This does not work if we include the nan value.\n",
    "The ```mean()``` and ```fmean()``` funtions return the same value in a more elegant way. ```fmean()``` always return a float number and is faster than ```mean()```."
   ]
  },
  {
   "cell_type": "code",
   "execution_count": 5,
   "id": "f1d56f7b-2a34-4c93-b104-03e403f1157d",
   "metadata": {
    "tags": []
   },
   "outputs": [
    {
     "name": "stdout",
     "output_type": "stream",
     "text": [
      "8.7\n"
     ]
    }
   ],
   "source": [
    "# We can calculate the mean dividing the sum againts the length\n",
    "mean = sum(x) / len(x)\n",
    "print(mean)"
   ]
  },
  {
   "cell_type": "code",
   "execution_count": 6,
   "id": "a6d5cc8f-7241-4db5-9d2e-e67ad69550fc",
   "metadata": {
    "tags": []
   },
   "outputs": [
    {
     "name": "stdout",
     "output_type": "stream",
     "text": [
      "nan\n"
     ]
    }
   ],
   "source": [
    "# This does not work if we include the nan value\n",
    "mean = sum(x_nan) / len(x_nan)\n",
    "print(mean)"
   ]
  },
  {
   "cell_type": "code",
   "execution_count": 7,
   "id": "31a0f97e-1a0c-4cc5-9f1d-a0ca758c8196",
   "metadata": {
    "tags": []
   },
   "outputs": [
    {
     "name": "stdout",
     "output_type": "stream",
     "text": [
      "8.7\n",
      "8.7\n"
     ]
    }
   ],
   "source": [
    "# We can apply Python built-in functions of the statistics package\n",
    "mean = statistics.mean(x)\n",
    "print(mean)\n",
    "mean = statistics.fmean(x)\n",
    "print(mean)"
   ]
  },
  {
   "cell_type": "code",
   "execution_count": 8,
   "id": "ed9213c6-c8bc-40d7-b9bc-77ebc24ea1ff",
   "metadata": {
    "tags": []
   },
   "outputs": [
    {
     "name": "stdout",
     "output_type": "stream",
     "text": [
      "nan\n",
      "nan\n"
     ]
    }
   ],
   "source": [
    "# But they do not work wit nan values\n",
    "mean = statistics.mean(x_nan)\n",
    "print(mean)\n",
    "mean = statistics.fmean(x_nan)\n",
    "print(mean)"
   ]
  },
  {
   "cell_type": "markdown",
   "id": "1301135e-63bd-478d-9df9-140bb2d5bfdd",
   "metadata": {},
   "source": [
    " Numpy also offers us the ```np.mean()``` and ```np.nanmean()``` functions, as well as the ```.mean()``` method. "
   ]
  },
  {
   "cell_type": "code",
   "execution_count": 9,
   "id": "12e9f90d-ab9f-44f3-aeeb-d321cc52f329",
   "metadata": {
    "tags": []
   },
   "outputs": [
    {
     "name": "stdout",
     "output_type": "stream",
     "text": [
      "8.7\n",
      "nan\n"
     ]
    }
   ],
   "source": [
    "# We can also use the numpy function on lists\n",
    "mean = np.mean(x)\n",
    "print(mean)\n",
    "mean = np.mean(x_nan)\n",
    "print(mean)"
   ]
  },
  {
   "cell_type": "code",
   "execution_count": 10,
   "id": "e23dd3f8-266a-4d4b-a729-96cae83cefee",
   "metadata": {
    "tags": []
   },
   "outputs": [
    {
     "name": "stdout",
     "output_type": "stream",
     "text": [
      "8.7\n",
      "nan\n"
     ]
    }
   ],
   "source": [
    "# We can also use numpy method on arrays\n",
    "mean = y.mean()\n",
    "print(mean)\n",
    "mean = y_nan.mean()\n",
    "print(mean)"
   ]
  },
  {
   "cell_type": "code",
   "execution_count": 11,
   "id": "0d65da40-ec03-4c8a-97b9-6849474750b8",
   "metadata": {
    "tags": []
   },
   "outputs": [
    {
     "name": "stdout",
     "output_type": "stream",
     "text": [
      "8.7\n",
      "8.7\n"
     ]
    }
   ],
   "source": [
    "# We can also use numpy method on series. The pandas method authomatically ignores nan values\n",
    "mean = z.mean()\n",
    "print(mean)\n",
    "mean = z_nan.mean()\n",
    "print(mean)"
   ]
  },
  {
   "cell_type": "code",
   "execution_count": 12,
   "id": "dfdbf0cc-a702-4b11-aaf0-46fa4967e0a3",
   "metadata": {
    "tags": []
   },
   "outputs": [
    {
     "name": "stdout",
     "output_type": "stream",
     "text": [
      "8.7\n",
      "8.7\n"
     ]
    }
   ],
   "source": [
    "# We can do the same for lists and arrays for nanmean()\n",
    "print(np.nanmean(y_nan))\n",
    "print(np.nanmean(x_nan))"
   ]
  },
  {
   "cell_type": "markdown",
   "id": "bf690e96-d965-4fa1-983c-7105c0d35aa1",
   "metadata": {},
   "source": [
    "### <a id='1.1.2'> Weighted mean </a> \n",
    "The weighted mean, or weighted average, is an extension of the regular mean in statistics. It allows us to give different weights to individual data points, indicating their varying impact on the overall result. You can calculate the weighted mean with built-in Python functions by combining ```sum()``` with either ```range()``` or ```zip()```. "
   ]
  },
  {
   "cell_type": "code",
   "execution_count": 13,
   "id": "735eb057-6f82-48ac-8c3d-6903522bea71",
   "metadata": {
    "tags": []
   },
   "outputs": [
    {
     "name": "stdout",
     "output_type": "stream",
     "text": [
      "6.95\n"
     ]
    }
   ],
   "source": [
    "# We define the values and their weights\n",
    ">>> x = [8.0, 1, 2.5, 4, 28.0]\n",
    ">>> w = [0.1, 0.2, 0.3, 0.25, 0.15]\n",
    "# We calculate the weighted mean\n",
    "wmean = sum(w[i] * x[i] for i in range(len(x))) / sum(w)\n",
    "print(wmean)"
   ]
  },
  {
   "cell_type": "code",
   "execution_count": 14,
   "id": "2523c576-3e7c-48eb-b85c-a3d0f05a25e6",
   "metadata": {
    "tags": []
   },
   "outputs": [
    {
     "name": "stdout",
     "output_type": "stream",
     "text": [
      "6.95\n"
     ]
    }
   ],
   "source": [
    "# Alternatively\n",
    "wmean = sum(x_ * w_ for (x_, w_) in zip(x, w)) / sum(w)\n",
    "print(wmean)"
   ]
  },
  {
   "cell_type": "markdown",
   "id": "9f24e2b5-1f39-4e88-9f1b-c32b648778a7",
   "metadata": {},
   "source": [
    "You also can use ```np.average()``` to get the weighted mean of NumPy arrays or pandas Series"
   ]
  },
  {
   "cell_type": "code",
   "execution_count": 15,
   "id": "3da407ed-42cd-4f04-a758-70d7cc866b41",
   "metadata": {
    "tags": []
   },
   "outputs": [
    {
     "name": "stdout",
     "output_type": "stream",
     "text": [
      "6.95\n"
     ]
    }
   ],
   "source": [
    "# We calculate the weighted mean of an array\n",
    "wmean = np.average(y, weights=w)\n",
    "print(wmean)"
   ]
  },
  {
   "cell_type": "code",
   "execution_count": 16,
   "id": "015b8065-bd16-4b39-8530-8c53d5428728",
   "metadata": {
    "tags": []
   },
   "outputs": [
    {
     "name": "stdout",
     "output_type": "stream",
     "text": [
      "6.95\n"
     ]
    }
   ],
   "source": [
    "# We calculate the weighted mean of a pandas series\n",
    "wmean = np.average(z, weights=w)\n",
    "print(wmean)"
   ]
  },
  {
   "cell_type": "markdown",
   "id": "aee2ce6c-5552-4ab2-9ede-d423118e4907",
   "metadata": {},
   "source": [
    "An alternative approach involves utilizing the element-wise product of w * y and then applying ```np.sum()``` or ```.sum()```(w * y).sum() / w.sum()."
   ]
  },
  {
   "cell_type": "code",
   "execution_count": 17,
   "id": "2d58eb60-b36a-4956-a7f8-a49010d5354e",
   "metadata": {
    "tags": []
   },
   "outputs": [
    {
     "data": {
      "text/plain": [
       "6.95"
      ]
     },
     "execution_count": 17,
     "metadata": {},
     "output_type": "execute_result"
    }
   ],
   "source": [
    "w = np.array(w)\n",
    "(w * y).sum() / w.sum()"
   ]
  },
  {
   "cell_type": "markdown",
   "id": "c9492251-5838-4e17-ba74-3210685683ff",
   "metadata": {},
   "source": [
    "It doesn't work when the data contains nan values"
   ]
  },
  {
   "cell_type": "code",
   "execution_count": 18,
   "id": "0255c9aa-17bd-4422-a819-d3551b35d328",
   "metadata": {
    "tags": []
   },
   "outputs": [
    {
     "name": "stdout",
     "output_type": "stream",
     "text": [
      "nan\n",
      "nan\n"
     ]
    }
   ],
   "source": [
    "w = np.array([0.1, 0.2, 0.3, 0.0, 0.2, 0.1])\n",
    "wmean = np.average(y_nan, weights=w)\n",
    "print(wmean)\n",
    "wmean = np.average(z_nan, weights=w)\n",
    "print(wmean)"
   ]
  },
  {
   "cell_type": "markdown",
   "id": "d94ba9be-7082-4e2a-9ca2-1e4e8f144af5",
   "metadata": {},
   "source": [
    "### <a id='1.1.3'> Harmonic Mean </a> \n",
    "The harmonic mean, unlike the weighted mean, highlights the importance of smaller values in a dataset. The harmonic mean accounts for reciprocal values, making it particularly useful in scenarios where rates or ratios play a crucial role. It formula is given by\n",
    "$$\n",
    "\\frac{n}{ \\sum_i(1/x_i)}, \\text{where } i = 1, 2, ..., n\n",
    "$$\n",
    "\n",
    "In Python, you can easily calculate the harmonic mean using functions like ```scipy.stats.hmean()``` or ```statistics.harmonic_mean(x)```"
   ]
  },
  {
   "cell_type": "code",
   "execution_count": 19,
   "id": "733699d8-68f7-4afd-8ba6-b9b982897746",
   "metadata": {
    "tags": []
   },
   "outputs": [
    {
     "name": "stdout",
     "output_type": "stream",
     "text": [
      "2.7613412228796843\n"
     ]
    }
   ],
   "source": [
    "x = [8.0, 1, 2.5, 4, 28.0]\n",
    "hmean = len(x) / sum(1 / item for item in x)\n",
    "print(hmean)"
   ]
  },
  {
   "cell_type": "code",
   "execution_count": 20,
   "id": "3dfff181-0737-404a-b822-f41755971c7b",
   "metadata": {
    "tags": []
   },
   "outputs": [
    {
     "name": "stdout",
     "output_type": "stream",
     "text": [
      "2.7613412228796843\n"
     ]
    }
   ],
   "source": [
    "# We can use scipy\n",
    "hmean = stats.hmean(x)\n",
    "print(hmean)"
   ]
  },
  {
   "cell_type": "code",
   "execution_count": 21,
   "id": "cc9c68d3-3218-4e2b-acad-5139d23460a8",
   "metadata": {
    "tags": []
   },
   "outputs": [
    {
     "name": "stdout",
     "output_type": "stream",
     "text": [
      "2.7613412228796843\n"
     ]
    }
   ],
   "source": [
    "# Or we can use the built-in statistics package\n",
    "hmean = statistics.harmonic_mean(x)\n",
    "print(hmean)"
   ]
  },
  {
   "cell_type": "code",
   "execution_count": 22,
   "id": "934eb5d1-26ce-4601-9fa1-379c40666ae6",
   "metadata": {
    "tags": []
   },
   "outputs": [
    {
     "data": {
      "text/plain": [
       "nan"
      ]
     },
     "execution_count": 22,
     "metadata": {},
     "output_type": "execute_result"
    }
   ],
   "source": [
    "# If there is a nan value it returns nan\n",
    "statistics.harmonic_mean(x_nan)"
   ]
  },
  {
   "cell_type": "code",
   "execution_count": 23,
   "id": "151bd96a-a52a-4e04-a705-a6c22ef171f8",
   "metadata": {
    "tags": []
   },
   "outputs": [
    {
     "data": {
      "text/plain": [
       "0"
      ]
     },
     "execution_count": 23,
     "metadata": {},
     "output_type": "execute_result"
    }
   ],
   "source": [
    "# If there is a 0 it returns 0\n",
    "statistics.harmonic_mean([1, 0, 2])"
   ]
  },
  {
   "cell_type": "code",
   "execution_count": 24,
   "id": "7c24db2e-3949-4062-9171-70390e6cc084",
   "metadata": {
    "tags": []
   },
   "outputs": [],
   "source": [
    "# If there a negative number, it returns an error\n",
    "#statistics.harmonic_mean([1, 2, -2]) "
   ]
  },
  {
   "cell_type": "code",
   "execution_count": 25,
   "id": "7a6a294f-7a7e-491e-9b4e-d0d6cd277a68",
   "metadata": {
    "tags": []
   },
   "outputs": [
    {
     "name": "stdout",
     "output_type": "stream",
     "text": [
      "2.7613412228796843\n",
      "2.7613412228796843\n"
     ]
    }
   ],
   "source": [
    "# We can apply it to arrays and pandas series\n",
    "print(stats.hmean(y))\n",
    "print(stats.hmean(z))"
   ]
  },
  {
   "cell_type": "markdown",
   "id": "421e3b6b-64d5-4d67-94d3-1d72336e10fc",
   "metadata": {},
   "source": [
    "###  <a id='1.1.4'> Geometric Mean </a>  \n",
    "The geometric mean is expressed mathematically as the $n-th$ root of the product of all $n$ elements $x_i$ in a dataset $x$:\n",
    "\n",
    "$$\\sqrt[n]{\\prod_{i=1}^{n} x_i}, \\text{where } (i = 1, 2, \\ldots, n)$$"
   ]
  },
  {
   "cell_type": "markdown",
   "id": "bc132612-92c1-4a5e-90c6-b4aafe056bda",
   "metadata": {},
   "source": [
    "You can incorporate the geometric mean using pure Python in the following manner"
   ]
  },
  {
   "cell_type": "code",
   "execution_count": 26,
   "id": "97f2b7d4-acfa-40c5-84f4-2b8f531413d2",
   "metadata": {
    "tags": []
   },
   "outputs": [
    {
     "name": "stdout",
     "output_type": "stream",
     "text": [
      "4.677885674856041\n"
     ]
    }
   ],
   "source": [
    "gmean = 1\n",
    "for item in x:\n",
    "     gmean *= item\n",
    "\n",
    "gmean **= 1 / len(x)\n",
    "print(gmean)"
   ]
  },
  {
   "cell_type": "markdown",
   "id": "2af5294e-b42c-472d-923f-6f2a8af6c841",
   "metadata": {
    "tags": []
   },
   "source": [
    "Additionally, we can use ```statistics.geometric_mean()```"
   ]
  },
  {
   "cell_type": "code",
   "execution_count": 27,
   "id": "9a8f7b2c-f2b6-434a-979f-1984e443a61e",
   "metadata": {
    "tags": []
   },
   "outputs": [
    {
     "data": {
      "text/plain": [
       "4.67788567485604"
      ]
     },
     "execution_count": 27,
     "metadata": {},
     "output_type": "execute_result"
    }
   ],
   "source": [
    "# We can also use the statistics built-in function\n",
    "gmean = statistics.geometric_mean(x)\n",
    "gmean"
   ]
  },
  {
   "cell_type": "code",
   "execution_count": 28,
   "id": "08063753-7737-4240-8ca3-17f70af5b3c7",
   "metadata": {
    "tags": []
   },
   "outputs": [
    {
     "data": {
      "text/plain": [
       "nan"
      ]
     },
     "execution_count": 28,
     "metadata": {},
     "output_type": "execute_result"
    }
   ],
   "source": [
    "# Doesn't work with nan values\n",
    "gmean = statistics.geometric_mean(x_nan)\n",
    "gmean"
   ]
  },
  {
   "cell_type": "markdown",
   "id": "b563a5b7-d4ea-44b5-93f0-29725fade2c8",
   "metadata": {},
   "source": [
    "You can also get the geometric mean using ```scipy.stats.gmean()``` in arrays and pandas series"
   ]
  },
  {
   "cell_type": "code",
   "execution_count": 29,
   "id": "78f616ad-f290-49fb-aa10-50aec6c9f7c1",
   "metadata": {},
   "outputs": [
    {
     "name": "stdout",
     "output_type": "stream",
     "text": [
      "4.67788567485604\n",
      "nan\n"
     ]
    }
   ],
   "source": [
    "print(stats.gmean(y))\n",
    "\n",
    "print(stats.gmean(y_nan))"
   ]
  },
  {
   "cell_type": "code",
   "execution_count": 30,
   "id": "f8bdd852-d018-456a-946e-9347a9d107fc",
   "metadata": {
    "tags": []
   },
   "outputs": [
    {
     "name": "stdout",
     "output_type": "stream",
     "text": [
      "4.67788567485604\n",
      "nan\n"
     ]
    }
   ],
   "source": [
    "print(stats.gmean(z))\n",
    "\n",
    "print(stats.gmean(z_nan))"
   ]
  },
  {
   "cell_type": "markdown",
   "id": "31f8d07b-0f0b-4014-8358-4db84811cba0",
   "metadata": {},
   "source": [
    "###  <a id='1.1.5'> Median </a>   \n",
    "The median of a sample corresponds to the middle element of the sorted dataset, regardless of whether the sorting is done in ascending or descending order. For an odd number of elements $((n))$, the median is the value at the middle position, specifically at $0.5((n + 1))$. In the case of an even number of elements, the median is determined by taking the average of the two middle values located at positions $0.5(n)$ and $0.5(n + 1)$."
   ]
  },
  {
   "cell_type": "code",
   "execution_count": 31,
   "id": "a0fa063c-24e0-4c2b-8126-242e78e12024",
   "metadata": {
    "tags": []
   },
   "outputs": [],
   "source": [
    "x = [8.0, 1, 2.5, 4, 28.0]\n",
    "x_nan = [8.0, 1, 2.5, math.nan, 4, 28.0]\n",
    "y, y_nan = np.array(x), np.array(x_nan)\n",
    "z, z_nan = pd.Series(x), pd.Series(x_nan)"
   ]
  },
  {
   "cell_type": "markdown",
   "id": "d4384a59-8121-4ca0-bd98-d827d43587f2",
   "metadata": {},
   "source": [
    "This function ```calculate_median()``` takes a dataset as input, sorts it, and computes the median, considering both odd and even-length datasets."
   ]
  },
  {
   "cell_type": "code",
   "execution_count": 32,
   "id": "7823f8c9-5e04-4d9a-93b3-aefb501f600e",
   "metadata": {
    "tags": []
   },
   "outputs": [
    {
     "name": "stdout",
     "output_type": "stream",
     "text": [
      "Median: 4\n"
     ]
    }
   ],
   "source": [
    "def calculate_median(data):\n",
    "    n = len(data)\n",
    "    sorted_data = sorted(data)\n",
    "\n",
    "    if n % 2:\n",
    "        median_value = sorted_data[round(0.5 * (n - 1))]\n",
    "    else:\n",
    "        index = round(0.5 * n)\n",
    "        median_value = 0.5 * (sorted_data[index - 1] + sorted_data[index])\n",
    "\n",
    "    return median_value\n",
    "\n",
    "median_ = calculate_median(x)\n",
    "print(\"Median:\", median_)"
   ]
  },
  {
   "cell_type": "markdown",
   "id": "35e82863-c839-4092-8f77-d2aedb1f9b0d",
   "metadata": {},
   "source": [
    "We can also use the ```statistics.median()``` function. The sorted form of x, [1, 2.5, 4, 8.0, 28.0], places 4 at the middle position. Removing the last item (28.0) from x, the sorted version becomes [1, 2.5, 4, 8.0]. In this case, with two middle elements, 2.5 and 4, their average is 3.25."
   ]
  },
  {
   "cell_type": "code",
   "execution_count": 33,
   "id": "110a6cab-f016-4d04-92e6-f80c0333ad54",
   "metadata": {
    "tags": []
   },
   "outputs": [
    {
     "data": {
      "text/plain": [
       "4"
      ]
     },
     "execution_count": 33,
     "metadata": {},
     "output_type": "execute_result"
    }
   ],
   "source": [
    "median_ = statistics.median(x)\n",
    "median_"
   ]
  },
  {
   "cell_type": "code",
   "execution_count": 34,
   "id": "efade28f-f035-4109-a067-42e62f91575c",
   "metadata": {
    "tags": []
   },
   "outputs": [
    {
     "data": {
      "text/plain": [
       "3.25"
      ]
     },
     "execution_count": 34,
     "metadata": {},
     "output_type": "execute_result"
    }
   ],
   "source": [
    "median_ = statistics.median(x[:-1])\n",
    "median_"
   ]
  },
  {
   "cell_type": "markdown",
   "id": "39b788b4-bfd0-4a3d-853f-d4d0e7d89c25",
   "metadata": {},
   "source": [
    "Additionally, we can use ```statistics.median_low()``` and ```statistics.median_high()```. When the element count is odd, these functions operate similarly to median(), as there is a lone middle value. However, if the count is even, ```median_low()``` yields the lower middle value, while ```median_high()``` provides the higher middle value."
   ]
  },
  {
   "cell_type": "code",
   "execution_count": 35,
   "id": "72565711-e5ab-4d59-b725-8a7b82ef7e4c",
   "metadata": {
    "tags": []
   },
   "outputs": [
    {
     "data": {
      "text/plain": [
       "2.5"
      ]
     },
     "execution_count": 35,
     "metadata": {},
     "output_type": "execute_result"
    }
   ],
   "source": [
    "# median_low will return 2.5\n",
    "median_ = statistics.median_low(x[:-1])\n",
    "median_"
   ]
  },
  {
   "cell_type": "code",
   "execution_count": 36,
   "id": "ea5fcb7a-cb32-4e87-9a55-7557a0caaf45",
   "metadata": {
    "tags": []
   },
   "outputs": [
    {
     "data": {
      "text/plain": [
       "4"
      ]
     },
     "execution_count": 36,
     "metadata": {},
     "output_type": "execute_result"
    }
   ],
   "source": [
    "# median_high will return 4\n",
    "median_ = statistics.median_high(x[:-1])\n",
    "median_"
   ]
  },
  {
   "cell_type": "markdown",
   "id": "954eb729-df96-4048-94dd-081abb7eec33",
   "metadata": {},
   "source": [
    "This functions work well with nan, unlike most other functions"
   ]
  },
  {
   "cell_type": "code",
   "execution_count": 37,
   "id": "e03afc75-300c-4510-a348-202ed38e3d76",
   "metadata": {
    "tags": []
   },
   "outputs": [
    {
     "name": "stdout",
     "output_type": "stream",
     "text": [
      "6.0\n",
      "4\n",
      "8.0\n"
     ]
    }
   ],
   "source": [
    "print(statistics.median(x_nan))\n",
    "print(statistics.median_low(x_nan))\n",
    "print(statistics.median_high(x_nan))"
   ]
  },
  {
   "cell_type": "markdown",
   "id": "5ec47b08-5810-48a4-90c8-801286fd52b9",
   "metadata": {},
   "source": [
    "We can use Numpy similarly with ```np.median()```, giving us the same results for lists, arrays and series."
   ]
  },
  {
   "cell_type": "code",
   "execution_count": 38,
   "id": "1472607a-9731-46ba-b149-d55282da0816",
   "metadata": {
    "tags": []
   },
   "outputs": [
    {
     "name": "stdout",
     "output_type": "stream",
     "text": [
      "4.0\n",
      "3.25\n"
     ]
    }
   ],
   "source": [
    "median_ = np.median(y)\n",
    "print(median_)\n",
    "\n",
    "median_ = np.median(z[:-1])\n",
    "print(median_)"
   ]
  },
  {
   "cell_type": "markdown",
   "id": "a0dcc15a-f970-4ca6-a604-127b6f9ddb04",
   "metadata": {
    "tags": []
   },
   "source": [
    "In case we want to include nan values, then we use ```np.nanmedian()```. "
   ]
  },
  {
   "cell_type": "code",
   "execution_count": 39,
   "id": "5b299fda-cc71-4064-9caa-2a7fd23e3da5",
   "metadata": {
    "tags": []
   },
   "outputs": [
    {
     "name": "stdout",
     "output_type": "stream",
     "text": [
      "4.0\n",
      "3.25\n"
     ]
    }
   ],
   "source": [
    "median_ = np.nanmedian(y_nan)\n",
    "print(median_)\n",
    "\n",
    "median_ = np.nanmedian(z_nan[:-1])\n",
    "print(median_)"
   ]
  },
  {
   "cell_type": "markdown",
   "id": "56929dee-37a7-4aab-92cd-d77c948a6e08",
   "metadata": {},
   "source": [
    "Finally, we have the pandas Series method ```.median()``` that ignores nan values by default"
   ]
  },
  {
   "cell_type": "code",
   "execution_count": 40,
   "id": "310160cd-2b9f-4756-b919-adddd99d51c5",
   "metadata": {
    "tags": []
   },
   "outputs": [
    {
     "name": "stdout",
     "output_type": "stream",
     "text": [
      "4.0\n",
      "4.0\n"
     ]
    }
   ],
   "source": [
    "print(z.median())\n",
    "print(z_nan.median())"
   ]
  },
  {
   "cell_type": "markdown",
   "id": "5810693c-9727-40ae-9d63-b3c550d8549a",
   "metadata": {},
   "source": [
    "### <a id='1.1.6'> Mode </a>  \n",
    "The mode in a sample refers to the value that appears most frequently in the dataset. If there isn't a singular value with the highest frequency, the dataset is considered multimodal as it contains multiple modal values. We can easily obtain the mode this way:"
   ]
  },
  {
   "cell_type": "code",
   "execution_count": 41,
   "id": "d740f7da-7c8d-4e58-870c-44aa625dcda2",
   "metadata": {
    "tags": []
   },
   "outputs": [
    {
     "data": {
      "text/plain": [
       "6"
      ]
     },
     "execution_count": 41,
     "metadata": {},
     "output_type": "execute_result"
    }
   ],
   "source": [
    "u = [6, 3, 6, 9, 12, 9, 6]\n",
    "mode_ = max((u.count(item), item) for item in set(u))[1]\n",
    "mode_"
   ]
  },
  {
   "cell_type": "markdown",
   "id": "b8a4a992-2781-4e46-a52d-6f14fc5c1df8",
   "metadata": {},
   "source": [
    "We can also obtain the mode with ```statistics.mode()``` and ```statistics.multimode()```"
   ]
  },
  {
   "cell_type": "code",
   "execution_count": 42,
   "id": "ab01800f-c175-42a9-a1d5-d28803b5697d",
   "metadata": {
    "tags": []
   },
   "outputs": [
    {
     "data": {
      "text/plain": [
       "6"
      ]
     },
     "execution_count": 42,
     "metadata": {},
     "output_type": "execute_result"
    }
   ],
   "source": [
    "mode_ = statistics.mode(u)\n",
    "mode_"
   ]
  },
  {
   "cell_type": "code",
   "execution_count": 43,
   "id": "f08c3ad3-a6bc-4eb5-886f-0abe9c6eeca5",
   "metadata": {
    "tags": []
   },
   "outputs": [
    {
     "data": {
      "text/plain": [
       "[6, 9]"
      ]
     },
     "execution_count": 43,
     "metadata": {},
     "output_type": "execute_result"
    }
   ],
   "source": [
    "u = [6, 3, 6, 9, 12, 9, 6, 9]\n",
    "mode_ = statistics.multimode(u)\n",
    "mode_"
   ]
  },
  {
   "cell_type": "code",
   "execution_count": 44,
   "id": "b152445e-fa52-49c9-a34d-aa8cb7de2283",
   "metadata": {
    "tags": []
   },
   "outputs": [
    {
     "data": {
      "text/plain": [
       "[11, 13]"
      ]
     },
     "execution_count": 44,
     "metadata": {},
     "output_type": "execute_result"
    }
   ],
   "source": [
    "v = [11, 13, 11, 13, 17, 13, 11]\n",
    "mode_ = statistics.multimode(v)\n",
    "mode_"
   ]
  },
  {
   "cell_type": "markdown",
   "id": "cb975b97-8b76-413f-afe3-d83b75b24035",
   "metadata": {},
   "source": [
    "Both functions handle nan values as regular values and can return nan as the modal value"
   ]
  },
  {
   "cell_type": "code",
   "execution_count": 45,
   "id": "d8064787-881a-4ab6-bd99-b2b8c5f787a6",
   "metadata": {
    "tags": []
   },
   "outputs": [
    {
     "data": {
      "text/plain": [
       "[2, nan]"
      ]
     },
     "execution_count": 45,
     "metadata": {},
     "output_type": "execute_result"
    }
   ],
   "source": [
    "statistics.multimode([2, math.nan, 2, math.nan, 5])"
   ]
  },
  {
   "cell_type": "markdown",
   "id": "9704838e-ca6c-49c6-a75d-2ef763418ddb",
   "metadata": {},
   "source": [
    "You can also get the mode with ```scipy.stats.mode()```"
   ]
  },
  {
   "cell_type": "code",
   "execution_count": 46,
   "id": "c9e39a0a-5594-4d54-bfa1-0a8afa5d0414",
   "metadata": {
    "tags": []
   },
   "outputs": [
    {
     "name": "stderr",
     "output_type": "stream",
     "text": [
      "D:\\Users\\u_sociales\\AppData\\Local\\Temp\\ipykernel_22648\\4146230136.py:2: FutureWarning: Unlike other reduction functions (e.g. `skew`, `kurtosis`), the default behavior of `mode` typically preserves the axis it acts along. In SciPy 1.11.0, this behavior will change: the default value of `keepdims` will become False, the `axis` over which the statistic is taken will be eliminated, and the value None will no longer be accepted. Set `keepdims` to True or False to avoid this warning.\n",
      "  mode_ = stats.mode(u)\n"
     ]
    },
    {
     "data": {
      "text/plain": [
       "ModeResult(mode=array([6]), count=array([3]))"
      ]
     },
     "execution_count": 46,
     "metadata": {},
     "output_type": "execute_result"
    }
   ],
   "source": [
    "u = np.array(u)\n",
    "mode_ = stats.mode(u)\n",
    "mode_"
   ]
  },
  {
   "cell_type": "markdown",
   "id": "2ad6e435-1f7e-4e0e-b0e1-5ee7083ca1bf",
   "metadata": {},
   "source": [
    "We can get the the mode and its number of occurrences as NumPy arrays with dot notation\n"
   ]
  },
  {
   "cell_type": "code",
   "execution_count": 47,
   "id": "f06f6ed7-a42b-4128-9a37-54084afa499c",
   "metadata": {
    "tags": []
   },
   "outputs": [
    {
     "name": "stdout",
     "output_type": "stream",
     "text": [
      "[6]\n",
      "[3]\n"
     ]
    }
   ],
   "source": [
    "print(mode_.mode)\n",
    "print(mode_.count)"
   ]
  },
  {
   "cell_type": "markdown",
   "id": "37012fd4-8d03-44ce-802c-592ea2b86e29",
   "metadata": {},
   "source": [
    "Pandas Series have the method ```.mode()``` that handles multimodal values well and ignores nan values by default"
   ]
  },
  {
   "cell_type": "code",
   "execution_count": 48,
   "id": "2b221f8e-de75-40dd-9d25-812b592e90a0",
   "metadata": {
    "tags": []
   },
   "outputs": [
    {
     "name": "stdout",
     "output_type": "stream",
     "text": [
      "0    6\n",
      "1    9\n",
      "dtype: int32\n",
      "0    11\n",
      "1    13\n",
      "dtype: int64\n",
      "0    2.0\n",
      "dtype: float64\n"
     ]
    }
   ],
   "source": [
    "u, v, w = pd.Series(u), pd.Series(v), pd.Series([2, 2, math.nan])\n",
    "print(u.mode())\n",
    "print(v.mode())\n",
    "print(w.mode())"
   ]
  },
  {
   "cell_type": "markdown",
   "id": "74347de3-392e-4998-b455-b90b68eb496a",
   "metadata": {},
   "source": [
    "## <a id='1.1.'> 1.2 Measures of spread </a> \n",
    "In this section, we delve into the essential tools that help us understand the variability and dispersion within a dataset. Measures such as range, variance, and standard deviation provide insights into how data points are distributed around the central tendency. By using these measures of spread, you'll gain a deeper understanding of the distribution of data, enabling you to make informed decisions and draw meaningful conclusions from your statistical analyses."
   ]
  },
  {
   "cell_type": "markdown",
   "id": "7a492cbc",
   "metadata": {},
   "source": [
    "### <a id='1.2.1'> Variance </a>  \n",
    "\n",
    "The sample variance measures how the data is dispersed, indicating the distance of data points from the mean numerically. Mathematically, the sample variance of a dataset 𝑥 with 𝑛 elements can be expressed as\n",
    "\n",
    "$$s^2 = \\frac{\\sum_{i}(x_i - \\text{mean}(x))^2}{(n - 1)}$$\n",
    "\n",
    "where $i = 1, 2, ..., n$ and $mean(x)$ represents the sample mean of $x$."
   ]
  },
  {
   "cell_type": "markdown",
   "id": "85eb53d4",
   "metadata": {},
   "source": [
    "Here's a method to compute the sample variance using only Python without libraries:"
   ]
  },
  {
   "cell_type": "code",
   "execution_count": 118,
   "id": "8feb925e",
   "metadata": {},
   "outputs": [
    {
     "data": {
      "text/plain": [
       "123.19999999999999"
      ]
     },
     "execution_count": 118,
     "metadata": {},
     "output_type": "execute_result"
    }
   ],
   "source": [
    "n = len(x)\n",
    "mean_ = sum(x) / n\n",
    "var_ = sum((item - mean_)**2 for item in x) / (n - 1)\n",
    "var_"
   ]
  },
  {
   "cell_type": "markdown",
   "id": "c1063792",
   "metadata": {},
   "source": [
    "While this approach is effective and accurately computes the sample variance, a more concise and elegant solution would be to utilize the existing function `statistics.variance()`."
   ]
  },
  {
   "cell_type": "code",
   "execution_count": 119,
   "id": "3620504b",
   "metadata": {},
   "outputs": [
    {
     "data": {
      "text/plain": [
       "123.2"
      ]
     },
     "execution_count": 119,
     "metadata": {},
     "output_type": "execute_result"
    }
   ],
   "source": [
    "var_ = statistics.variance(x)\n",
    "var_"
   ]
  },
  {
   "cell_type": "markdown",
   "id": "26b1cad5",
   "metadata": {},
   "source": [
    "If your data contains NaN values, using `statistics.variance()` will result in the function returning NaN. This is consistent with `mean()` and most other functions within the Python statistics library."
   ]
  },
  {
   "cell_type": "code",
   "execution_count": 121,
   "id": "57a7c3f5",
   "metadata": {},
   "outputs": [
    {
     "data": {
      "text/plain": [
       "nan"
      ]
     },
     "execution_count": 121,
     "metadata": {},
     "output_type": "execute_result"
    }
   ],
   "source": [
    "statistics.variance(x_nan)"
   ]
  },
  {
   "cell_type": "markdown",
   "id": "fb0bb2a0",
   "metadata": {},
   "source": [
    "Another option to compute the sample variance is by using NumPy. You can utilize either the function `np.var()` or its corresponding method `.var()`. It's crucial to specify the parameter `ddof=1` in order to set the delta degrees of freedom to 1. This parameter ensures the correct calculation of $s^2$, where $(n − 1)$ is used in the denominator instead of $n$."
   ]
  },
  {
   "cell_type": "code",
   "execution_count": 125,
   "id": "be77a0ef",
   "metadata": {},
   "outputs": [
    {
     "name": "stdout",
     "output_type": "stream",
     "text": [
      "123.19999999999999\n",
      "123.19999999999999\n"
     ]
    }
   ],
   "source": [
    "var_ = np.var(y, ddof=1)\n",
    "print(var_)\n",
    "\n",
    "var_ = y.var(ddof=1)\n",
    "print(var_)"
   ]
  },
  {
   "cell_type": "markdown",
   "id": "b17dd5f1",
   "metadata": {},
   "source": [
    "If we have nan values in the dataset, then np.var() and .var() will return nan"
   ]
  },
  {
   "cell_type": "code",
   "execution_count": 128,
   "id": "6337c5af",
   "metadata": {},
   "outputs": [
    {
     "name": "stdout",
     "output_type": "stream",
     "text": [
      "nan\n",
      "nan\n"
     ]
    }
   ],
   "source": [
    "print(np.var(y_nan, ddof=1))\n",
    "\n",
    "print(y_nan.var(ddof=1))"
   ]
  },
  {
   "cell_type": "markdown",
   "id": "b3b2a4fa",
   "metadata": {},
   "source": [
    "The function `np.nanvar()` in NumPy ignores NaN values and also requires you to specify `ddof=1`.\n",
    "\n",
    "For `pd.Series` objects, the method `.var()` skips NaN values by default."
   ]
  },
  {
   "cell_type": "code",
   "execution_count": 130,
   "id": "b1e6cc0a",
   "metadata": {
    "scrolled": true
   },
   "outputs": [
    {
     "name": "stdout",
     "output_type": "stream",
     "text": [
      "123.19999999999999\n",
      "123.19999999999999\n"
     ]
    }
   ],
   "source": [
    "print(z.var(ddof=1))\n",
    "\n",
    "print(z_nan.var(ddof=1))"
   ]
  },
  {
   "cell_type": "markdown",
   "id": "5ac7a5b3",
   "metadata": {},
   "source": [
    "The calculation of population variance resembles that of sample variance, but with a slight difference in the denominator:\n",
    "$$\n",
    "\\frac{\\sum_{i}(x_i - \\text{mean}(x))^2}{n}\n",
    "$$\n",
    "where $n$ represents the number of items in the entire population. To compute population variance:\n",
    "\n",
    "In the pure Python implementation, replace $(n - 1)$ with $n$.\n",
    "Utilize `statistics.pvariance()` instead of `statistics.variance()` for Python's statistics module.\n",
    "For NumPy or pandas, specify the parameter `ddof=0`. In NumPy, you can omit `ddof` because its default value is 0."
   ]
  },
  {
   "cell_type": "markdown",
   "id": "d5e871c1",
   "metadata": {},
   "source": [
    "### <a id='1.2.2'> Standard Deviation </a>  \n",
    "Standard deviation measures the dispersion or spread of data points around the mean value. It provides a numerical indication of how much individual data points deviate from the mean. Mathematically, the standard deviation of a dataset can be calculated by taking the square root of the variance. Just like variance, standard deviation helps in understanding the distribution of data and assessing the consistency or variability within the dataset."
   ]
  },
  {
   "cell_type": "markdown",
   "id": "ecf6da24",
   "metadata": {},
   "source": [
    "You can calculate it using pure Python"
   ]
  },
  {
   "cell_type": "code",
   "execution_count": 143,
   "id": "faa6b660",
   "metadata": {},
   "outputs": [
    {
     "data": {
      "text/plain": [
       "11.099549540409285"
      ]
     },
     "execution_count": 143,
     "metadata": {},
     "output_type": "execute_result"
    }
   ],
   "source": [
    "std_ = var_ ** 0.5\n",
    "std_"
   ]
  },
  {
   "cell_type": "markdown",
   "id": "8ab863b1",
   "metadata": {},
   "source": [
    "You can also use `statistics.stdev()`"
   ]
  },
  {
   "cell_type": "code",
   "execution_count": 144,
   "id": "db7c3926",
   "metadata": {},
   "outputs": [
    {
     "data": {
      "text/plain": [
       "11.099549540409287"
      ]
     },
     "execution_count": 144,
     "metadata": {},
     "output_type": "execute_result"
    }
   ],
   "source": [
    "std_ = statistics.stdev(x)\n",
    "std_"
   ]
  },
  {
   "cell_type": "markdown",
   "id": "155349dc",
   "metadata": {},
   "source": [
    "You can compute the standard deviation using NumPy in a similar manner. Both the function `std()` and its corresponding method `.std()` can be employed for this purpose. In case there are NaN values within the dataset, they will result in NaN outcomes. "
   ]
  },
  {
   "cell_type": "code",
   "execution_count": 146,
   "id": "dc2374ac",
   "metadata": {},
   "outputs": [
    {
     "name": "stdout",
     "output_type": "stream",
     "text": [
      "11.099549540409285\n",
      "11.099549540409285\n",
      "nan\n",
      "nan\n"
     ]
    }
   ],
   "source": [
    "print(np.std(y, ddof=1))\n",
    "\n",
    "print(y.std(ddof=1))\n",
    "\n",
    "print(np.std(y_nan, ddof=1))\n",
    "\n",
    "print(y_nan.std(ddof=1))"
   ]
  },
  {
   "cell_type": "markdown",
   "id": "e43139ec",
   "metadata": {},
   "source": [
    "To disregard these NaN values, you can utilize `np.nanstd()`. Essentially, the usage of `std()`, `.std()`, and `nanstd()` in NumPy mirrors that of `var()`, `.var()`, and `nanvar()`."
   ]
  },
  {
   "cell_type": "code",
   "execution_count": 147,
   "id": "2d0eeba0",
   "metadata": {
    "scrolled": false
   },
   "outputs": [
    {
     "name": "stdout",
     "output_type": "stream",
     "text": [
      "11.099549540409285\n"
     ]
    }
   ],
   "source": [
    "print(np.nanstd(y_nan, ddof=1))"
   ]
  },
  {
   "cell_type": "markdown",
   "id": "47920ce2",
   "metadata": {},
   "source": [
    "In addition, `pd.Series` objects offer the `.std()` method, which automatically excludes NaN values."
   ]
  },
  {
   "cell_type": "code",
   "execution_count": 148,
   "id": "c840e6ec",
   "metadata": {
    "scrolled": true
   },
   "outputs": [
    {
     "name": "stdout",
     "output_type": "stream",
     "text": [
      "11.099549540409285\n",
      "11.099549540409285\n"
     ]
    }
   ],
   "source": [
    "print(z.std(ddof=1))\n",
    "\n",
    "print(z_nan.std(ddof=1))"
   ]
  },
  {
   "cell_type": "markdown",
   "id": "f9dd53e4",
   "metadata": {},
   "source": [
    "The population standard deviation encompasses the entirety of the population. It represents the positive square root of the population variance. To compute it, follow a procedure similar to that of calculating the sample standard deviation, with a few distinctions:\n",
    "\n",
    "1. Take the square root of the population variance in the pure Python approach.\n",
    "2. Utilize `statistics.pstdev()` instead of `statistics.stdev()` for Python's statistics module.\n",
    "3. When using NumPy or pandas, specify `ddof=0`. In NumPy, you can exclude `ddof` as its default value is 0."
   ]
  },
  {
   "cell_type": "markdown",
   "id": "3467b71a",
   "metadata": {},
   "source": [
    "### <a id='1.2.3'> Skewness </a> \n",
    "The sample skewness measures the asymmetry of a data sample. It is measured as\n",
    "$$\n",
    "Skew = \\frac{n}{(n-1)(n-2)} \\times \\sum_{i=1}^{n} \\left( \\frac{X_i - \\text{mean}(X)}{\\text{std}(X)} \\right)^3\n",
    "$$\n"
   ]
  },
  {
   "cell_type": "code",
   "execution_count": 149,
   "id": "07d6853b",
   "metadata": {},
   "outputs": [
    {
     "data": {
      "text/plain": [
       "1.9470432273905929"
      ]
     },
     "execution_count": 149,
     "metadata": {},
     "output_type": "execute_result"
    }
   ],
   "source": [
    "x = [8.0, 1, 2.5, 4, 28.0]\n",
    "n = len(x)\n",
    "mean_ = sum(x) / n\n",
    "var_ = sum((item - mean_)**2 for item in x) / (n - 1)\n",
    "std_ = var_ ** 0.5\n",
    "skew_ = (sum((item - mean_)**3 for item in x)\n",
    "         * n / ((n - 1) * (n - 2) * std_**3))\n",
    "skew_"
   ]
  },
  {
   "cell_type": "markdown",
   "id": "8b98c37d",
   "metadata": {},
   "source": [
    "The positive skewness indicates that there is a tail on the right side of the distribution of $x$."
   ]
  },
  {
   "cell_type": "markdown",
   "id": "3508044b",
   "metadata": {},
   "source": [
    "We can also calculate the sample skewness with `scipy.stats.skew()`. "
   ]
  },
  {
   "cell_type": "code",
   "execution_count": 157,
   "id": "51797423",
   "metadata": {},
   "outputs": [
    {
     "name": "stdout",
     "output_type": "stream",
     "text": [
      "1.9470432273905927\n",
      "nan\n"
     ]
    }
   ],
   "source": [
    "y, y_nan = np.array(x), np.array(x_nan)\n",
    "print(scipy.stats.skew(y, bias=False))\n",
    "\n",
    "print(scipy.stats.skew(y_nan, bias=False))"
   ]
  },
  {
   "cell_type": "markdown",
   "id": "daff52fd",
   "metadata": {},
   "source": [
    "The bias parameter is configured as False to activate adjustments for statistical bias. The nan_policy parameter, which is optional, accepts three values: 'propagate', 'raise', or 'omit'. This parameter provides control over the handling of NaN values."
   ]
  },
  {
   "cell_type": "markdown",
   "id": "5e08a1fe",
   "metadata": {},
   "source": [
    "The `.skew()` method of pandas Series objects also provides the skewness of a dataset"
   ]
  },
  {
   "cell_type": "code",
   "execution_count": 159,
   "id": "f61b402e",
   "metadata": {},
   "outputs": [
    {
     "name": "stdout",
     "output_type": "stream",
     "text": [
      "1.9470432273905924\n",
      "1.9470432273905924\n"
     ]
    }
   ],
   "source": [
    "z, z_nan = pd.Series(x), pd.Series(x_nan)\n",
    "print(z.skew())\n",
    "\n",
    "print(z_nan.skew())"
   ]
  },
  {
   "cell_type": "markdown",
   "id": "78d98cae",
   "metadata": {},
   "source": [
    "### <a id='1.2.4'> Percentiles </a> \n",
    "The sample $p$ percentile denotes the element within the dataset such that $p\\%$ of the dataset's elements are less than or equal to that value, and $(100 − p)\\%$ of the elements are greater than or equal to it. If there exist two such elements in the dataset, the sample $p$ percentile is their arithmetic mean. Each dataset comprises three quartiles, representing the percentiles that divide the dataset into four segments:\n",
    "\n",
    "- The first quartile corresponds to the sample 25th percentile, segregating roughly 25% of the smallest items from the remaining dataset.\n",
    "- The second quartile, also known as the sample 50th percentile or the median, lies between the first and second quartiles, with approximately 25% of the items between each quartile.\n",
    "- The third quartile denotes the sample 75th percentile, partitioning approximately 25% of the largest items from the rest of the dataset."
   ]
  },
  {
   "cell_type": "code",
   "execution_count": 168,
   "id": "02f825c9",
   "metadata": {},
   "outputs": [
    {
     "name": "stdout",
     "output_type": "stream",
     "text": [
      "[50.5]\n",
      "[25.75, 50.5, 75.25]\n"
     ]
    }
   ],
   "source": [
    "x = np.arange(1, 101, 1)\n",
    "print(statistics.quantiles(x, n=2))\n",
    "\n",
    "print(statistics.quantiles(x, n=4, method='inclusive'))"
   ]
  },
  {
   "cell_type": "markdown",
   "id": "fc936a68",
   "metadata": {},
   "source": [
    "In this example, 8.0 is the median of $x$, while 0.1 and 21.0 are the sample 25th and 75th percentiles, respectively. The parameter $n$ defines the number of resulting equal-probability percentiles, and method determines how to calculate them."
   ]
  },
  {
   "cell_type": "code",
   "execution_count": 169,
   "id": "e1b9411b",
   "metadata": {},
   "outputs": [
    {
     "name": "stdout",
     "output_type": "stream",
     "text": [
      "5.95\n",
      "95.05\n"
     ]
    }
   ],
   "source": [
    "y = np.array(x)\n",
    "print(np.percentile(y, 5))\n",
    "\n",
    "print(np.percentile(y, 95))"
   ]
  },
  {
   "cell_type": "markdown",
   "id": "14130cbc",
   "metadata": {},
   "source": [
    "The `percentile()` function requires multiple arguments. The dataset must be supplied as the first argument, followed by the percentile value as the second argument. The dataset can be formatted as a `NumPy` array, list, tuple, or comparable data structure. The percentile value can range from 0 to 100, as illustrated in the example above. However, it can also be a sequence of numbers."
   ]
  },
  {
   "cell_type": "code",
   "execution_count": 170,
   "id": "aa4bd654",
   "metadata": {},
   "outputs": [
    {
     "data": {
      "text/plain": [
       "array([25.75, 50.5 , 75.25])"
      ]
     },
     "execution_count": 170,
     "metadata": {},
     "output_type": "execute_result"
    }
   ],
   "source": [
    "np.percentile(y, [25, 50, 75])"
   ]
  },
  {
   "cell_type": "markdown",
   "id": "24c3bd86",
   "metadata": {},
   "source": [
    "This code computes the 25th, 50th, and 75th percentiles simultaneously."
   ]
  },
  {
   "cell_type": "markdown",
   "id": "0e7b814b",
   "metadata": {},
   "source": [
    "If you prefer to disregard NaN values, you should utilize `np.nanpercentile()` instead."
   ]
  },
  {
   "cell_type": "code",
   "execution_count": 184,
   "id": "d6235c3f",
   "metadata": {},
   "outputs": [
    {
     "name": "stdout",
     "output_type": "stream",
     "text": [
      "[nan nan nan]\n",
      "[2. 3. 4.]\n"
     ]
    }
   ],
   "source": [
    "y_nan = np.array([1, 2, 3, 4, 5, np.nan])\n",
    "\n",
    "print(np.percentile(y_nan, [25, 50, 75]))\n",
    "print(np.nanpercentile(y_nan, [25, 50, 75]))"
   ]
  },
  {
   "cell_type": "markdown",
   "id": "3745f76f",
   "metadata": {},
   "source": [
    "NumPy provides similar functionality through `quantile()` and `nanquantile()`. When using these functions, you must specify the quantile values as numbers between 0 and 1, rather than as percentiles."
   ]
  },
  {
   "cell_type": "code",
   "execution_count": 185,
   "id": "32e2df84",
   "metadata": {},
   "outputs": [
    {
     "name": "stdout",
     "output_type": "stream",
     "text": [
      "1.2\n",
      "4.8\n",
      "[2. 3. 4.]\n",
      "[2. 3. 4.]\n"
     ]
    }
   ],
   "source": [
    "print(np.quantile(y, 0.05))\n",
    "\n",
    "print(np.quantile(y, 0.95))\n",
    "\n",
    "print(np.quantile(y, [0.25, 0.5, 0.75]))\n",
    "\n",
    "print(np.nanquantile(y_nan, [0.25, 0.5, 0.75]))"
   ]
  },
  {
   "cell_type": "markdown",
   "id": "75c7ec00",
   "metadata": {},
   "source": [
    "Pandas Series objects also possess the `.quantile()` method."
   ]
  },
  {
   "cell_type": "code",
   "execution_count": 187,
   "id": "4417025e",
   "metadata": {},
   "outputs": [
    {
     "name": "stdout",
     "output_type": "stream",
     "text": [
      "1.2\n",
      "4.8\n"
     ]
    }
   ],
   "source": [
    "z, z_nan = pd.Series(y), pd.Series(y_nan)\n",
    "\n",
    "print(z.quantile(0.05))\n",
    "\n",
    "print(z.quantile(0.95))"
   ]
  },
  {
   "cell_type": "markdown",
   "id": "ec37cf61",
   "metadata": {},
   "source": [
    "It automatically works with NaN values"
   ]
  },
  {
   "cell_type": "code",
   "execution_count": 188,
   "id": "9103a28c",
   "metadata": {},
   "outputs": [
    {
     "name": "stdout",
     "output_type": "stream",
     "text": [
      "0.25    2.0\n",
      "0.50    3.0\n",
      "0.75    4.0\n",
      "dtype: float64\n",
      "0.25    2.0\n",
      "0.50    3.0\n",
      "0.75    4.0\n",
      "dtype: float64\n"
     ]
    }
   ],
   "source": [
    "print(z.quantile([0.25, 0.5, 0.75]))\n",
    "\n",
    "print(z_nan.quantile([0.25, 0.5, 0.75]))"
   ]
  },
  {
   "cell_type": "markdown",
   "id": "704a5ea8",
   "metadata": {},
   "source": [
    "## <a id='1.3.'> 1.3 Summary of descriptive statistics </a> \n",
    "\n",
    "You can utilize SciPy and pandas to obtain descriptive statistics efficiently with a single function or method call. For instance, you can use `scipy.stats.describe()` as we will see in this subsection"
   ]
  },
  {
   "cell_type": "markdown",
   "id": "23eeb52a-af53-439a-a087-1d9f12fcf518",
   "metadata": {},
   "source": [
    "### Now let's work with a dataframe"
   ]
  },
  {
   "cell_type": "code",
   "execution_count": 49,
   "id": "e2469192-c458-45fd-8c9d-a1826be98533",
   "metadata": {
    "tags": []
   },
   "outputs": [],
   "source": [
    "# We read and transform the database\n",
    ">>> peru = pd.read_excel('../datasets/peru.xlsx', parse_dates=['Year'])\n",
    ">>> peru = peru.drop(columns=['Unnamed: 0', 'Country'])\n",
    ">>> peru.set_index('Year', inplace=True)"
   ]
  },
  {
   "cell_type": "code",
   "execution_count": 50,
   "id": "d4d058fa-cf6a-4e2a-9af1-0c01222f353f",
   "metadata": {
    "tags": []
   },
   "outputs": [
    {
     "data": {
      "text/html": [
       "<div>\n",
       "<style scoped>\n",
       "    .dataframe tbody tr th:only-of-type {\n",
       "        vertical-align: middle;\n",
       "    }\n",
       "\n",
       "    .dataframe tbody tr th {\n",
       "        vertical-align: top;\n",
       "    }\n",
       "\n",
       "    .dataframe thead th {\n",
       "        text-align: right;\n",
       "    }\n",
       "</style>\n",
       "<table border=\"1\" class=\"dataframe\">\n",
       "  <thead>\n",
       "    <tr style=\"text-align: right;\">\n",
       "      <th></th>\n",
       "      <th>Current account balance</th>\n",
       "      <th>General government net debt</th>\n",
       "      <th>General government total expenditure</th>\n",
       "      <th>Unemployment rate</th>\n",
       "      <th>CPI</th>\n",
       "      <th>CBI</th>\n",
       "    </tr>\n",
       "    <tr>\n",
       "      <th>Year</th>\n",
       "      <th></th>\n",
       "      <th></th>\n",
       "      <th></th>\n",
       "      <th></th>\n",
       "      <th></th>\n",
       "      <th></th>\n",
       "    </tr>\n",
       "  </thead>\n",
       "  <tbody>\n",
       "    <tr>\n",
       "      <th>1980-01-01</th>\n",
       "      <td>-5.175</td>\n",
       "      <td>NaN</td>\n",
       "      <td>NaN</td>\n",
       "      <td>7.326</td>\n",
       "      <td>59.145</td>\n",
       "      <td>0.43875</td>\n",
       "    </tr>\n",
       "    <tr>\n",
       "      <th>1981-01-01</th>\n",
       "      <td>-9.673</td>\n",
       "      <td>NaN</td>\n",
       "      <td>NaN</td>\n",
       "      <td>6.800</td>\n",
       "      <td>75.433</td>\n",
       "      <td>0.43875</td>\n",
       "    </tr>\n",
       "    <tr>\n",
       "      <th>1982-01-01</th>\n",
       "      <td>-9.142</td>\n",
       "      <td>NaN</td>\n",
       "      <td>NaN</td>\n",
       "      <td>6.400</td>\n",
       "      <td>64.460</td>\n",
       "      <td>0.43875</td>\n",
       "    </tr>\n",
       "    <tr>\n",
       "      <th>1983-01-01</th>\n",
       "      <td>-6.842</td>\n",
       "      <td>NaN</td>\n",
       "      <td>NaN</td>\n",
       "      <td>9.000</td>\n",
       "      <td>111.149</td>\n",
       "      <td>0.43875</td>\n",
       "    </tr>\n",
       "    <tr>\n",
       "      <th>1984-01-01</th>\n",
       "      <td>-1.381</td>\n",
       "      <td>NaN</td>\n",
       "      <td>NaN</td>\n",
       "      <td>8.900</td>\n",
       "      <td>110.209</td>\n",
       "      <td>0.43875</td>\n",
       "    </tr>\n",
       "  </tbody>\n",
       "</table>\n",
       "</div>"
      ],
      "text/plain": [
       "            Current account balance  General government net debt  \\\n",
       "Year                                                               \n",
       "1980-01-01                   -5.175                          NaN   \n",
       "1981-01-01                   -9.673                          NaN   \n",
       "1982-01-01                   -9.142                          NaN   \n",
       "1983-01-01                   -6.842                          NaN   \n",
       "1984-01-01                   -1.381                          NaN   \n",
       "\n",
       "            General government total expenditure  Unemployment rate      CPI  \\\n",
       "Year                                                                           \n",
       "1980-01-01                                   NaN              7.326   59.145   \n",
       "1981-01-01                                   NaN              6.800   75.433   \n",
       "1982-01-01                                   NaN              6.400   64.460   \n",
       "1983-01-01                                   NaN              9.000  111.149   \n",
       "1984-01-01                                   NaN              8.900  110.209   \n",
       "\n",
       "                CBI  \n",
       "Year                 \n",
       "1980-01-01  0.43875  \n",
       "1981-01-01  0.43875  \n",
       "1982-01-01  0.43875  \n",
       "1983-01-01  0.43875  \n",
       "1984-01-01  0.43875  "
      ]
     },
     "execution_count": 50,
     "metadata": {},
     "output_type": "execute_result"
    }
   ],
   "source": [
    "# We analize it\n",
    "peru.head()"
   ]
  },
  {
   "cell_type": "code",
   "execution_count": 51,
   "id": "7378a0f6-3ba1-4461-80da-d1c69120b090",
   "metadata": {
    "tags": []
   },
   "outputs": [
    {
     "data": {
      "text/html": [
       "<div>\n",
       "<style scoped>\n",
       "    .dataframe tbody tr th:only-of-type {\n",
       "        vertical-align: middle;\n",
       "    }\n",
       "\n",
       "    .dataframe tbody tr th {\n",
       "        vertical-align: top;\n",
       "    }\n",
       "\n",
       "    .dataframe thead th {\n",
       "        text-align: right;\n",
       "    }\n",
       "</style>\n",
       "<table border=\"1\" class=\"dataframe\">\n",
       "  <thead>\n",
       "    <tr style=\"text-align: right;\">\n",
       "      <th></th>\n",
       "      <th>Current account balance</th>\n",
       "      <th>General government net debt</th>\n",
       "      <th>General government total expenditure</th>\n",
       "      <th>Unemployment rate</th>\n",
       "      <th>CPI</th>\n",
       "      <th>CBI</th>\n",
       "    </tr>\n",
       "  </thead>\n",
       "  <tbody>\n",
       "    <tr>\n",
       "      <th>count</th>\n",
       "      <td>42.000000</td>\n",
       "      <td>22.000000</td>\n",
       "      <td>22.000000</td>\n",
       "      <td>42.000000</td>\n",
       "      <td>41.000000</td>\n",
       "      <td>41.000000</td>\n",
       "    </tr>\n",
       "    <tr>\n",
       "      <th>mean</th>\n",
       "      <td>-3.368333</td>\n",
       "      <td>17.760636</td>\n",
       "      <td>21.070182</td>\n",
       "      <td>7.779119</td>\n",
       "      <td>315.795195</td>\n",
       "      <td>0.702226</td>\n",
       "    </tr>\n",
       "    <tr>\n",
       "      <th>std</th>\n",
       "      <td>3.052220</td>\n",
       "      <td>13.084920</td>\n",
       "      <td>1.740462</td>\n",
       "      <td>1.752538</td>\n",
       "      <td>1266.240395</td>\n",
       "      <td>0.171591</td>\n",
       "    </tr>\n",
       "    <tr>\n",
       "      <th>min</th>\n",
       "      <td>-9.673000</td>\n",
       "      <td>1.499000</td>\n",
       "      <td>18.593000</td>\n",
       "      <td>4.156000</td>\n",
       "      <td>0.192000</td>\n",
       "      <td>0.438750</td>\n",
       "    </tr>\n",
       "    <tr>\n",
       "      <th>25%</th>\n",
       "      <td>-5.428250</td>\n",
       "      <td>7.350000</td>\n",
       "      <td>19.901500</td>\n",
       "      <td>6.710500</td>\n",
       "      <td>2.804000</td>\n",
       "      <td>0.438750</td>\n",
       "    </tr>\n",
       "    <tr>\n",
       "      <th>50%</th>\n",
       "      <td>-2.966000</td>\n",
       "      <td>12.611500</td>\n",
       "      <td>20.948500</td>\n",
       "      <td>7.863500</td>\n",
       "      <td>3.759000</td>\n",
       "      <td>0.811250</td>\n",
       "    </tr>\n",
       "    <tr>\n",
       "      <th>75%</th>\n",
       "      <td>-1.285000</td>\n",
       "      <td>29.997250</td>\n",
       "      <td>21.466000</td>\n",
       "      <td>8.975000</td>\n",
       "      <td>73.529000</td>\n",
       "      <td>0.811250</td>\n",
       "    </tr>\n",
       "    <tr>\n",
       "      <th>max</th>\n",
       "      <td>3.331000</td>\n",
       "      <td>38.672000</td>\n",
       "      <td>26.862000</td>\n",
       "      <td>13.000000</td>\n",
       "      <td>7481.691000</td>\n",
       "      <td>0.811250</td>\n",
       "    </tr>\n",
       "  </tbody>\n",
       "</table>\n",
       "</div>"
      ],
      "text/plain": [
       "       Current account balance  General government net debt  \\\n",
       "count                42.000000                    22.000000   \n",
       "mean                 -3.368333                    17.760636   \n",
       "std                   3.052220                    13.084920   \n",
       "min                  -9.673000                     1.499000   \n",
       "25%                  -5.428250                     7.350000   \n",
       "50%                  -2.966000                    12.611500   \n",
       "75%                  -1.285000                    29.997250   \n",
       "max                   3.331000                    38.672000   \n",
       "\n",
       "       General government total expenditure  Unemployment rate          CPI  \\\n",
       "count                             22.000000          42.000000    41.000000   \n",
       "mean                              21.070182           7.779119   315.795195   \n",
       "std                                1.740462           1.752538  1266.240395   \n",
       "min                               18.593000           4.156000     0.192000   \n",
       "25%                               19.901500           6.710500     2.804000   \n",
       "50%                               20.948500           7.863500     3.759000   \n",
       "75%                               21.466000           8.975000    73.529000   \n",
       "max                               26.862000          13.000000  7481.691000   \n",
       "\n",
       "             CBI  \n",
       "count  41.000000  \n",
       "mean    0.702226  \n",
       "std     0.171591  \n",
       "min     0.438750  \n",
       "25%     0.438750  \n",
       "50%     0.811250  \n",
       "75%     0.811250  \n",
       "max     0.811250  "
      ]
     },
     "execution_count": 51,
     "metadata": {},
     "output_type": "execute_result"
    }
   ],
   "source": [
    "# We further analyse it with the describe() function\n",
    "peru.describe()"
   ]
  },
  {
   "cell_type": "code",
   "execution_count": 52,
   "id": "21fadd8d-17f3-4528-a434-fcbc78af4b06",
   "metadata": {
    "tags": []
   },
   "outputs": [
    {
     "data": {
      "text/plain": [
       "Current account balance                 42\n",
       "General government net debt             22\n",
       "General government total expenditure    22\n",
       "Unemployment rate                       42\n",
       "CPI                                     41\n",
       "CBI                                     41\n",
       "dtype: int64"
      ]
     },
     "execution_count": 52,
     "metadata": {},
     "output_type": "execute_result"
    }
   ],
   "source": [
    "peru.count()"
   ]
  },
  {
   "cell_type": "code",
   "execution_count": 53,
   "id": "39264fd4-f138-47f0-b3b9-aa89469abdea",
   "metadata": {
    "tags": []
   },
   "outputs": [
    {
     "data": {
      "text/plain": [
       "Current account balance                  -3.368333\n",
       "General government net debt              17.760636\n",
       "General government total expenditure     21.070182\n",
       "Unemployment rate                         7.779119\n",
       "CPI                                     315.795195\n",
       "CBI                                       0.702226\n",
       "dtype: float64"
      ]
     },
     "execution_count": 53,
     "metadata": {},
     "output_type": "execute_result"
    }
   ],
   "source": [
    "peru.mean()"
   ]
  },
  {
   "cell_type": "code",
   "execution_count": 54,
   "id": "0776044c-362e-45ea-b108-47b8d60de843",
   "metadata": {
    "tags": []
   },
   "outputs": [
    {
     "data": {
      "text/plain": [
       "Current account balance                    3.33100\n",
       "General government net debt               38.67200\n",
       "General government total expenditure      26.86200\n",
       "Unemployment rate                         13.00000\n",
       "CPI                                     7481.69100\n",
       "CBI                                        0.81125\n",
       "dtype: float64"
      ]
     },
     "execution_count": 54,
     "metadata": {},
     "output_type": "execute_result"
    }
   ],
   "source": [
    "peru.max()"
   ]
  },
  {
   "cell_type": "code",
   "execution_count": 55,
   "id": "0276d2b6-f054-4903-ac43-ea690e5868ee",
   "metadata": {
    "tags": []
   },
   "outputs": [
    {
     "data": {
      "text/plain": [
       "Current account balance                 -9.67300\n",
       "General government net debt              1.49900\n",
       "General government total expenditure    18.59300\n",
       "Unemployment rate                        4.15600\n",
       "CPI                                      0.19200\n",
       "CBI                                      0.43875\n",
       "dtype: float64"
      ]
     },
     "execution_count": 55,
     "metadata": {},
     "output_type": "execute_result"
    }
   ],
   "source": [
    "peru.min()"
   ]
  },
  {
   "cell_type": "markdown",
   "id": "7e0f4b27-074d-4ba7-9fc1-39ae330d07e0",
   "metadata": {},
   "source": [
    "We can equally inspect it using the numpy library. We can use np.mean(), np.median() and stats.mode()"
   ]
  },
  {
   "cell_type": "code",
   "execution_count": 56,
   "id": "f39eedae-93ac-425f-aded-7509491830f2",
   "metadata": {
    "tags": []
   },
   "outputs": [
    {
     "name": "stdout",
     "output_type": "stream",
     "text": [
      "The mean for Current account balance is -3.368333333333333\n",
      "The mean for General government net debt is 17.76063636363637\n",
      "The mean for General government total expenditure is 21.07018181818182\n",
      "The mean for Unemployment rate is 7.779119047619048\n",
      "The mean for CPI is 315.7951951219513\n",
      "The mean for CBI is 0.7022256097560978\n"
     ]
    }
   ],
   "source": [
    "print(f'The mean for Current account balance is {np.mean(peru[\"Current account balance\"])}')\n",
    "print(f'The mean for General government net debt is {np.mean(peru[\"General government net debt\"])}')\n",
    "print(f'The mean for General government total expenditure is {np.mean(peru[\"General government total expenditure\"])}')\n",
    "print(f'The mean for Unemployment rate is {np.mean(peru[\"Unemployment rate\"])}')\n",
    "print(f'The mean for CPI is {np.mean(peru[\"CPI\"])}')\n",
    "print(f'The mean for CBI is {np.mean(peru[\"CBI\"])}')"
   ]
  },
  {
   "cell_type": "code",
   "execution_count": 57,
   "id": "53229bef-9cae-4cb4-a21e-47beab62ee70",
   "metadata": {
    "tags": []
   },
   "outputs": [
    {
     "name": "stdout",
     "output_type": "stream",
     "text": [
      "The median for Current account balance is -2.966\n",
      "The median for General government net debt is nan\n",
      "The median for General government total expenditure is nan\n",
      "The median for Unemployment rate is 7.8635\n",
      "The median for CPI is nan\n",
      "The median for CBI is nan\n"
     ]
    }
   ],
   "source": [
    "print(f'The median for Current account balance is {np.median(peru[\"Current account balance\"])}')\n",
    "print(f'The median for General government net debt is {np.median(peru[\"General government net debt\"])}')\n",
    "print(f'The median for General government total expenditure is {np.median(peru[\"General government total expenditure\"])}')\n",
    "print(f'The median for Unemployment rate is {np.median(peru[\"Unemployment rate\"])}')\n",
    "print(f'The median for CPI is {np.median(peru[\"CPI\"])}')\n",
    "print(f'The median for CBI is {np.median(peru[\"CBI\"])}')"
   ]
  },
  {
   "cell_type": "code",
   "execution_count": 131,
   "id": "a5f27015-805b-4e60-a3b9-0dee43e342da",
   "metadata": {
    "tags": []
   },
   "outputs": [
    {
     "name": "stdout",
     "output_type": "stream",
     "text": [
      "The mode for Current account balance is [-9.673]\n",
      "The mode for General government net debt is [nan]\n",
      "The mode for General government total expenditure is [nan]\n",
      "The mode for Unemployment rate is [9.4]\n",
      "The mode for CPI is [0.192]\n",
      "The mode for CBI is [0.81125]\n"
     ]
    }
   ],
   "source": [
    "import warnings\n",
    "warnings.filterwarnings(\"ignore\")\n",
    "\n",
    "print(f'The mode for Current account balance is {stats.mode(peru[\"Current account balance\"])[0]}')\n",
    "print(f'The mode for General government net debt is {stats.mode(peru[\"General government net debt\"])[0]}')\n",
    "print(f'The mode for General government total expenditure is {stats.mode(peru[\"General government total expenditure\"])[0]}')\n",
    "print(f'The mode for Unemployment rate is {stats.mode(peru[\"Unemployment rate\"])[0]}')\n",
    "print(f'The mode for CPI is {stats.mode(peru[\"CPI\"])[0]}')\n",
    "print(f'The mode for CBI is {stats.mode(peru[\"CBI\"])[0]}')"
   ]
  },
  {
   "cell_type": "markdown",
   "id": "695b83fe-e28f-481f-b8d6-0e2c31b02b3f",
   "metadata": {},
   "source": [
    "### What can we do about all those nans ?"
   ]
  },
  {
   "cell_type": "code",
   "execution_count": 133,
   "id": "739be4e7-ff66-41b8-b534-bad38884070c",
   "metadata": {},
   "outputs": [
    {
     "data": {
      "text/html": [
       "<div>\n",
       "<style scoped>\n",
       "    .dataframe tbody tr th:only-of-type {\n",
       "        vertical-align: middle;\n",
       "    }\n",
       "\n",
       "    .dataframe tbody tr th {\n",
       "        vertical-align: top;\n",
       "    }\n",
       "\n",
       "    .dataframe thead th {\n",
       "        text-align: right;\n",
       "    }\n",
       "</style>\n",
       "<table border=\"1\" class=\"dataframe\">\n",
       "  <thead>\n",
       "    <tr style=\"text-align: right;\">\n",
       "      <th></th>\n",
       "      <th>Current account balance</th>\n",
       "      <th>General government net debt</th>\n",
       "      <th>General government total expenditure</th>\n",
       "      <th>Unemployment rate</th>\n",
       "      <th>CPI</th>\n",
       "      <th>CBI</th>\n",
       "    </tr>\n",
       "    <tr>\n",
       "      <th>Year</th>\n",
       "      <th></th>\n",
       "      <th></th>\n",
       "      <th></th>\n",
       "      <th></th>\n",
       "      <th></th>\n",
       "      <th></th>\n",
       "    </tr>\n",
       "  </thead>\n",
       "  <tbody>\n",
       "    <tr>\n",
       "      <th>1980-01-01</th>\n",
       "      <td>-5.175</td>\n",
       "      <td>0.0</td>\n",
       "      <td>0.0</td>\n",
       "      <td>7.326</td>\n",
       "      <td>59.145</td>\n",
       "      <td>0.43875</td>\n",
       "    </tr>\n",
       "    <tr>\n",
       "      <th>1981-01-01</th>\n",
       "      <td>-9.673</td>\n",
       "      <td>0.0</td>\n",
       "      <td>0.0</td>\n",
       "      <td>6.800</td>\n",
       "      <td>75.433</td>\n",
       "      <td>0.43875</td>\n",
       "    </tr>\n",
       "    <tr>\n",
       "      <th>1982-01-01</th>\n",
       "      <td>-9.142</td>\n",
       "      <td>0.0</td>\n",
       "      <td>0.0</td>\n",
       "      <td>6.400</td>\n",
       "      <td>64.460</td>\n",
       "      <td>0.43875</td>\n",
       "    </tr>\n",
       "    <tr>\n",
       "      <th>1983-01-01</th>\n",
       "      <td>-6.842</td>\n",
       "      <td>0.0</td>\n",
       "      <td>0.0</td>\n",
       "      <td>9.000</td>\n",
       "      <td>111.149</td>\n",
       "      <td>0.43875</td>\n",
       "    </tr>\n",
       "    <tr>\n",
       "      <th>1984-01-01</th>\n",
       "      <td>-1.381</td>\n",
       "      <td>0.0</td>\n",
       "      <td>0.0</td>\n",
       "      <td>8.900</td>\n",
       "      <td>110.209</td>\n",
       "      <td>0.43875</td>\n",
       "    </tr>\n",
       "  </tbody>\n",
       "</table>\n",
       "</div>"
      ],
      "text/plain": [
       "            Current account balance  General government net debt  \\\n",
       "Year                                                               \n",
       "1980-01-01                   -5.175                          0.0   \n",
       "1981-01-01                   -9.673                          0.0   \n",
       "1982-01-01                   -9.142                          0.0   \n",
       "1983-01-01                   -6.842                          0.0   \n",
       "1984-01-01                   -1.381                          0.0   \n",
       "\n",
       "            General government total expenditure  Unemployment rate      CPI  \\\n",
       "Year                                                                           \n",
       "1980-01-01                                   0.0              7.326   59.145   \n",
       "1981-01-01                                   0.0              6.800   75.433   \n",
       "1982-01-01                                   0.0              6.400   64.460   \n",
       "1983-01-01                                   0.0              9.000  111.149   \n",
       "1984-01-01                                   0.0              8.900  110.209   \n",
       "\n",
       "                CBI  \n",
       "Year                 \n",
       "1980-01-01  0.43875  \n",
       "1981-01-01  0.43875  \n",
       "1982-01-01  0.43875  \n",
       "1983-01-01  0.43875  \n",
       "1984-01-01  0.43875  "
      ]
     },
     "execution_count": 133,
     "metadata": {},
     "output_type": "execute_result"
    }
   ],
   "source": [
    "# We can either fill them with 0s \n",
    "peru_filled = peru.fillna(0)\n",
    "peru_filled.head()"
   ]
  },
  {
   "cell_type": "code",
   "execution_count": 134,
   "id": "4cc19b00-af71-4ba0-8b6d-885e9ce51f8b",
   "metadata": {
    "tags": []
   },
   "outputs": [
    {
     "data": {
      "text/html": [
       "<div>\n",
       "<style scoped>\n",
       "    .dataframe tbody tr th:only-of-type {\n",
       "        vertical-align: middle;\n",
       "    }\n",
       "\n",
       "    .dataframe tbody tr th {\n",
       "        vertical-align: top;\n",
       "    }\n",
       "\n",
       "    .dataframe thead th {\n",
       "        text-align: right;\n",
       "    }\n",
       "</style>\n",
       "<table border=\"1\" class=\"dataframe\">\n",
       "  <thead>\n",
       "    <tr style=\"text-align: right;\">\n",
       "      <th></th>\n",
       "      <th>Current account balance</th>\n",
       "      <th>General government net debt</th>\n",
       "      <th>General government total expenditure</th>\n",
       "      <th>Unemployment rate</th>\n",
       "      <th>CPI</th>\n",
       "      <th>CBI</th>\n",
       "    </tr>\n",
       "    <tr>\n",
       "      <th>Year</th>\n",
       "      <th></th>\n",
       "      <th></th>\n",
       "      <th></th>\n",
       "      <th></th>\n",
       "      <th></th>\n",
       "      <th></th>\n",
       "    </tr>\n",
       "  </thead>\n",
       "  <tbody>\n",
       "    <tr>\n",
       "      <th>2000-01-01</th>\n",
       "      <td>-3.064</td>\n",
       "      <td>37.680</td>\n",
       "      <td>21.735</td>\n",
       "      <td>7.847</td>\n",
       "      <td>3.759</td>\n",
       "      <td>0.81125</td>\n",
       "    </tr>\n",
       "    <tr>\n",
       "      <th>2001-01-01</th>\n",
       "      <td>-2.351</td>\n",
       "      <td>37.060</td>\n",
       "      <td>20.934</td>\n",
       "      <td>9.246</td>\n",
       "      <td>1.975</td>\n",
       "      <td>0.81125</td>\n",
       "    </tr>\n",
       "    <tr>\n",
       "      <th>2002-01-01</th>\n",
       "      <td>-2.031</td>\n",
       "      <td>38.128</td>\n",
       "      <td>19.649</td>\n",
       "      <td>9.420</td>\n",
       "      <td>0.192</td>\n",
       "      <td>0.81125</td>\n",
       "    </tr>\n",
       "    <tr>\n",
       "      <th>2003-01-01</th>\n",
       "      <td>-1.592</td>\n",
       "      <td>38.672</td>\n",
       "      <td>20.113</td>\n",
       "      <td>9.424</td>\n",
       "      <td>2.261</td>\n",
       "      <td>0.81125</td>\n",
       "    </tr>\n",
       "    <tr>\n",
       "      <th>2004-01-01</th>\n",
       "      <td>0.094</td>\n",
       "      <td>34.958</td>\n",
       "      <td>19.558</td>\n",
       "      <td>9.436</td>\n",
       "      <td>3.662</td>\n",
       "      <td>0.81125</td>\n",
       "    </tr>\n",
       "  </tbody>\n",
       "</table>\n",
       "</div>"
      ],
      "text/plain": [
       "            Current account balance  General government net debt  \\\n",
       "Year                                                               \n",
       "2000-01-01                   -3.064                       37.680   \n",
       "2001-01-01                   -2.351                       37.060   \n",
       "2002-01-01                   -2.031                       38.128   \n",
       "2003-01-01                   -1.592                       38.672   \n",
       "2004-01-01                    0.094                       34.958   \n",
       "\n",
       "            General government total expenditure  Unemployment rate    CPI  \\\n",
       "Year                                                                         \n",
       "2000-01-01                                21.735              7.847  3.759   \n",
       "2001-01-01                                20.934              9.246  1.975   \n",
       "2002-01-01                                19.649              9.420  0.192   \n",
       "2003-01-01                                20.113              9.424  2.261   \n",
       "2004-01-01                                19.558              9.436  3.662   \n",
       "\n",
       "                CBI  \n",
       "Year                 \n",
       "2000-01-01  0.81125  \n",
       "2001-01-01  0.81125  \n",
       "2002-01-01  0.81125  \n",
       "2003-01-01  0.81125  \n",
       "2004-01-01  0.81125  "
      ]
     },
     "execution_count": 134,
     "metadata": {},
     "output_type": "execute_result"
    }
   ],
   "source": [
    "# Or drop the observations with nans\n",
    "peru_dropped = peru.dropna()\n",
    "peru_dropped.head()"
   ]
  },
  {
   "cell_type": "code",
   "execution_count": 142,
   "id": "b4befeba",
   "metadata": {},
   "outputs": [
    {
     "data": {
      "text/html": [
       "<div>\n",
       "<style scoped>\n",
       "    .dataframe tbody tr th:only-of-type {\n",
       "        vertical-align: middle;\n",
       "    }\n",
       "\n",
       "    .dataframe tbody tr th {\n",
       "        vertical-align: top;\n",
       "    }\n",
       "\n",
       "    .dataframe thead th {\n",
       "        text-align: right;\n",
       "    }\n",
       "</style>\n",
       "<table border=\"1\" class=\"dataframe\">\n",
       "  <thead>\n",
       "    <tr style=\"text-align: right;\">\n",
       "      <th></th>\n",
       "      <th>Current account balance</th>\n",
       "      <th>General government net debt</th>\n",
       "      <th>General government total expenditure</th>\n",
       "      <th>Unemployment rate</th>\n",
       "      <th>CPI</th>\n",
       "      <th>CBI</th>\n",
       "    </tr>\n",
       "    <tr>\n",
       "      <th>Year</th>\n",
       "      <th></th>\n",
       "      <th></th>\n",
       "      <th></th>\n",
       "      <th></th>\n",
       "      <th></th>\n",
       "      <th></th>\n",
       "    </tr>\n",
       "  </thead>\n",
       "  <tbody>\n",
       "    <tr>\n",
       "      <th>1980-01-01</th>\n",
       "      <td>-5.175</td>\n",
       "      <td>NaN</td>\n",
       "      <td>NaN</td>\n",
       "      <td>7.326</td>\n",
       "      <td>59.145</td>\n",
       "      <td>0.43875</td>\n",
       "    </tr>\n",
       "    <tr>\n",
       "      <th>1981-01-01</th>\n",
       "      <td>-9.673</td>\n",
       "      <td>NaN</td>\n",
       "      <td>NaN</td>\n",
       "      <td>6.800</td>\n",
       "      <td>75.433</td>\n",
       "      <td>0.43875</td>\n",
       "    </tr>\n",
       "    <tr>\n",
       "      <th>1982-01-01</th>\n",
       "      <td>-9.142</td>\n",
       "      <td>NaN</td>\n",
       "      <td>NaN</td>\n",
       "      <td>6.400</td>\n",
       "      <td>64.460</td>\n",
       "      <td>0.43875</td>\n",
       "    </tr>\n",
       "    <tr>\n",
       "      <th>1983-01-01</th>\n",
       "      <td>-6.842</td>\n",
       "      <td>NaN</td>\n",
       "      <td>NaN</td>\n",
       "      <td>9.000</td>\n",
       "      <td>111.149</td>\n",
       "      <td>0.43875</td>\n",
       "    </tr>\n",
       "    <tr>\n",
       "      <th>1984-01-01</th>\n",
       "      <td>-1.381</td>\n",
       "      <td>NaN</td>\n",
       "      <td>NaN</td>\n",
       "      <td>8.900</td>\n",
       "      <td>110.209</td>\n",
       "      <td>0.43875</td>\n",
       "    </tr>\n",
       "  </tbody>\n",
       "</table>\n",
       "</div>"
      ],
      "text/plain": [
       "            Current account balance  General government net debt  \\\n",
       "Year                                                               \n",
       "1980-01-01                   -5.175                          NaN   \n",
       "1981-01-01                   -9.673                          NaN   \n",
       "1982-01-01                   -9.142                          NaN   \n",
       "1983-01-01                   -6.842                          NaN   \n",
       "1984-01-01                   -1.381                          NaN   \n",
       "\n",
       "            General government total expenditure  Unemployment rate      CPI  \\\n",
       "Year                                                                           \n",
       "1980-01-01                                   NaN              7.326   59.145   \n",
       "1981-01-01                                   NaN              6.800   75.433   \n",
       "1982-01-01                                   NaN              6.400   64.460   \n",
       "1983-01-01                                   NaN              9.000  111.149   \n",
       "1984-01-01                                   NaN              8.900  110.209   \n",
       "\n",
       "                CBI  \n",
       "Year                 \n",
       "1980-01-01  0.43875  \n",
       "1981-01-01  0.43875  \n",
       "1982-01-01  0.43875  \n",
       "1983-01-01  0.43875  \n",
       "1984-01-01  0.43875  "
      ]
     },
     "execution_count": 142,
     "metadata": {},
     "output_type": "execute_result"
    }
   ],
   "source": [
    "# We can't use interpolate because of the large number of missing values at the beggining of the dataset\n",
    "peru_interpolated = peru.interpolate(method='nearest').head()\n",
    "peru_interpolated.head()"
   ]
  },
  {
   "cell_type": "code",
   "execution_count": 61,
   "id": "3a2e5a8f-296f-456b-9f08-f1d56ebca141",
   "metadata": {
    "tags": []
   },
   "outputs": [
    {
     "data": {
      "text/html": [
       "<div>\n",
       "<style scoped>\n",
       "    .dataframe tbody tr th:only-of-type {\n",
       "        vertical-align: middle;\n",
       "    }\n",
       "\n",
       "    .dataframe tbody tr th {\n",
       "        vertical-align: top;\n",
       "    }\n",
       "\n",
       "    .dataframe thead th {\n",
       "        text-align: right;\n",
       "    }\n",
       "</style>\n",
       "<table border=\"1\" class=\"dataframe\">\n",
       "  <thead>\n",
       "    <tr style=\"text-align: right;\">\n",
       "      <th></th>\n",
       "      <th>Current account balance</th>\n",
       "      <th>General government net debt</th>\n",
       "      <th>General government total expenditure</th>\n",
       "      <th>Unemployment rate</th>\n",
       "      <th>CPI</th>\n",
       "      <th>CBI</th>\n",
       "    </tr>\n",
       "  </thead>\n",
       "  <tbody>\n",
       "    <tr>\n",
       "      <th>count</th>\n",
       "      <td>21.000000</td>\n",
       "      <td>21.000000</td>\n",
       "      <td>21.000000</td>\n",
       "      <td>21.000000</td>\n",
       "      <td>21.000000</td>\n",
       "      <td>2.100000e+01</td>\n",
       "    </tr>\n",
       "    <tr>\n",
       "      <th>mean</th>\n",
       "      <td>-1.538429</td>\n",
       "      <td>17.664095</td>\n",
       "      <td>20.952190</td>\n",
       "      <td>8.064381</td>\n",
       "      <td>2.657238</td>\n",
       "      <td>8.112500e-01</td>\n",
       "    </tr>\n",
       "    <tr>\n",
       "      <th>std</th>\n",
       "      <td>2.203459</td>\n",
       "      <td>13.400022</td>\n",
       "      <td>1.690879</td>\n",
       "      <td>1.653685</td>\n",
       "      <td>1.197392</td>\n",
       "      <td>2.275280e-16</td>\n",
       "    </tr>\n",
       "    <tr>\n",
       "      <th>min</th>\n",
       "      <td>-4.814000</td>\n",
       "      <td>1.499000</td>\n",
       "      <td>18.593000</td>\n",
       "      <td>5.938000</td>\n",
       "      <td>0.192000</td>\n",
       "      <td>8.112500e-01</td>\n",
       "    </tr>\n",
       "    <tr>\n",
       "      <th>25%</th>\n",
       "      <td>-2.868000</td>\n",
       "      <td>6.912000</td>\n",
       "      <td>19.831000</td>\n",
       "      <td>6.742000</td>\n",
       "      <td>1.827000</td>\n",
       "      <td>8.112500e-01</td>\n",
       "    </tr>\n",
       "    <tr>\n",
       "      <th>50%</th>\n",
       "      <td>-1.975000</td>\n",
       "      <td>12.175000</td>\n",
       "      <td>20.946000</td>\n",
       "      <td>7.880000</td>\n",
       "      <td>2.804000</td>\n",
       "      <td>8.112500e-01</td>\n",
       "    </tr>\n",
       "    <tr>\n",
       "      <th>75%</th>\n",
       "      <td>-0.520000</td>\n",
       "      <td>31.966000</td>\n",
       "      <td>21.352000</td>\n",
       "      <td>9.246000</td>\n",
       "      <td>3.548000</td>\n",
       "      <td>8.112500e-01</td>\n",
       "    </tr>\n",
       "    <tr>\n",
       "      <th>max</th>\n",
       "      <td>3.331000</td>\n",
       "      <td>38.672000</td>\n",
       "      <td>26.862000</td>\n",
       "      <td>13.000000</td>\n",
       "      <td>5.788000</td>\n",
       "      <td>8.112500e-01</td>\n",
       "    </tr>\n",
       "  </tbody>\n",
       "</table>\n",
       "</div>"
      ],
      "text/plain": [
       "       Current account balance  General government net debt  \\\n",
       "count                21.000000                    21.000000   \n",
       "mean                 -1.538429                    17.664095   \n",
       "std                   2.203459                    13.400022   \n",
       "min                  -4.814000                     1.499000   \n",
       "25%                  -2.868000                     6.912000   \n",
       "50%                  -1.975000                    12.175000   \n",
       "75%                  -0.520000                    31.966000   \n",
       "max                   3.331000                    38.672000   \n",
       "\n",
       "       General government total expenditure  Unemployment rate        CPI  \\\n",
       "count                             21.000000          21.000000  21.000000   \n",
       "mean                              20.952190           8.064381   2.657238   \n",
       "std                                1.690879           1.653685   1.197392   \n",
       "min                               18.593000           5.938000   0.192000   \n",
       "25%                               19.831000           6.742000   1.827000   \n",
       "50%                               20.946000           7.880000   2.804000   \n",
       "75%                               21.352000           9.246000   3.548000   \n",
       "max                               26.862000          13.000000   5.788000   \n",
       "\n",
       "                CBI  \n",
       "count  2.100000e+01  \n",
       "mean   8.112500e-01  \n",
       "std    2.275280e-16  \n",
       "min    8.112500e-01  \n",
       "25%    8.112500e-01  \n",
       "50%    8.112500e-01  \n",
       "75%    8.112500e-01  \n",
       "max    8.112500e-01  "
      ]
     },
     "execution_count": 61,
     "metadata": {},
     "output_type": "execute_result"
    }
   ],
   "source": [
    "peru_dropped.describe()"
   ]
  },
  {
   "cell_type": "code",
   "execution_count": 62,
   "id": "1e64273f-2c11-4b63-94f0-4f18213a9832",
   "metadata": {
    "tags": []
   },
   "outputs": [
    {
     "data": {
      "text/html": [
       "<div>\n",
       "<style scoped>\n",
       "    .dataframe tbody tr th:only-of-type {\n",
       "        vertical-align: middle;\n",
       "    }\n",
       "\n",
       "    .dataframe tbody tr th {\n",
       "        vertical-align: top;\n",
       "    }\n",
       "\n",
       "    .dataframe thead th {\n",
       "        text-align: right;\n",
       "    }\n",
       "</style>\n",
       "<table border=\"1\" class=\"dataframe\">\n",
       "  <thead>\n",
       "    <tr style=\"text-align: right;\">\n",
       "      <th></th>\n",
       "      <th>Current account balance</th>\n",
       "      <th>General government net debt</th>\n",
       "      <th>General government total expenditure</th>\n",
       "      <th>Unemployment rate</th>\n",
       "      <th>CPI</th>\n",
       "      <th>CBI</th>\n",
       "    </tr>\n",
       "  </thead>\n",
       "  <tbody>\n",
       "    <tr>\n",
       "      <th>count</th>\n",
       "      <td>5.000000</td>\n",
       "      <td>5.0</td>\n",
       "      <td>5.0</td>\n",
       "      <td>5.000000</td>\n",
       "      <td>5.000000</td>\n",
       "      <td>5.000000e+00</td>\n",
       "    </tr>\n",
       "    <tr>\n",
       "      <th>mean</th>\n",
       "      <td>-6.442600</td>\n",
       "      <td>0.0</td>\n",
       "      <td>0.0</td>\n",
       "      <td>7.685200</td>\n",
       "      <td>84.079200</td>\n",
       "      <td>4.387500e-01</td>\n",
       "    </tr>\n",
       "    <tr>\n",
       "      <th>std</th>\n",
       "      <td>3.358138</td>\n",
       "      <td>0.0</td>\n",
       "      <td>0.0</td>\n",
       "      <td>1.200914</td>\n",
       "      <td>24.984618</td>\n",
       "      <td>6.206335e-17</td>\n",
       "    </tr>\n",
       "    <tr>\n",
       "      <th>min</th>\n",
       "      <td>-9.673000</td>\n",
       "      <td>0.0</td>\n",
       "      <td>0.0</td>\n",
       "      <td>6.400000</td>\n",
       "      <td>59.145000</td>\n",
       "      <td>4.387500e-01</td>\n",
       "    </tr>\n",
       "    <tr>\n",
       "      <th>25%</th>\n",
       "      <td>-9.142000</td>\n",
       "      <td>0.0</td>\n",
       "      <td>0.0</td>\n",
       "      <td>6.800000</td>\n",
       "      <td>64.460000</td>\n",
       "      <td>4.387500e-01</td>\n",
       "    </tr>\n",
       "    <tr>\n",
       "      <th>50%</th>\n",
       "      <td>-6.842000</td>\n",
       "      <td>0.0</td>\n",
       "      <td>0.0</td>\n",
       "      <td>7.326000</td>\n",
       "      <td>75.433000</td>\n",
       "      <td>4.387500e-01</td>\n",
       "    </tr>\n",
       "    <tr>\n",
       "      <th>75%</th>\n",
       "      <td>-5.175000</td>\n",
       "      <td>0.0</td>\n",
       "      <td>0.0</td>\n",
       "      <td>8.900000</td>\n",
       "      <td>110.209000</td>\n",
       "      <td>4.387500e-01</td>\n",
       "    </tr>\n",
       "    <tr>\n",
       "      <th>max</th>\n",
       "      <td>-1.381000</td>\n",
       "      <td>0.0</td>\n",
       "      <td>0.0</td>\n",
       "      <td>9.000000</td>\n",
       "      <td>111.149000</td>\n",
       "      <td>4.387500e-01</td>\n",
       "    </tr>\n",
       "  </tbody>\n",
       "</table>\n",
       "</div>"
      ],
      "text/plain": [
       "       Current account balance  General government net debt  \\\n",
       "count                 5.000000                          5.0   \n",
       "mean                 -6.442600                          0.0   \n",
       "std                   3.358138                          0.0   \n",
       "min                  -9.673000                          0.0   \n",
       "25%                  -9.142000                          0.0   \n",
       "50%                  -6.842000                          0.0   \n",
       "75%                  -5.175000                          0.0   \n",
       "max                  -1.381000                          0.0   \n",
       "\n",
       "       General government total expenditure  Unemployment rate         CPI  \\\n",
       "count                                   5.0           5.000000    5.000000   \n",
       "mean                                    0.0           7.685200   84.079200   \n",
       "std                                     0.0           1.200914   24.984618   \n",
       "min                                     0.0           6.400000   59.145000   \n",
       "25%                                     0.0           6.800000   64.460000   \n",
       "50%                                     0.0           7.326000   75.433000   \n",
       "75%                                     0.0           8.900000  110.209000   \n",
       "max                                     0.0           9.000000  111.149000   \n",
       "\n",
       "                CBI  \n",
       "count  5.000000e+00  \n",
       "mean   4.387500e-01  \n",
       "std    6.206335e-17  \n",
       "min    4.387500e-01  \n",
       "25%    4.387500e-01  \n",
       "50%    4.387500e-01  \n",
       "75%    4.387500e-01  \n",
       "max    4.387500e-01  "
      ]
     },
     "execution_count": 62,
     "metadata": {},
     "output_type": "execute_result"
    }
   ],
   "source": [
    "peru_filled.describe()"
   ]
  },
  {
   "cell_type": "markdown",
   "id": "04078b1a",
   "metadata": {},
   "source": [
    "# <a href='#t2'>2. Probabilities</a>"
   ]
  },
  {
   "cell_type": "markdown",
   "id": "9b413c00",
   "metadata": {},
   "source": [
    "## <a id='2.1.'> 2.1 Calculating probabilities </a> \n",
    "We analyse the deals dataframe, which shows the deals an employee made with different clients during the last year. It contains the following information\n",
    "- product: product of the deal\n",
    "- client: New or Current\n",
    "- status:  Won or Lost\n",
    "- amount: amount of the deal\n",
    "- num_users: # of users of the product\n",
    "\n",
    "Let's calculate the probability of selecting a deal for the different product types"
   ]
  },
  {
   "cell_type": "code",
   "execution_count": 63,
   "id": "3723bb84",
   "metadata": {},
   "outputs": [
    {
     "data": {
      "text/html": [
       "<div>\n",
       "<style scoped>\n",
       "    .dataframe tbody tr th:only-of-type {\n",
       "        vertical-align: middle;\n",
       "    }\n",
       "\n",
       "    .dataframe tbody tr th {\n",
       "        vertical-align: top;\n",
       "    }\n",
       "\n",
       "    .dataframe thead th {\n",
       "        text-align: right;\n",
       "    }\n",
       "</style>\n",
       "<table border=\"1\" class=\"dataframe\">\n",
       "  <thead>\n",
       "    <tr style=\"text-align: right;\">\n",
       "      <th></th>\n",
       "      <th>product</th>\n",
       "      <th>client</th>\n",
       "      <th>status</th>\n",
       "      <th>amount</th>\n",
       "      <th>num_users</th>\n",
       "    </tr>\n",
       "  </thead>\n",
       "  <tbody>\n",
       "    <tr>\n",
       "      <th>0</th>\n",
       "      <td>Product F</td>\n",
       "      <td>Current</td>\n",
       "      <td>Won</td>\n",
       "      <td>7389.52</td>\n",
       "      <td>19</td>\n",
       "    </tr>\n",
       "    <tr>\n",
       "      <th>1</th>\n",
       "      <td>Product C</td>\n",
       "      <td>New</td>\n",
       "      <td>Won</td>\n",
       "      <td>4493.01</td>\n",
       "      <td>43</td>\n",
       "    </tr>\n",
       "    <tr>\n",
       "      <th>2</th>\n",
       "      <td>Product B</td>\n",
       "      <td>New</td>\n",
       "      <td>Won</td>\n",
       "      <td>5738.09</td>\n",
       "      <td>87</td>\n",
       "    </tr>\n",
       "    <tr>\n",
       "      <th>3</th>\n",
       "      <td>Product I</td>\n",
       "      <td>Current</td>\n",
       "      <td>Won</td>\n",
       "      <td>2591.24</td>\n",
       "      <td>83</td>\n",
       "    </tr>\n",
       "    <tr>\n",
       "      <th>4</th>\n",
       "      <td>Product E</td>\n",
       "      <td>Current</td>\n",
       "      <td>Won</td>\n",
       "      <td>6622.97</td>\n",
       "      <td>17</td>\n",
       "    </tr>\n",
       "  </tbody>\n",
       "</table>\n",
       "</div>"
      ],
      "text/plain": [
       "     product   client status   amount  num_users\n",
       "0  Product F  Current    Won  7389.52         19\n",
       "1  Product C      New    Won  4493.01         43\n",
       "2  Product B      New    Won  5738.09         87\n",
       "3  Product I  Current    Won  2591.24         83\n",
       "4  Product E  Current    Won  6622.97         17"
      ]
     },
     "execution_count": 63,
     "metadata": {},
     "output_type": "execute_result"
    }
   ],
   "source": [
    ">>> deals = pd.read_csv('../datasets/deals.csv')\n",
    ">>> deals.head()"
   ]
  },
  {
   "cell_type": "code",
   "execution_count": 64,
   "id": "a2bf4068",
   "metadata": {},
   "outputs": [
    {
     "data": {
      "text/plain": [
       "Product B    62\n",
       "Product D    40\n",
       "Product A    23\n",
       "Product C    15\n",
       "Product F    11\n",
       "Product H     8\n",
       "Product I     7\n",
       "Product E     5\n",
       "Product N     3\n",
       "Product G     2\n",
       "Product J     2\n",
       "Name: product, dtype: int64"
      ]
     },
     "execution_count": 64,
     "metadata": {},
     "output_type": "execute_result"
    }
   ],
   "source": [
    "# We first count the number of deals with each product\n",
    "counts = deals['product'].value_counts()\n",
    "counts"
   ]
  },
  {
   "cell_type": "code",
   "execution_count": 65,
   "id": "51ae1c2b",
   "metadata": {},
   "outputs": [
    {
     "name": "stdout",
     "output_type": "stream",
     "text": [
      "Product B    0.348315\n",
      "Product D    0.224719\n",
      "Product A    0.129213\n",
      "Product C    0.084270\n",
      "Product F    0.061798\n",
      "Product H    0.044944\n",
      "Product I    0.039326\n",
      "Product E    0.028090\n",
      "Product N    0.016854\n",
      "Product G    0.011236\n",
      "Product J    0.011236\n",
      "Name: product, dtype: float64\n"
     ]
    }
   ],
   "source": [
    "# We calculate probability of picking a deal with each product\n",
    "probs = counts / counts.sum()\n",
    "print(probs)"
   ]
  },
  {
   "cell_type": "code",
   "execution_count": 66,
   "id": "929ab5f4",
   "metadata": {},
   "outputs": [
    {
     "data": {
      "text/plain": [
       "1.0"
      ]
     },
     "execution_count": 66,
     "metadata": {},
     "output_type": "execute_result"
    }
   ],
   "source": [
    "# We sum the probabilities and get 1 or 100% \n",
    "round(probs.sum(), 2)"
   ]
  },
  {
   "cell_type": "markdown",
   "id": "f7940151",
   "metadata": {},
   "source": [
    "## <a id='2.2.'> 2.2 Sampling </a> \n",
    "Let's say we want to randomly pick ten deals so that we can reach out to each customer and ask if they were satisfied with the service they received. We are going to sample both with replacement and without replacement using the ```sample``` method."
   ]
  },
  {
   "cell_type": "code",
   "execution_count": 67,
   "id": "07b3f9a5",
   "metadata": {},
   "outputs": [],
   "source": [
    "# We set a random seed so we can repeat the experiment\n",
    "np.random.seed(42)"
   ]
  },
  {
   "cell_type": "code",
   "execution_count": 68,
   "id": "2b64fcde",
   "metadata": {},
   "outputs": [
    {
     "data": {
      "text/html": [
       "<div>\n",
       "<style scoped>\n",
       "    .dataframe tbody tr th:only-of-type {\n",
       "        vertical-align: middle;\n",
       "    }\n",
       "\n",
       "    .dataframe tbody tr th {\n",
       "        vertical-align: top;\n",
       "    }\n",
       "\n",
       "    .dataframe thead th {\n",
       "        text-align: right;\n",
       "    }\n",
       "</style>\n",
       "<table border=\"1\" class=\"dataframe\">\n",
       "  <thead>\n",
       "    <tr style=\"text-align: right;\">\n",
       "      <th></th>\n",
       "      <th>product</th>\n",
       "      <th>client</th>\n",
       "      <th>status</th>\n",
       "      <th>amount</th>\n",
       "      <th>num_users</th>\n",
       "    </tr>\n",
       "  </thead>\n",
       "  <tbody>\n",
       "    <tr>\n",
       "      <th>19</th>\n",
       "      <td>Product I</td>\n",
       "      <td>Current</td>\n",
       "      <td>Won</td>\n",
       "      <td>3220.45</td>\n",
       "      <td>45</td>\n",
       "    </tr>\n",
       "    <tr>\n",
       "      <th>45</th>\n",
       "      <td>Product B</td>\n",
       "      <td>Current</td>\n",
       "      <td>Won</td>\n",
       "      <td>8614.12</td>\n",
       "      <td>17</td>\n",
       "    </tr>\n",
       "    <tr>\n",
       "      <th>140</th>\n",
       "      <td>Product B</td>\n",
       "      <td>Current</td>\n",
       "      <td>Lost</td>\n",
       "      <td>5856.18</td>\n",
       "      <td>45</td>\n",
       "    </tr>\n",
       "    <tr>\n",
       "      <th>30</th>\n",
       "      <td>Product C</td>\n",
       "      <td>New</td>\n",
       "      <td>Won</td>\n",
       "      <td>6151.14</td>\n",
       "      <td>66</td>\n",
       "    </tr>\n",
       "    <tr>\n",
       "      <th>67</th>\n",
       "      <td>Product B</td>\n",
       "      <td>Current</td>\n",
       "      <td>Won</td>\n",
       "      <td>4571.26</td>\n",
       "      <td>19</td>\n",
       "    </tr>\n",
       "    <tr>\n",
       "      <th>16</th>\n",
       "      <td>Product D</td>\n",
       "      <td>Current</td>\n",
       "      <td>Won</td>\n",
       "      <td>5282.57</td>\n",
       "      <td>58</td>\n",
       "    </tr>\n",
       "    <tr>\n",
       "      <th>119</th>\n",
       "      <td>Product B</td>\n",
       "      <td>Current</td>\n",
       "      <td>Won</td>\n",
       "      <td>1597.44</td>\n",
       "      <td>37</td>\n",
       "    </tr>\n",
       "    <tr>\n",
       "      <th>174</th>\n",
       "      <td>Product D</td>\n",
       "      <td>Current</td>\n",
       "      <td>Won</td>\n",
       "      <td>6377.50</td>\n",
       "      <td>12</td>\n",
       "    </tr>\n",
       "    <tr>\n",
       "      <th>109</th>\n",
       "      <td>Product H</td>\n",
       "      <td>Current</td>\n",
       "      <td>Won</td>\n",
       "      <td>5257.16</td>\n",
       "      <td>22</td>\n",
       "    </tr>\n",
       "    <tr>\n",
       "      <th>141</th>\n",
       "      <td>Product B</td>\n",
       "      <td>Current</td>\n",
       "      <td>Won</td>\n",
       "      <td>4795.64</td>\n",
       "      <td>8</td>\n",
       "    </tr>\n",
       "  </tbody>\n",
       "</table>\n",
       "</div>"
      ],
      "text/plain": [
       "       product   client status   amount  num_users\n",
       "19   Product I  Current    Won  3220.45         45\n",
       "45   Product B  Current    Won  8614.12         17\n",
       "140  Product B  Current   Lost  5856.18         45\n",
       "30   Product C      New    Won  6151.14         66\n",
       "67   Product B  Current    Won  4571.26         19\n",
       "16   Product D  Current    Won  5282.57         58\n",
       "119  Product B  Current    Won  1597.44         37\n",
       "174  Product D  Current    Won  6377.50         12\n",
       "109  Product H  Current    Won  5257.16         22\n",
       "141  Product B  Current    Won  4795.64          8"
      ]
     },
     "execution_count": 68,
     "metadata": {},
     "output_type": "execute_result"
    }
   ],
   "source": [
    "sample_without_replacement = deals.sample(10, replace = False)\n",
    "sample_without_replacement"
   ]
  },
  {
   "cell_type": "code",
   "execution_count": 69,
   "id": "6a230519",
   "metadata": {},
   "outputs": [
    {
     "data": {
      "text/html": [
       "<div>\n",
       "<style scoped>\n",
       "    .dataframe tbody tr th:only-of-type {\n",
       "        vertical-align: middle;\n",
       "    }\n",
       "\n",
       "    .dataframe tbody tr th {\n",
       "        vertical-align: top;\n",
       "    }\n",
       "\n",
       "    .dataframe thead th {\n",
       "        text-align: right;\n",
       "    }\n",
       "</style>\n",
       "<table border=\"1\" class=\"dataframe\">\n",
       "  <thead>\n",
       "    <tr style=\"text-align: right;\">\n",
       "      <th></th>\n",
       "      <th>product</th>\n",
       "      <th>client</th>\n",
       "      <th>status</th>\n",
       "      <th>amount</th>\n",
       "      <th>num_users</th>\n",
       "    </tr>\n",
       "  </thead>\n",
       "  <tbody>\n",
       "    <tr>\n",
       "      <th>102</th>\n",
       "      <td>Product D</td>\n",
       "      <td>New</td>\n",
       "      <td>Lost</td>\n",
       "      <td>1196.53</td>\n",
       "      <td>63</td>\n",
       "    </tr>\n",
       "    <tr>\n",
       "      <th>92</th>\n",
       "      <td>Product A</td>\n",
       "      <td>Current</td>\n",
       "      <td>Won</td>\n",
       "      <td>4509.96</td>\n",
       "      <td>92</td>\n",
       "    </tr>\n",
       "    <tr>\n",
       "      <th>14</th>\n",
       "      <td>Product B</td>\n",
       "      <td>Current</td>\n",
       "      <td>Lost</td>\n",
       "      <td>7030.54</td>\n",
       "      <td>41</td>\n",
       "    </tr>\n",
       "    <tr>\n",
       "      <th>106</th>\n",
       "      <td>Product H</td>\n",
       "      <td>Current</td>\n",
       "      <td>Won</td>\n",
       "      <td>4547.97</td>\n",
       "      <td>13</td>\n",
       "    </tr>\n",
       "    <tr>\n",
       "      <th>71</th>\n",
       "      <td>Product A</td>\n",
       "      <td>Current</td>\n",
       "      <td>Won</td>\n",
       "      <td>5945.63</td>\n",
       "      <td>55</td>\n",
       "    </tr>\n",
       "    <tr>\n",
       "      <th>20</th>\n",
       "      <td>Product F</td>\n",
       "      <td>Current</td>\n",
       "      <td>Lost</td>\n",
       "      <td>6849.12</td>\n",
       "      <td>19</td>\n",
       "    </tr>\n",
       "    <tr>\n",
       "      <th>102</th>\n",
       "      <td>Product D</td>\n",
       "      <td>New</td>\n",
       "      <td>Lost</td>\n",
       "      <td>1196.53</td>\n",
       "      <td>63</td>\n",
       "    </tr>\n",
       "    <tr>\n",
       "      <th>121</th>\n",
       "      <td>Product B</td>\n",
       "      <td>Current</td>\n",
       "      <td>Won</td>\n",
       "      <td>4831.73</td>\n",
       "      <td>12</td>\n",
       "    </tr>\n",
       "    <tr>\n",
       "      <th>74</th>\n",
       "      <td>Product D</td>\n",
       "      <td>Current</td>\n",
       "      <td>Lost</td>\n",
       "      <td>4274.80</td>\n",
       "      <td>9</td>\n",
       "    </tr>\n",
       "    <tr>\n",
       "      <th>87</th>\n",
       "      <td>Product C</td>\n",
       "      <td>Current</td>\n",
       "      <td>Won</td>\n",
       "      <td>3579.63</td>\n",
       "      <td>3</td>\n",
       "    </tr>\n",
       "  </tbody>\n",
       "</table>\n",
       "</div>"
      ],
      "text/plain": [
       "       product   client status   amount  num_users\n",
       "102  Product D      New   Lost  1196.53         63\n",
       "92   Product A  Current    Won  4509.96         92\n",
       "14   Product B  Current   Lost  7030.54         41\n",
       "106  Product H  Current    Won  4547.97         13\n",
       "71   Product A  Current    Won  5945.63         55\n",
       "20   Product F  Current   Lost  6849.12         19\n",
       "102  Product D      New   Lost  1196.53         63\n",
       "121  Product B  Current    Won  4831.73         12\n",
       "74   Product D  Current   Lost  4274.80          9\n",
       "87   Product C  Current    Won  3579.63          3"
      ]
     },
     "execution_count": 69,
     "metadata": {},
     "output_type": "execute_result"
    }
   ],
   "source": [
    "# We set a random seed so we can repeat the experiment\n",
    "np.random.seed(42)\n",
    "\n",
    "# We sample 10 deals with replacement\n",
    "sample_with_replacement = deals.sample(10, replace = True)\n",
    "sample_with_replacement"
   ]
  },
  {
   "cell_type": "markdown",
   "id": "b94a896b",
   "metadata": {},
   "source": [
    "Given that we want the most varied number of opinions possible, in this example, it would be better to do sampling without replacement"
   ]
  },
  {
   "cell_type": "markdown",
   "id": "307106c3",
   "metadata": {},
   "source": [
    "# <a id='t3'>3. Distributions using scipy.stats</a>"
   ]
  },
  {
   "cell_type": "markdown",
   "id": "73e363b9",
   "metadata": {},
   "source": [
    "Some information about scipy.stats: https://docs.scipy.org/doc/scipy/reference/stats.html"
   ]
  },
  {
   "cell_type": "markdown",
   "id": "72ef9ff8",
   "metadata": {},
   "source": [
    "## <a id='3.1.'> 3.1 Discrete Probability distributions </a> \n",
    "A probability distribution is a mathematical function that describes the likelihood of obtaining different possible outcomes in a random experiment or process. It provides a way to model uncertainty and randomness in various fields such as statistics, probability theory, and machine learning. Probability distributions can be discrete or continuous, depending on the nature of the random variable they describe. We will see discrete distributions. First, with an example with an empirical distribution and then, a uniform distribution of dices"
   ]
  },
  {
   "cell_type": "markdown",
   "id": "419f3406",
   "metadata": {},
   "source": [
    "### <a id='3.1.1'> Discrete Empirical distribution </a>  "
   ]
  },
  {
   "cell_type": "code",
   "execution_count": 70,
   "id": "b88ee41d",
   "metadata": {},
   "outputs": [],
   "source": [
    "data = {'group_id': ['A', 'B', 'C', 'D', 'E', 'F', 'G', 'H', 'I', 'J', 'K', 'L'],\n",
    "        'group_size': [3, 5, 6, 2, 4, 2, 3, 2, 5, 2, 3, 7]}\n",
    "\n",
    "data = pd.DataFrame(data)"
   ]
  },
  {
   "cell_type": "markdown",
   "id": "4c913e8b",
   "metadata": {},
   "source": [
    "Let's say we have 12 different groups and we want to select them randomly. Let's see the probability distribution of groups of different sizes being picked up.\n",
    "\n",
    "First, we create a histogram of the `group_size` column to see how it is distributed. We can see most groups consist of only 2 or 3 people."
   ]
  },
  {
   "cell_type": "code",
   "execution_count": 71,
   "id": "cdb215a2",
   "metadata": {},
   "outputs": [
    {
     "data": {
      "image/png": "[encoded data removed]",
      "text/plain": [
       "<Figure size 640x480 with 1 Axes>"
      ]
     },
     "metadata": {},
     "output_type": "display_data"
    }
   ],
   "source": [
    "data['group_size'].hist(bins = [2, 3, 4, 5, 6, 7, 8])\n",
    "plt.ylabel('# of Groups')\n",
    "plt.xlabel('Number of people')\n",
    "plt.show()"
   ]
  },
  {
   "cell_type": "markdown",
   "id": "2fa11600",
   "metadata": {},
   "source": [
    "Then, we tally the occurrences of each `group_size` in `restaurant_groups`. Subsequently, we divide by the total number of rows in `restaurant_groups` to ascertain the probability associated with randomly selecting a group of each size. The results are stored in a DataFrame named `size_dist`. Following this, we reset the index of `size_dist` and proceed to rename its columns to 'group_size' and 'prob'."
   ]
  },
  {
   "cell_type": "code",
   "execution_count": 72,
   "id": "e1a58fb4",
   "metadata": {},
   "outputs": [
    {
     "data": {
      "text/html": [
       "<div>\n",
       "<style scoped>\n",
       "    .dataframe tbody tr th:only-of-type {\n",
       "        vertical-align: middle;\n",
       "    }\n",
       "\n",
       "    .dataframe tbody tr th {\n",
       "        vertical-align: top;\n",
       "    }\n",
       "\n",
       "    .dataframe thead th {\n",
       "        text-align: right;\n",
       "    }\n",
       "</style>\n",
       "<table border=\"1\" class=\"dataframe\">\n",
       "  <thead>\n",
       "    <tr style=\"text-align: right;\">\n",
       "      <th></th>\n",
       "      <th>group_size</th>\n",
       "      <th>prob</th>\n",
       "    </tr>\n",
       "  </thead>\n",
       "  <tbody>\n",
       "    <tr>\n",
       "      <th>0</th>\n",
       "      <td>2</td>\n",
       "      <td>0.333333</td>\n",
       "    </tr>\n",
       "    <tr>\n",
       "      <th>1</th>\n",
       "      <td>3</td>\n",
       "      <td>0.250000</td>\n",
       "    </tr>\n",
       "    <tr>\n",
       "      <th>2</th>\n",
       "      <td>4</td>\n",
       "      <td>0.083333</td>\n",
       "    </tr>\n",
       "    <tr>\n",
       "      <th>3</th>\n",
       "      <td>5</td>\n",
       "      <td>0.166667</td>\n",
       "    </tr>\n",
       "    <tr>\n",
       "      <th>4</th>\n",
       "      <td>6</td>\n",
       "      <td>0.083333</td>\n",
       "    </tr>\n",
       "    <tr>\n",
       "      <th>5</th>\n",
       "      <td>7</td>\n",
       "      <td>0.083333</td>\n",
       "    </tr>\n",
       "  </tbody>\n",
       "</table>\n",
       "</div>"
      ],
      "text/plain": [
       "   group_size      prob\n",
       "0           2  0.333333\n",
       "1           3  0.250000\n",
       "2           4  0.083333\n",
       "3           5  0.166667\n",
       "4           6  0.083333\n",
       "5           7  0.083333"
      ]
     },
     "execution_count": 72,
     "metadata": {},
     "output_type": "execute_result"
    }
   ],
   "source": [
    "# We create probability distribution\n",
    "size_dist = data.groupby('group_size').count() / len(data)\n",
    "\n",
    "# We reset index and rename columns\n",
    "size_dist = size_dist.reset_index()\n",
    "size_dist.columns = ['group_size', 'prob']\n",
    "\n",
    "size_dist"
   ]
  },
  {
   "cell_type": "markdown",
   "id": "35aed032",
   "metadata": {},
   "source": [
    "We observe that groups with 2, 3 and 5 people are most likely to be chosen. Next, compute the expected value of the `size_distribution`, representing the anticipated group size. This involves multiplying each `group_size` by its corresponding probability (`prob`) and summing up the results."
   ]
  },
  {
   "cell_type": "code",
   "execution_count": 73,
   "id": "a5632d62",
   "metadata": {},
   "outputs": [
    {
     "name": "stdout",
     "output_type": "stream",
     "text": [
      "3.67\n"
     ]
    }
   ],
   "source": [
    "# We calculate the expected value\n",
    "expected_value = np.sum(size_dist['group_size'] * size_dist['prob'])\n",
    "print(round(expected_value, 2))"
   ]
  },
  {
   "cell_type": "markdown",
   "id": "36528663",
   "metadata": {},
   "source": [
    "Finally, we determine the probability of randomly selecting a group comprising 4 or more people by subsetting those groups Subsequently, sum the probabilities associated with choosing groups of this size or larger."
   ]
  },
  {
   "cell_type": "code",
   "execution_count": 74,
   "id": "f676099d",
   "metadata": {},
   "outputs": [
    {
     "name": "stdout",
     "output_type": "stream",
     "text": [
      "0.41666666666666663\n"
     ]
    }
   ],
   "source": [
    "# Subset groups of size 4 or more\n",
    "groups_4_or_more = size_dist[size_dist['group_size'] >= 4]\n",
    "\n",
    "# Sum the probabilities of groups_4_or_more\n",
    "prob_4_or_more = groups_4_or_more['prob'].sum()\n",
    "print(prob_4_or_more)"
   ]
  },
  {
   "cell_type": "markdown",
   "id": "22e0de9e",
   "metadata": {},
   "source": [
    "### <a id='3.1.2'> Discrete Uniform distribution </a>  "
   ]
  },
  {
   "cell_type": "code",
   "execution_count": 75,
   "id": "9df8505a",
   "metadata": {},
   "outputs": [],
   "source": [
    "die  = {'number': [1, 2, 3, 4, 5, 6],\n",
    "        'times': [1, 1, 1, 1, 1, 1]}\n",
    "\n",
    "die  = pd.DataFrame(die)"
   ]
  },
  {
   "cell_type": "markdown",
   "id": "ddded25e",
   "metadata": {},
   "source": [
    "By plotting the histogram, we can see that each number of the dice has an equal probability of being choosen when rolling the dice"
   ]
  },
  {
   "cell_type": "code",
   "execution_count": 76,
   "id": "94f58e50",
   "metadata": {},
   "outputs": [
    {
     "data": {
      "image/png": "[encoded data removed]",
      "text/plain": [
       "<Figure size 640x480 with 1 Axes>"
      ]
     },
     "metadata": {},
     "output_type": "display_data"
    }
   ],
   "source": [
    "die['number'].hist(bins = [1, 2, 3, 4, 5, 6, 7])\n",
    "plt.ylabel('number of times')\n",
    "plt.xlabel('die number')\n",
    "plt.show()"
   ]
  },
  {
   "cell_type": "markdown",
   "id": "86a887cf",
   "metadata": {},
   "source": [
    "Each number has 1/6 or around 17% chance of being selected"
   ]
  },
  {
   "cell_type": "code",
   "execution_count": 77,
   "id": "becb47e3",
   "metadata": {},
   "outputs": [
    {
     "data": {
      "text/html": [
       "<div>\n",
       "<style scoped>\n",
       "    .dataframe tbody tr th:only-of-type {\n",
       "        vertical-align: middle;\n",
       "    }\n",
       "\n",
       "    .dataframe tbody tr th {\n",
       "        vertical-align: top;\n",
       "    }\n",
       "\n",
       "    .dataframe thead th {\n",
       "        text-align: right;\n",
       "    }\n",
       "</style>\n",
       "<table border=\"1\" class=\"dataframe\">\n",
       "  <thead>\n",
       "    <tr style=\"text-align: right;\">\n",
       "      <th></th>\n",
       "      <th>number</th>\n",
       "      <th>prob</th>\n",
       "    </tr>\n",
       "  </thead>\n",
       "  <tbody>\n",
       "    <tr>\n",
       "      <th>0</th>\n",
       "      <td>1</td>\n",
       "      <td>0.166667</td>\n",
       "    </tr>\n",
       "    <tr>\n",
       "      <th>1</th>\n",
       "      <td>2</td>\n",
       "      <td>0.166667</td>\n",
       "    </tr>\n",
       "    <tr>\n",
       "      <th>2</th>\n",
       "      <td>3</td>\n",
       "      <td>0.166667</td>\n",
       "    </tr>\n",
       "    <tr>\n",
       "      <th>3</th>\n",
       "      <td>4</td>\n",
       "      <td>0.166667</td>\n",
       "    </tr>\n",
       "    <tr>\n",
       "      <th>4</th>\n",
       "      <td>5</td>\n",
       "      <td>0.166667</td>\n",
       "    </tr>\n",
       "    <tr>\n",
       "      <th>5</th>\n",
       "      <td>6</td>\n",
       "      <td>0.166667</td>\n",
       "    </tr>\n",
       "  </tbody>\n",
       "</table>\n",
       "</div>"
      ],
      "text/plain": [
       "   number      prob\n",
       "0       1  0.166667\n",
       "1       2  0.166667\n",
       "2       3  0.166667\n",
       "3       4  0.166667\n",
       "4       5  0.166667\n",
       "5       6  0.166667"
      ]
     },
     "execution_count": 77,
     "metadata": {},
     "output_type": "execute_result"
    }
   ],
   "source": [
    "# We create probability distribution\n",
    "number_dist = die.groupby('number').count() / len(die)\n",
    "\n",
    "# We reset index and rename columns\n",
    "number_dist = number_dist.reset_index()\n",
    "number_dist.columns = ['number', 'prob']\n",
    "\n",
    "number_dist"
   ]
  },
  {
   "cell_type": "markdown",
   "id": "2bcdaa35",
   "metadata": {},
   "source": [
    "The expected value of our die is 3.5"
   ]
  },
  {
   "cell_type": "code",
   "execution_count": 78,
   "id": "64ffa752",
   "metadata": {},
   "outputs": [
    {
     "data": {
      "text/plain": [
       "3.5"
      ]
     },
     "execution_count": 78,
     "metadata": {},
     "output_type": "execute_result"
    }
   ],
   "source": [
    "np.mean(die['number'])"
   ]
  },
  {
   "cell_type": "markdown",
   "id": "122cf985",
   "metadata": {},
   "source": [
    "We can sample with replacement to simulate 10 rolls of the die and see how the distribution changes"
   ]
  },
  {
   "cell_type": "code",
   "execution_count": 79,
   "id": "07f20b9d",
   "metadata": {},
   "outputs": [
    {
     "data": {
      "text/html": [
       "<div>\n",
       "<style scoped>\n",
       "    .dataframe tbody tr th:only-of-type {\n",
       "        vertical-align: middle;\n",
       "    }\n",
       "\n",
       "    .dataframe tbody tr th {\n",
       "        vertical-align: top;\n",
       "    }\n",
       "\n",
       "    .dataframe thead th {\n",
       "        text-align: right;\n",
       "    }\n",
       "</style>\n",
       "<table border=\"1\" class=\"dataframe\">\n",
       "  <thead>\n",
       "    <tr style=\"text-align: right;\">\n",
       "      <th></th>\n",
       "      <th>number</th>\n",
       "      <th>times</th>\n",
       "    </tr>\n",
       "  </thead>\n",
       "  <tbody>\n",
       "    <tr>\n",
       "      <th>4</th>\n",
       "      <td>5</td>\n",
       "      <td>1</td>\n",
       "    </tr>\n",
       "    <tr>\n",
       "      <th>3</th>\n",
       "      <td>4</td>\n",
       "      <td>1</td>\n",
       "    </tr>\n",
       "    <tr>\n",
       "      <th>2</th>\n",
       "      <td>3</td>\n",
       "      <td>1</td>\n",
       "    </tr>\n",
       "    <tr>\n",
       "      <th>5</th>\n",
       "      <td>6</td>\n",
       "      <td>1</td>\n",
       "    </tr>\n",
       "    <tr>\n",
       "      <th>4</th>\n",
       "      <td>5</td>\n",
       "      <td>1</td>\n",
       "    </tr>\n",
       "    <tr>\n",
       "      <th>1</th>\n",
       "      <td>2</td>\n",
       "      <td>1</td>\n",
       "    </tr>\n",
       "    <tr>\n",
       "      <th>3</th>\n",
       "      <td>4</td>\n",
       "      <td>1</td>\n",
       "    </tr>\n",
       "    <tr>\n",
       "      <th>5</th>\n",
       "      <td>6</td>\n",
       "      <td>1</td>\n",
       "    </tr>\n",
       "    <tr>\n",
       "      <th>5</th>\n",
       "      <td>6</td>\n",
       "      <td>1</td>\n",
       "    </tr>\n",
       "    <tr>\n",
       "      <th>1</th>\n",
       "      <td>2</td>\n",
       "      <td>1</td>\n",
       "    </tr>\n",
       "  </tbody>\n",
       "</table>\n",
       "</div>"
      ],
      "text/plain": [
       "   number  times\n",
       "4       5      1\n",
       "3       4      1\n",
       "2       3      1\n",
       "5       6      1\n",
       "4       5      1\n",
       "1       2      1\n",
       "3       4      1\n",
       "5       6      1\n",
       "5       6      1\n",
       "1       2      1"
      ]
     },
     "execution_count": 79,
     "metadata": {},
     "output_type": "execute_result"
    }
   ],
   "source": [
    "rolls_10 = die.sample(10, replace = True)\n",
    "rolls_10"
   ]
  },
  {
   "cell_type": "markdown",
   "id": "0a23f2cf",
   "metadata": {},
   "source": [
    "We visualize the distribution and calculate the sample mean, we see that the sample mean is not the expected value, but it is close"
   ]
  },
  {
   "cell_type": "code",
   "execution_count": 80,
   "id": "fbffcf40",
   "metadata": {},
   "outputs": [
    {
     "data": {
      "image/png": "[encoded data removed]",
      "text/plain": [
       "<Figure size 640x480 with 1 Axes>"
      ]
     },
     "metadata": {},
     "output_type": "display_data"
    }
   ],
   "source": [
    "rolls_10['number'].hist(bins = np.linspace(1, 7, 7))\n",
    "plt.ylabel('number of times')\n",
    "plt.xlabel('die number')\n",
    "plt.show()"
   ]
  },
  {
   "cell_type": "code",
   "execution_count": 81,
   "id": "90bd115f",
   "metadata": {},
   "outputs": [
    {
     "data": {
      "text/plain": [
       "4.3"
      ]
     },
     "execution_count": 81,
     "metadata": {},
     "output_type": "execute_result"
    }
   ],
   "source": [
    "np.mean(rolls_10['number'])"
   ]
  },
  {
   "cell_type": "markdown",
   "id": "6664cf0d",
   "metadata": {},
   "source": [
    "What would happen if we had a 100 rolls instead of just 10? Let's see..."
   ]
  },
  {
   "cell_type": "code",
   "execution_count": 82,
   "id": "474872ca",
   "metadata": {},
   "outputs": [
    {
     "data": {
      "image/png": "[encoded data removed]",
      "text/plain": [
       "<Figure size 640x480 with 1 Axes>"
      ]
     },
     "metadata": {},
     "output_type": "display_data"
    }
   ],
   "source": [
    "rolls_100 = die.sample(100, replace = True)\n",
    "\n",
    "rolls_100['number'].hist(bins = np.linspace(1, 7, 7))\n",
    "plt.ylabel('number of times')\n",
    "plt.xlabel('die number')\n",
    "plt.show()"
   ]
  },
  {
   "cell_type": "markdown",
   "id": "11562d63",
   "metadata": {},
   "source": [
    "The distribution would look close to a uniform distribution and the sample mean would get closer the expected value"
   ]
  },
  {
   "cell_type": "code",
   "execution_count": 83,
   "id": "90a22aab",
   "metadata": {},
   "outputs": [
    {
     "data": {
      "text/plain": [
       "3.38"
      ]
     },
     "execution_count": 83,
     "metadata": {},
     "output_type": "execute_result"
    }
   ],
   "source": [
    "np.mean(rolls_100['number'])"
   ]
  },
  {
   "cell_type": "markdown",
   "id": "bd3fbb0a",
   "metadata": {},
   "source": [
    "What about 1000 rolls?"
   ]
  },
  {
   "cell_type": "code",
   "execution_count": 84,
   "id": "9c74a16a",
   "metadata": {},
   "outputs": [
    {
     "data": {
      "image/png": "[encoded data removed]",
      "text/plain": [
       "<Figure size 640x480 with 1 Axes>"
      ]
     },
     "metadata": {},
     "output_type": "display_data"
    }
   ],
   "source": [
    "rolls_1000 = die.sample(1000, replace = True)\n",
    "\n",
    "rolls_1000['number'].hist(bins = np.linspace(1, 7, 7))\n",
    "plt.ylabel('number of times')\n",
    "plt.xlabel('die number')\n",
    "plt.show()"
   ]
  },
  {
   "cell_type": "code",
   "execution_count": 85,
   "id": "94f0f617",
   "metadata": {},
   "outputs": [
    {
     "data": {
      "text/plain": [
       "3.493"
      ]
     },
     "execution_count": 85,
     "metadata": {},
     "output_type": "execute_result"
    }
   ],
   "source": [
    "np.mean(rolls_1000['number'])"
   ]
  },
  {
   "cell_type": "markdown",
   "id": "0d5b3677",
   "metadata": {},
   "source": [
    "We observe that the sample mean is now even closet the expected mean, we are seeing the **Law of Large Number** in action. The **Law of Large Numbers** states that as the sample size of a random experiment increases, the average of the observed values converges to the expected (theoretical) mean, indicating that large samples provide more accurate estimations of population parameters. What do you think would happen if we would sample 10000 times?"
   ]
  },
  {
   "cell_type": "markdown",
   "id": "cde9c726",
   "metadata": {},
   "source": [
    "## <a id='3.2.'> 3.2 Continuous Probability distributions </a>\n",
    "\n",
    "Continuous Probability Distributions describe the likelihood of obtaining any specific value within a continuous range of possible outcomes. Unlike discrete distributions, they deal with infinite possibilities and are characterized by Probability Density Functions (PDFs), representing the probability density at each point. The Cumulative Distribution Function (CDF) associated with these distributions gives the probability that a random variable is less than or equal to a specific value. Common examples include the normal distribution and exponential distribution."
   ]
  },
  {
   "attachments": {
    "image.png": {
     "image/png": "[encoded data removed]"
    }
   },
   "cell_type": "markdown",
   "id": "30e6279c",
   "metadata": {},
   "source": [
    "### <a id='3.2.1'> Continuous Uniform distribution </a> \n",
    "\n",
    "The Continuous Uniform Distribution represents outcomes where any value within a specified continuous range is equally likely. It is defined by two parameters: the minimum and maximum values of the range.\n",
    "\n",
    "[![image.png](attachment:image.png)](https://docs.scipy.org/doc/scipy/reference/generated/scipy.stats.uniform.html#scipy.stats.uniform)"
   ]
  },
  {
   "cell_type": "code",
   "execution_count": 86,
   "id": "832f29ff",
   "metadata": {},
   "outputs": [],
   "source": [
    ">>> from scipy.stats import uniform"
   ]
  },
  {
   "cell_type": "markdown",
   "id": "d4666a5e",
   "metadata": {},
   "source": [
    "Let's say there we are waiting in line for a bus and it has an equal probability of arriving at any moment between 12:00pm and 12:15pm. Let's calculate some probabilities using `cdf` (cummulative distribution function). \n",
    "\n",
    "The probability of the bus arriving at any moment during those 15 minutes will always be one, since it is the sum of all probabilities:"
   ]
  },
  {
   "cell_type": "code",
   "execution_count": 87,
   "id": "95075eea",
   "metadata": {},
   "outputs": [
    {
     "data": {
      "text/plain": [
       "1.0"
      ]
     },
     "execution_count": 87,
     "metadata": {},
     "output_type": "execute_result"
    }
   ],
   "source": [
    "uniform.cdf(15, 0, 15)"
   ]
  },
  {
   "cell_type": "markdown",
   "id": "46b14cc1",
   "metadata": {},
   "source": [
    "The probability of the bus arriving during the first seven minutes:"
   ]
  },
  {
   "cell_type": "code",
   "execution_count": 88,
   "id": "1332a3d6",
   "metadata": {},
   "outputs": [
    {
     "data": {
      "text/plain": [
       "0.4666666666666667"
      ]
     },
     "execution_count": 88,
     "metadata": {},
     "output_type": "execute_result"
    }
   ],
   "source": [
    "uniform.cdf(7, 0, 15)"
   ]
  },
  {
   "cell_type": "markdown",
   "id": "8e75920a",
   "metadata": {},
   "source": [
    "What about the probability of waiting more than four minutes but less than seven?"
   ]
  },
  {
   "cell_type": "code",
   "execution_count": 89,
   "id": "afc2e8cd",
   "metadata": {},
   "outputs": [
    {
     "data": {
      "text/plain": [
       "0.2"
      ]
     },
     "execution_count": 89,
     "metadata": {},
     "output_type": "execute_result"
    }
   ],
   "source": [
    "uniform.cdf(7, 0, 15) - uniform.cdf(4, 0, 15)"
   ]
  },
  {
   "cell_type": "markdown",
   "id": "69df0608",
   "metadata": {},
   "source": [
    "Now, let's generate random values using the uniform distribution with the `rvs` function. We put as input the minimum value, the maximum value and then the size of the sample"
   ]
  },
  {
   "cell_type": "code",
   "execution_count": 90,
   "id": "001546e5",
   "metadata": {},
   "outputs": [
    {
     "data": {
      "text/plain": [
       "array([ 4.52066811, 11.2141407 ,  7.54080585,  3.48319043, 13.4936186 ,\n",
       "        5.75836832,  8.15329292, 13.59708166,  9.36356994,  1.75347061,\n",
       "       14.09748185,  9.4156208 ,  5.02358422,  2.08908109, 11.91037784])"
      ]
     },
     "execution_count": 90,
     "metadata": {},
     "output_type": "execute_result"
    }
   ],
   "source": [
    "uniform.rvs(0, 15, size = 15)"
   ]
  },
  {
   "cell_type": "markdown",
   "id": "14086d25",
   "metadata": {},
   "source": [
    "If you want our sample to be reduplicated, don't forget to add a random seed"
   ]
  },
  {
   "cell_type": "code",
   "execution_count": 91,
   "id": "c616ba4a",
   "metadata": {},
   "outputs": [
    {
     "data": {
      "text/plain": [
       "array([ 5.61810178, 14.2607146 , 10.97990913,  8.97987726,  2.34027961,\n",
       "        2.33991781,  0.87125418, 12.99264219,  9.01672518, 10.62108867,\n",
       "        0.30876741, 14.54864778, 12.48663961,  3.18508666,  2.72737451])"
      ]
     },
     "execution_count": 91,
     "metadata": {},
     "output_type": "execute_result"
    }
   ],
   "source": [
    "np.random.seed(42)\n",
    "uniform.rvs(0, 15, size = 15)"
   ]
  },
  {
   "cell_type": "markdown",
   "id": "af6cb257",
   "metadata": {},
   "source": [
    "Now, another example. Your computer is in need of an update and it might restart at any moment in the following 30 minutes. Again, let's calculate some probabilities using `cdf`."
   ]
  },
  {
   "cell_type": "code",
   "execution_count": 92,
   "id": "d456d839",
   "metadata": {},
   "outputs": [
    {
     "name": "stdout",
     "output_type": "stream",
     "text": [
      "0.16666666666666666\n"
     ]
    }
   ],
   "source": [
    "# What is the probability of waiting less than 5 mins ? \n",
    "prob_less_5 = uniform.cdf(5, 0, 30)\n",
    "print(prob_less_5)"
   ]
  },
  {
   "cell_type": "code",
   "execution_count": 93,
   "id": "c7d2feed",
   "metadata": {},
   "outputs": [
    {
     "name": "stdout",
     "output_type": "stream",
     "text": [
      "0.16666666666666666\n"
     ]
    }
   ],
   "source": [
    "# What is the probability of waiting more than 5 mins ? \n",
    "prob_more_5 = 1 - uniform.cdf(5, 0, 30)\n",
    "print(prob_less_5)"
   ]
  },
  {
   "cell_type": "code",
   "execution_count": 94,
   "id": "23aaf936",
   "metadata": {},
   "outputs": [
    {
     "name": "stdout",
     "output_type": "stream",
     "text": [
      "0.3333333333333333\n"
     ]
    }
   ],
   "source": [
    "# What is the probability of waiting more than 10 mins and less than 20 ? \n",
    "prob_more_10_less_20 = uniform.cdf(20, 0, 30) - uniform.cdf(10, 0, 30)\n",
    "print(prob_more_10_less_20)"
   ]
  },
  {
   "cell_type": "markdown",
   "id": "9f8213c3",
   "metadata": {},
   "source": [
    "Now we can generate 10000 samples of the waiting time. By plotting the samples in a histogram, we can easily see that it follows a continious uniform distribution"
   ]
  },
  {
   "cell_type": "code",
   "execution_count": 95,
   "id": "77a3b7b0",
   "metadata": {},
   "outputs": [],
   "source": [
    "# We generate 1000 wait times between 0 and 30 mins\n",
    "wait_times = uniform.rvs(0, 30, size=10000)"
   ]
  },
  {
   "cell_type": "code",
   "execution_count": 96,
   "id": "a6eb9312",
   "metadata": {},
   "outputs": [
    {
     "data": {
      "image/png": "[encoded data removed]",
      "text/plain": [
       "<Figure size 640x480 with 1 Axes>"
      ]
     },
     "metadata": {},
     "output_type": "display_data"
    }
   ],
   "source": [
    "# We create a histogram of simulated times\n",
    "plt.hist(wait_times)\n",
    "plt.show()"
   ]
  },
  {
   "attachments": {
    "image.png": {
     "image/png": "[encoded data removed]"
    }
   },
   "cell_type": "markdown",
   "id": "62a98a6d",
   "metadata": {},
   "source": [
    "### <a id='3.2.2'> Binomial distribution </a> \n",
    "The Binomial Distribution models the number of successes in a fixed number of independent Bernoulli trials, each with the same probability of success. It is characterized by two parameters: the number of trials and the probability of success in each trial.\n",
    "\n",
    "[![image.png](attachment:image.png)](https://docs.scipy.org/doc/scipy/reference/generated/scipy.stats.binom.html#scipy.stats.binom)"
   ]
  },
  {
   "cell_type": "code",
   "execution_count": 97,
   "id": "473eaabe",
   "metadata": {},
   "outputs": [],
   "source": [
    ">>> from scipy.stats import binom"
   ]
  },
  {
   "cell_type": "markdown",
   "id": "95aa4126",
   "metadata": {},
   "source": [
    "Let's simulate different coin tosses"
   ]
  },
  {
   "cell_type": "code",
   "execution_count": 98,
   "id": "0d3bba7e",
   "metadata": {},
   "outputs": [
    {
     "data": {
      "text/plain": [
       "array([0], dtype=int64)"
      ]
     },
     "execution_count": 98,
     "metadata": {},
     "output_type": "execute_result"
    }
   ],
   "source": [
    "# We flip 1 coin with a 50% chance of success, one time\n",
    "binom.rvs(1, 0.5, size= 1)"
   ]
  },
  {
   "cell_type": "code",
   "execution_count": 116,
   "id": "1d6a3027",
   "metadata": {},
   "outputs": [
    {
     "data": {
      "text/plain": [
       "array([1, 1, 0, 0, 1, 1, 1, 0, 0, 1], dtype=int64)"
      ]
     },
     "execution_count": 116,
     "metadata": {},
     "output_type": "execute_result"
    }
   ],
   "source": [
    "# We flip 1 coin with a 50% chance of success, ten times\n",
    "binom.rvs(1, 0.5, size= 10)"
   ]
  },
  {
   "cell_type": "markdown",
   "id": "4899f51a",
   "metadata": {},
   "source": [
    "We can swap the first and last argument. The result will give us the sum of successes"
   ]
  },
  {
   "cell_type": "code",
   "execution_count": 117,
   "id": "cd49078f",
   "metadata": {},
   "outputs": [
    {
     "data": {
      "text/plain": [
       "array([7], dtype=int64)"
      ]
     },
     "execution_count": 117,
     "metadata": {},
     "output_type": "execute_result"
    }
   ],
   "source": [
    "# We flip 10 coins with a 50% chance of success, one time each coin\n",
    "binom.rvs(10, 0.5, size= 1)"
   ]
  },
  {
   "cell_type": "markdown",
   "id": "1893e018",
   "metadata": {},
   "source": [
    "If we set 3 as the first argument and size to 5, then we are flipping 3 coins, 5 times each one. It returns 5 numbers, representing the number of heads between the 3 coins each flip"
   ]
  },
  {
   "cell_type": "code",
   "execution_count": 101,
   "id": "afe97cb6",
   "metadata": {},
   "outputs": [
    {
     "data": {
      "text/plain": [
       "array([3, 2, 2, 1, 1, 0, 2, 2, 2, 0], dtype=int64)"
      ]
     },
     "execution_count": 101,
     "metadata": {},
     "output_type": "execute_result"
    }
   ],
   "source": [
    "# We flip 3 coins with a 50% chance of success, ten times each coin\n",
    "binom.rvs(3, 0.5, size= 10)"
   ]
  },
  {
   "cell_type": "markdown",
   "id": "4f8092d8",
   "metadata": {},
   "source": [
    "We can also make one side heavier than the other, meaning that one outcome will be more likely than the other. Let's say that heads is heavier. Instead of 50% chance, now we have a 75% chance of getting heads. The result will have higher numbers, since it is now more likely to get a success (heads)"
   ]
  },
  {
   "cell_type": "code",
   "execution_count": 102,
   "id": "7d04808a",
   "metadata": {},
   "outputs": [
    {
     "data": {
      "text/plain": [
       "array([1, 2, 3, 3, 3, 3, 2, 2, 3, 2], dtype=int64)"
      ]
     },
     "execution_count": 102,
     "metadata": {},
     "output_type": "execute_result"
    }
   ],
   "source": [
    "binom.rvs(3, 0.75, size= 10)"
   ]
  },
  {
   "cell_type": "markdown",
   "id": "f17534b8",
   "metadata": {},
   "source": [
    "We can do the opposite, making tails more likely. Instead of 50% chance, now we have a 25% chance of getting heads. The result will have lower numbers, since it is now more likely to get a failure (tails)"
   ]
  },
  {
   "cell_type": "code",
   "execution_count": 103,
   "id": "594f25fe",
   "metadata": {},
   "outputs": [
    {
     "data": {
      "text/plain": [
       "array([0, 0, 0, 1, 1, 0, 1, 1, 0, 1], dtype=int64)"
      ]
     },
     "execution_count": 103,
     "metadata": {},
     "output_type": "execute_result"
    }
   ],
   "source": [
    "binom.rvs(3, 0.25, size= 10)"
   ]
  },
  {
   "cell_type": "markdown",
   "id": "1debbfee",
   "metadata": {},
   "source": [
    "We can see the distribution of flipping 10 coins multiple times with a 50% chance of getting heads. Most of the outcomes will be located in the middle. The expected value in the binomial distribution is $n \\times p$ meaning in this case it is $10 \\times 0.5 = 5$"
   ]
  },
  {
   "cell_type": "code",
   "execution_count": 104,
   "id": "a4893617",
   "metadata": {},
   "outputs": [
    {
     "data": {
      "image/png": "[encoded data removed]",
      "text/plain": [
       "<Figure size 640x480 with 1 Axes>"
      ]
     },
     "metadata": {},
     "output_type": "display_data"
    }
   ],
   "source": [
    "flips = binom.rvs(10, 0.5, size= 100)\n",
    "plt.hist(flips)\n",
    "plt.show()"
   ]
  },
  {
   "cell_type": "markdown",
   "id": "22ce24bd",
   "metadata": {},
   "source": [
    "To get the probability of successes given a number of trials we can use `binom.pmf`,which refers to the Probability Mass Function (PMF) for a binomial distribution with the first argument being the number of heads, the second, the number of trials and the third, the probability of successes. \n",
    "\n",
    "We can use `binom.cdf` to calculate the probability that a binomial random variable is less than or equal to a specified value."
   ]
  },
  {
   "cell_type": "markdown",
   "id": "bd4a656c",
   "metadata": {},
   "source": [
    "What would be the probability of getting 7 heads out of 10 trails?"
   ]
  },
  {
   "cell_type": "code",
   "execution_count": 105,
   "id": "2cd227aa",
   "metadata": {},
   "outputs": [
    {
     "data": {
      "text/plain": [
       "0.11718749999999999"
      ]
     },
     "execution_count": 105,
     "metadata": {},
     "output_type": "execute_result"
    }
   ],
   "source": [
    "# binom.pmf( # heads, # trials, prob of success)\n",
    "binom.pmf(7, 10, 0.5)"
   ]
  },
  {
   "cell_type": "markdown",
   "id": "20c887f6",
   "metadata": {},
   "source": [
    "And the probability of getting 7 or fewer heads out of 10 trails?"
   ]
  },
  {
   "cell_type": "code",
   "execution_count": 106,
   "id": "c453bda0",
   "metadata": {},
   "outputs": [
    {
     "data": {
      "text/plain": [
       "0.9453125"
      ]
     },
     "execution_count": 106,
     "metadata": {},
     "output_type": "execute_result"
    }
   ],
   "source": [
    "# binom.cdf( # heads, # trials, prob of success)\n",
    "binom.cdf(7, 10, 0.5)"
   ]
  },
  {
   "cell_type": "markdown",
   "id": "e88b9ce9",
   "metadata": {},
   "source": [
    "What about the probability of getting more than 7 heads?"
   ]
  },
  {
   "cell_type": "code",
   "execution_count": 107,
   "id": "589bfe2b",
   "metadata": {},
   "outputs": [
    {
     "data": {
      "text/plain": [
       "0.0546875"
      ]
     },
     "execution_count": 107,
     "metadata": {},
     "output_type": "execute_result"
    }
   ],
   "source": [
    "1 - binom.cdf(7, 10, 0.5)"
   ]
  },
  {
   "attachments": {
    "image.png": {
     "image/png": "[encoded data removed]"
    }
   },
   "cell_type": "markdown",
   "id": "3f14acc9",
   "metadata": {},
   "source": [
    "### <a id='3.2.3'> Normal distribution </a> \n",
    "The Normal Distribution models a continuous probability distribution where data tends to cluster around a central mean, following a bell-shaped curve. It is characterized by two parameters: the mean $(\\mu)$ representing the central tendency and the standard deviation $(\\sigma)$ determining the spread or dispersion of the data. Approximately 68% of the data falls within one standard deviation of the mean, 95% within two standard deviations, and 99.7% within three standard deviations. The tails of the distribution extend infinitely in both directions, gradually decreasing in probability density. The total area under the curve is 1, reflecting the probability that a randomly chosen value falls within the distribution. Due to the Central Limit Theorem, many real-world phenomena tend to exhibit a normal distribution, reinforcing its widespread applicability in statistical analysis. \n",
    "\n",
    "[![image.png](attachment:image.png)](https://docs.scipy.org/doc/scipy/reference/generated/scipy.stats.norm.html#scipy.stats.norm)"
   ]
  },
  {
   "cell_type": "code",
   "execution_count": 108,
   "id": "d8bdc99e",
   "metadata": {},
   "outputs": [],
   "source": [
    ">>> from scipy.stats import norm"
   ]
  },
  {
   "cell_type": "markdown",
   "id": "b3b011c8",
   "metadata": {},
   "source": [
    "Let's go back to the `deals` dataframe. Since each deal was different, they generated different amounts of money, which is stored in the `amount` column. Let's determine the probability of selling different amounts, but first, let's see which distribution the `amount` column follows. "
   ]
  },
  {
   "cell_type": "code",
   "execution_count": 109,
   "id": "9bbfd83b",
   "metadata": {},
   "outputs": [
    {
     "data": {
      "image/png": "[encoded data removed]",
      "text/plain": [
       "<Figure size 640x480 with 1 Axes>"
      ]
     },
     "metadata": {},
     "output_type": "display_data"
    }
   ],
   "source": [
    "# Let's create a histogram of the amount column\n",
    "deals['amount'].hist(bins=10)\n",
    "plt.show()"
   ]
  },
  {
   "cell_type": "code",
   "execution_count": 110,
   "id": "839b4c24",
   "metadata": {},
   "outputs": [],
   "source": [
    "# We define the mean and std\n",
    "mean = deals['amount'].mean()\n",
    "std = deals['amount'].std()"
   ]
  },
  {
   "cell_type": "markdown",
   "id": "f6368331",
   "metadata": {},
   "source": [
    "What's the probability of a deal closing with less than \\$6500?"
   ]
  },
  {
   "cell_type": "code",
   "execution_count": 111,
   "id": "37b9a9f3",
   "metadata": {},
   "outputs": [
    {
     "data": {
      "text/plain": [
       "0.7939331610978384"
      ]
     },
     "execution_count": 111,
     "metadata": {},
     "output_type": "execute_result"
    }
   ],
   "source": [
    "norm.cdf(6500, mean, std)"
   ]
  },
  {
   "cell_type": "markdown",
   "id": "500ab5f4",
   "metadata": {},
   "source": [
    "What's the probability of a deal closing with more than \\$1000?"
   ]
  },
  {
   "cell_type": "code",
   "execution_count": 112,
   "id": "f6d6a852",
   "metadata": {},
   "outputs": [
    {
     "data": {
      "text/plain": [
       "0.9679962803797577"
      ]
     },
     "execution_count": 112,
     "metadata": {},
     "output_type": "execute_result"
    }
   ],
   "source": [
    "1 - norm.cdf(1000, mean, std)"
   ]
  },
  {
   "cell_type": "markdown",
   "id": "b74b0553",
   "metadata": {},
   "source": [
    "What's the probability a deal worth between $1000 and 6500?"
   ]
  },
  {
   "cell_type": "code",
   "execution_count": 113,
   "id": "03f52c6d",
   "metadata": {},
   "outputs": [
    {
     "data": {
      "text/plain": [
       "0.7619294414775961"
      ]
     },
     "execution_count": 113,
     "metadata": {},
     "output_type": "execute_result"
    }
   ],
   "source": [
    "norm.cdf(6500, mean, std) - norm.cdf(1000, mean, std)"
   ]
  },
  {
   "cell_type": "markdown",
   "id": "e3e10fc9",
   "metadata": {},
   "source": [
    "Calculate the amount that 50% of deals will be less than"
   ]
  },
  {
   "cell_type": "code",
   "execution_count": 114,
   "id": "c2833e0a",
   "metadata": {},
   "outputs": [
    {
     "data": {
      "text/plain": [
       "4812.000337078652"
      ]
     },
     "execution_count": 114,
     "metadata": {},
     "output_type": "execute_result"
    }
   ],
   "source": [
    "norm.ppf(0.50, mean, std)"
   ]
  },
  {
   "cell_type": "markdown",
   "id": "258bf64f",
   "metadata": {},
   "source": [
    "We can now generate random values with the mean and std. Then, we can plot it to see its distribution."
   ]
  },
  {
   "cell_type": "code",
   "execution_count": 115,
   "id": "99e6cc0d",
   "metadata": {},
   "outputs": [
    {
     "data": {
      "image/png": "[encoded data removed]",
      "text/plain": [
       "<Figure size 640x480 with 1 Axes>"
      ]
     },
     "metadata": {},
     "output_type": "display_data"
    }
   ],
   "source": [
    "sales = norm.rvs(mean, std, size= 50)\n",
    "\n",
    "plt.hist(sales)\n",
    "plt.show()"
   ]
  },
  {
   "cell_type": "markdown",
   "id": "125c23c7",
   "metadata": {},
   "source": [
    "To see more about other probability distributions available in `scipy.stats` you can go:\n",
    "https://docs.scipy.org/doc/scipy/reference/stats.html"
   ]
  }
 ],
 "metadata": {
  "kernelspec": {
   "display_name": "Python 3 (ipykernel)",
   "language": "python",
   "name": "python3"
  },
  "language_info": {
   "codemirror_mode": {
    "name": "ipython",
    "version": 3
   },
   "file_extension": ".py",
   "mimetype": "text/x-python",
   "name": "python",
   "nbconvert_exporter": "python",
   "pygments_lexer": "ipython3",
   "version": "3.9.13"
  }
 },
 "nbformat": 4,
 "nbformat_minor": 5
}
